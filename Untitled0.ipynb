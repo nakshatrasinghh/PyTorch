{
  "nbformat": 4,
  "nbformat_minor": 0,
  "metadata": {
    "colab": {
      "name": "Untitled0.ipynb",
      "provenance": []
    },
    "kernelspec": {
      "name": "python3",
      "display_name": "Python 3"
    }
  },
  "cells": [
    {
      "cell_type": "markdown",
      "metadata": {
        "id": "pn0_qd3vhBgc",
        "colab_type": "text"
      },
      "source": [
        "##*Do Pretrained Embeddings Give You The Extra Edge?*\n",
        "By Nakshatra Singh "
      ]
    },
    {
      "cell_type": "markdown",
      "metadata": {
        "id": "rSZEuq7JhFm7",
        "colab_type": "text"
      },
      "source": [
        "This notebook will show you if *Pretrained Word Embeddings* give you an edge while training models. "
      ]
    },
    {
      "cell_type": "markdown",
      "metadata": {
        "id": "hgsvJy-fhHx3",
        "colab_type": "text"
      },
      "source": [
        "##Using Google GPU for Training\n",
        "\n",
        "Google colab offers free GPUs and TPUs! Since we'll be training a large model it's best to take advantage of this (in this case we'll use GPU), otherwise training can take long time.\n",
        "\n",
        "A GPU can be added by going to the menu and selecting:\n",
        "\n",
        "`Edit -> Notebook Settings -> Hardware Accelerator -> (GPU)`\n",
        "\n",
        "Then run the following cell to confirm that a GPU is detected. "
      ]
    },
    {
      "cell_type": "code",
      "metadata": {
        "id": "VX53efEng73d",
        "colab_type": "code",
        "colab": {}
      },
      "source": [
        "import tensorflow as tf\n",
        "# Get the device GPU name \n",
        "device_name = tf.test.gpu_device_name()\n",
        "\n",
        "# The device name should look like the following:\n",
        "if device_name == '/device:GPU:0':\n",
        "  print('Found GPU at : {}'.format(device_name)) \n",
        "else:\n",
        "  raise SystemError('GPU not found!')  "
      ],
      "execution_count": null,
      "outputs": []
    }
  ]
}