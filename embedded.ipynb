{
  "nbformat": 4,
  "nbformat_minor": 0,
  "metadata": {
    "colab": {
      "name": "Do Pretrained Embeddings Give You The Extra Edge?.ipynb",
      "provenance": [],
      "collapsed_sections": []
    },
    "kernelspec": {
      "name": "python3",
      "display_name": "Python 3"
    },
    "accelerator": "GPU"
  },
  "cells": [
    {
      "cell_type": "markdown",
      "metadata": {
        "id": "cSq4N8olkhzo",
        "colab_type": "text"
      },
      "source": [
        "##*Do Pretrained Embeddings Give You The Extra Edge?*\n",
        "By Nakshatra Singh"
      ]
    },
    {
      "cell_type": "markdown",
      "metadata": {
        "id": "Wt9p4eGErlwk",
        "colab_type": "text"
      },
      "source": [
        "This notebook will show you if *Pretrained Word Embeddings* give you an edge while training models."
      ]
    },
    {
      "cell_type": "markdown",
      "metadata": {
        "id": "R0EbXPK1r4Xy",
        "colab_type": "text"
      },
      "source": [
        "##Using Google GPU for Training\n",
        "\n",
        "Google colab offers free GPUs and TPUs! Since we'll be training a large model it's best to take advantage of this (in this case we'll use GPU), otherwise training can take long time.\n",
        "\n",
        "A GPU can be added by going to the menu and selecting:\n",
        "\n",
        "`Edit -> Notebook Settings -> Hardware Accelerator -> (GPU)`\n",
        "\n",
        "Then run the following cell to confirm that a GPU is detected."
      ]
    },
    {
      "cell_type": "code",
      "metadata": {
        "id": "3HlbFnrrr5W1",
        "colab_type": "code",
        "colab": {
          "base_uri": "https://localhost:8080/",
          "height": 35
        },
        "outputId": "48a821a4-04b3-440d-9a38-d6b68da13fc1"
      },
      "source": [
        "import tensorflow as tf\n",
        "# Get the device GPU name \n",
        "device_name = tf.test.gpu_device_name()\n",
        "\n",
        "# The device name should look like the following:\n",
        "if device_name == '/device:GPU:0':\n",
        "  print('Found GPU at : {}'.format(device_name)) \n",
        "else:\n",
        "  raise SystemError('GPU not found!') "
      ],
      "execution_count": null,
      "outputs": [
        {
          "output_type": "stream",
          "text": [
            "Found GPU at : /device:GPU:0\n"
          ],
          "name": "stdout"
        }
      ]
    },
    {
      "cell_type": "markdown",
      "metadata": {
        "id": "4jnmAMwBr-3f",
        "colab_type": "text"
      },
      "source": [
        "###**1. Retrieve and Inspect Dataset** "
      ]
    },
    {
      "cell_type": "markdown",
      "metadata": {
        "id": "7Yt5C_1boTde",
        "colab_type": "text"
      },
      "source": [
        "Let's download the dataset which is uploaded on my google drive. "
      ]
    },
    {
      "cell_type": "code",
      "metadata": {
        "id": "nI7uQbYk5chI",
        "colab_type": "code",
        "colab": {
          "base_uri": "https://localhost:8080/",
          "height": 87
        },
        "outputId": "76740931-bb33-414a-8b63-20e1fd14370e"
      },
      "source": [
        "!gdown --id 11Yk7Xh4iekxZM6yEwerfHicx0p5_JC7m"
      ],
      "execution_count": null,
      "outputs": [
        {
          "output_type": "stream",
          "text": [
            "Downloading...\n",
            "From: https://drive.google.com/uc?id=11Yk7Xh4iekxZM6yEwerfHicx0p5_JC7m\n",
            "To: /content/train.csv\n",
            "68.8MB [00:00, 122MB/s] \n"
          ],
          "name": "stdout"
        }
      ]
    },
    {
      "cell_type": "markdown",
      "metadata": {
        "id": "DAhoHn9voWYl",
        "colab_type": "text"
      },
      "source": [
        "Let's setup the import which are needed for this demonstration. We'll import a few more which are not needed but they wont harm, so why not? :)"
      ]
    },
    {
      "cell_type": "code",
      "metadata": {
        "id": "BZqZ5OVn5c5w",
        "colab_type": "code",
        "colab": {
          "base_uri": "https://localhost:8080/",
          "height": 72
        },
        "outputId": "c0c5b8b6-ab88-41e8-c74e-e35cd53dbbce"
      },
      "source": [
        "from keras.models import Sequential\n",
        "from keras.layers.recurrent import GRU\n",
        "from keras.layers.core import Dense, Activation, Dropout\n",
        "from keras.layers.embeddings import Embedding\n",
        "from keras.layers.normalization import BatchNormalization\n",
        "from keras.utils import np_utils\n",
        "from sklearn import preprocessing, decomposition, model_selection, metrics, pipeline\n",
        "from keras.layers import GlobalMaxPooling1D, Conv1D, MaxPooling1D, Flatten, Bidirectional, SpatialDropout1D\n",
        "from keras.preprocessing import sequence, text\n",
        "from keras.callbacks import EarlyStopping\n",
        "\n",
        "\n",
        "import matplotlib.pyplot as plt\n",
        "import seaborn as sns\n",
        "%matplotlib inline\n",
        "from plotly import graph_objs as go\n",
        "import plotly.express as px\n",
        "import plotly.figure_factory as ff "
      ],
      "execution_count": null,
      "outputs": [
        {
          "output_type": "stream",
          "text": [
            "/usr/local/lib/python3.6/dist-packages/statsmodels/tools/_testing.py:19: FutureWarning: pandas.util.testing is deprecated. Use the functions in the public API at pandas.testing instead.\n",
            "  import pandas.util.testing as tm\n"
          ],
          "name": "stderr"
        }
      ]
    },
    {
      "cell_type": "markdown",
      "metadata": {
        "id": "fm6dBSqQoq9F",
        "colab_type": "text"
      },
      "source": [
        "We'll use `pandas` to parse the csv files."
      ]
    },
    {
      "cell_type": "code",
      "metadata": {
        "id": "liRrh8F75c3Y",
        "colab_type": "code",
        "colab": {}
      },
      "source": [
        "import pandas as pd \n",
        "train = pd.read_csv('/content/train.csv')"
      ],
      "execution_count": null,
      "outputs": []
    },
    {
      "cell_type": "markdown",
      "metadata": {
        "id": "41h2X7g5otPe",
        "colab_type": "text"
      },
      "source": [
        "Let's take a look at the first few rows of the table just to see what's in there."
      ]
    },
    {
      "cell_type": "code",
      "metadata": {
        "id": "ggAfL7hJ5c08",
        "colab_type": "code",
        "colab": {
          "base_uri": "https://localhost:8080/",
          "height": 202
        },
        "outputId": "b92ff1d3-65a8-4a2c-b466-fb034b497c55"
      },
      "source": [
        "train.head() "
      ],
      "execution_count": null,
      "outputs": [
        {
          "output_type": "execute_result",
          "data": {
            "text/html": [
              "<div>\n",
              "<style scoped>\n",
              "    .dataframe tbody tr th:only-of-type {\n",
              "        vertical-align: middle;\n",
              "    }\n",
              "\n",
              "    .dataframe tbody tr th {\n",
              "        vertical-align: top;\n",
              "    }\n",
              "\n",
              "    .dataframe thead th {\n",
              "        text-align: right;\n",
              "    }\n",
              "</style>\n",
              "<table border=\"1\" class=\"dataframe\">\n",
              "  <thead>\n",
              "    <tr style=\"text-align: right;\">\n",
              "      <th></th>\n",
              "      <th>id</th>\n",
              "      <th>comment_text</th>\n",
              "      <th>toxic</th>\n",
              "      <th>severe_toxic</th>\n",
              "      <th>obscene</th>\n",
              "      <th>threat</th>\n",
              "      <th>insult</th>\n",
              "      <th>identity_hate</th>\n",
              "    </tr>\n",
              "  </thead>\n",
              "  <tbody>\n",
              "    <tr>\n",
              "      <th>0</th>\n",
              "      <td>0000997932d777bf</td>\n",
              "      <td>Explanation\\nWhy the edits made under my usern...</td>\n",
              "      <td>0</td>\n",
              "      <td>0</td>\n",
              "      <td>0</td>\n",
              "      <td>0</td>\n",
              "      <td>0</td>\n",
              "      <td>0</td>\n",
              "    </tr>\n",
              "    <tr>\n",
              "      <th>1</th>\n",
              "      <td>000103f0d9cfb60f</td>\n",
              "      <td>D'aww! He matches this background colour I'm s...</td>\n",
              "      <td>0</td>\n",
              "      <td>0</td>\n",
              "      <td>0</td>\n",
              "      <td>0</td>\n",
              "      <td>0</td>\n",
              "      <td>0</td>\n",
              "    </tr>\n",
              "    <tr>\n",
              "      <th>2</th>\n",
              "      <td>000113f07ec002fd</td>\n",
              "      <td>Hey man, I'm really not trying to edit war. It...</td>\n",
              "      <td>0</td>\n",
              "      <td>0</td>\n",
              "      <td>0</td>\n",
              "      <td>0</td>\n",
              "      <td>0</td>\n",
              "      <td>0</td>\n",
              "    </tr>\n",
              "    <tr>\n",
              "      <th>3</th>\n",
              "      <td>0001b41b1c6bb37e</td>\n",
              "      <td>\"\\nMore\\nI can't make any real suggestions on ...</td>\n",
              "      <td>0</td>\n",
              "      <td>0</td>\n",
              "      <td>0</td>\n",
              "      <td>0</td>\n",
              "      <td>0</td>\n",
              "      <td>0</td>\n",
              "    </tr>\n",
              "    <tr>\n",
              "      <th>4</th>\n",
              "      <td>0001d958c54c6e35</td>\n",
              "      <td>You, sir, are my hero. Any chance you remember...</td>\n",
              "      <td>0</td>\n",
              "      <td>0</td>\n",
              "      <td>0</td>\n",
              "      <td>0</td>\n",
              "      <td>0</td>\n",
              "      <td>0</td>\n",
              "    </tr>\n",
              "  </tbody>\n",
              "</table>\n",
              "</div>"
            ],
            "text/plain": [
              "                 id  ... identity_hate\n",
              "0  0000997932d777bf  ...             0\n",
              "1  000103f0d9cfb60f  ...             0\n",
              "2  000113f07ec002fd  ...             0\n",
              "3  0001b41b1c6bb37e  ...             0\n",
              "4  0001d958c54c6e35  ...             0\n",
              "\n",
              "[5 rows x 8 columns]"
            ]
          },
          "metadata": {
            "tags": []
          },
          "execution_count": 6
        }
      ]
    },
    {
      "cell_type": "markdown",
      "metadata": {
        "id": "SQFeA440oucG",
        "colab_type": "text"
      },
      "source": [
        "I'll drop the other multilabel-multiclass columns to make this a binary classification problem."
      ]
    },
    {
      "cell_type": "code",
      "metadata": {
        "id": "G-yfLrOO5wOC",
        "colab_type": "code",
        "colab": {}
      },
      "source": [
        "train.drop(['severe_toxic','obscene','threat','insult','identity_hate'],axis=1,inplace=True) "
      ],
      "execution_count": null,
      "outputs": []
    },
    {
      "cell_type": "markdown",
      "metadata": {
        "id": "wEZK1mkco8-r",
        "colab_type": "text"
      },
      "source": [
        "we will have our exercise done on a smaller subsection of the dataset(only 10000 data points) to make it easier to train the models."
      ]
    },
    {
      "cell_type": "code",
      "metadata": {
        "id": "1z7mZt0p51pK",
        "colab_type": "code",
        "colab": {
          "base_uri": "https://localhost:8080/",
          "height": 35
        },
        "outputId": "845d8ae5-e397-4586-bcd9-cd510ea48de8"
      },
      "source": [
        "train = train.loc[:10000,:]\n",
        "train.shape"
      ],
      "execution_count": null,
      "outputs": [
        {
          "output_type": "execute_result",
          "data": {
            "text/plain": [
              "(10001, 3)"
            ]
          },
          "metadata": {
            "tags": []
          },
          "execution_count": 8
        }
      ]
    },
    {
      "cell_type": "markdown",
      "metadata": {
        "id": "R4f08KvwrXtS",
        "colab_type": "text"
      },
      "source": [
        "We will check the maximum number of words that can be present in a comment , this will help us in padding later."
      ]
    },
    {
      "cell_type": "code",
      "metadata": {
        "id": "Z0outOOn54Ny",
        "colab_type": "code",
        "colab": {
          "base_uri": "https://localhost:8080/",
          "height": 35
        },
        "outputId": "d1561d8d-c1bb-4de7-87c9-cce34b7172cf"
      },
      "source": [
        "train['comment_text'].apply(lambda x:len(str(x).split())).max() "
      ],
      "execution_count": null,
      "outputs": [
        {
          "output_type": "execute_result",
          "data": {
            "text/plain": [
              "1403"
            ]
          },
          "metadata": {
            "tags": []
          },
          "execution_count": 9
        }
      ]
    },
    {
      "cell_type": "markdown",
      "metadata": {
        "id": "fYiw-NmgraWY",
        "colab_type": "text"
      },
      "source": [
        "Writing a function for getting auc score for validation."
      ]
    },
    {
      "cell_type": "code",
      "metadata": {
        "id": "MZZlxXqx57Xy",
        "colab_type": "code",
        "colab": {}
      },
      "source": [
        "def roc_auc(predictions,target):\n",
        "    '''\n",
        "    This methods returns the AUC Score when given the Predictions\n",
        "    and Labels\n",
        "    '''\n",
        "    \n",
        "    fpr, tpr, thresholds = metrics.roc_curve(target, predictions)\n",
        "    roc_auc = metrics.auc(fpr, tpr)\n",
        "    return roc_auc "
      ],
      "execution_count": null,
      "outputs": []
    },
    {
      "cell_type": "markdown",
      "metadata": {
        "id": "mLCjp-rIrb-F",
        "colab_type": "text"
      },
      "source": [
        "###**2. Data Preparation**"
      ]
    },
    {
      "cell_type": "markdown",
      "metadata": {
        "id": "tk4fT94buoJ4",
        "colab_type": "text"
      },
      "source": [
        "1) Divide up our dataset to use 90% for training and 10% for validation."
      ]
    },
    {
      "cell_type": "code",
      "metadata": {
        "id": "lEbVqSdJ595Z",
        "colab_type": "code",
        "colab": {}
      },
      "source": [
        "from sklearn.model_selection import train_test_split\n",
        "xtrain, xvalid, ytrain, yvalid = train_test_split(train.comment_text.values, train.toxic.values, \n",
        "                                                  stratify=train.toxic.values, \n",
        "                                                  random_state=42, \n",
        "                                                  test_size=0.1, shuffle=True) "
      ],
      "execution_count": null,
      "outputs": []
    },
    {
      "cell_type": "markdown",
      "metadata": {
        "id": "ek8BZ3mMuwV4",
        "colab_type": "text"
      },
      "source": [
        "2) Tokenize and Pad the sequences. "
      ]
    },
    {
      "cell_type": "code",
      "metadata": {
        "id": "pPWdN08p7oJX",
        "colab_type": "code",
        "colab": {}
      },
      "source": [
        "# using keras tokenizer here\n",
        "token = text.Tokenizer(num_words=None)\n",
        "max_len = 1500\n",
        "\n",
        "token.fit_on_texts(list(xtrain) + list(xvalid))\n",
        "xtrain_seq = token.texts_to_sequences(xtrain)\n",
        "xvalid_seq = token.texts_to_sequences(xvalid)\n",
        "\n",
        "#zero pad the sequences\n",
        "xtrain_pad = sequence.pad_sequences(xtrain_seq, maxlen=max_len)\n",
        "xvalid_pad = sequence.pad_sequences(xvalid_seq, maxlen=max_len)\n",
        "\n",
        "word_index = token.word_index "
      ],
      "execution_count": null,
      "outputs": []
    },
    {
      "cell_type": "markdown",
      "metadata": {
        "id": "BKmtW4zRG04f",
        "colab_type": "text"
      },
      "source": [
        "###**3. Embeddings**"
      ]
    },
    {
      "cell_type": "markdown",
      "metadata": {
        "id": "yPN7tih2G8jw",
        "colab_type": "text"
      },
      "source": [
        "### 3.1 GloVe Embeddings"
      ]
    },
    {
      "cell_type": "markdown",
      "metadata": {
        "id": "-5LUAAFfGLYS",
        "colab_type": "text"
      },
      "source": [
        "First we'll load the GloVe Vector Embeddings provided by Standord."
      ]
    },
    {
      "cell_type": "code",
      "metadata": {
        "id": "o2k7p_E76Fwi",
        "colab_type": "code",
        "colab": {
          "base_uri": "https://localhost:8080/",
          "height": 364
        },
        "outputId": "9db4aeb3-8e0d-40bb-a4d0-f672512dfb63"
      },
      "source": [
        "!wget http://nlp.stanford.edu/data/glove.6B.zip "
      ],
      "execution_count": null,
      "outputs": [
        {
          "output_type": "stream",
          "text": [
            "--2020-09-02 18:55:56--  http://nlp.stanford.edu/data/glove.6B.zip\n",
            "Resolving nlp.stanford.edu (nlp.stanford.edu)... 171.64.67.140\n",
            "Connecting to nlp.stanford.edu (nlp.stanford.edu)|171.64.67.140|:80... connected.\n",
            "HTTP request sent, awaiting response... 302 Found\n",
            "Location: https://nlp.stanford.edu/data/glove.6B.zip [following]\n",
            "--2020-09-02 18:55:56--  https://nlp.stanford.edu/data/glove.6B.zip\n",
            "Connecting to nlp.stanford.edu (nlp.stanford.edu)|171.64.67.140|:443... connected.\n",
            "HTTP request sent, awaiting response... 301 Moved Permanently\n",
            "Location: http://downloads.cs.stanford.edu/nlp/data/glove.6B.zip [following]\n",
            "--2020-09-02 18:55:56--  http://downloads.cs.stanford.edu/nlp/data/glove.6B.zip\n",
            "Resolving downloads.cs.stanford.edu (downloads.cs.stanford.edu)... 171.64.64.22\n",
            "Connecting to downloads.cs.stanford.edu (downloads.cs.stanford.edu)|171.64.64.22|:80... connected.\n",
            "HTTP request sent, awaiting response... 200 OK\n",
            "Length: 862182613 (822M) [application/zip]\n",
            "Saving to: ‘glove.6B.zip’\n",
            "\n",
            "glove.6B.zip        100%[===================>] 822.24M  2.09MB/s    in 6m 26s  \n",
            "\n",
            "2020-09-02 19:02:23 (2.13 MB/s) - ‘glove.6B.zip’ saved [862182613/862182613]\n",
            "\n"
          ],
          "name": "stdout"
        }
      ]
    },
    {
      "cell_type": "markdown",
      "metadata": {
        "id": "8nFlW4MJGU5H",
        "colab_type": "text"
      },
      "source": [
        "Now, let's unzip the file and use the `300 dimension vectors`.\n"
      ]
    },
    {
      "cell_type": "code",
      "metadata": {
        "id": "jr0hKig06VIK",
        "colab_type": "code",
        "colab": {
          "base_uri": "https://localhost:8080/",
          "height": 104
        },
        "outputId": "190d0ecb-8c7c-46af-e177-a7c8f1298611"
      },
      "source": [
        "!unzip glove*.zip  "
      ],
      "execution_count": null,
      "outputs": [
        {
          "output_type": "stream",
          "text": [
            "Archive:  glove.6B.zip\n",
            "  inflating: glove.6B.50d.txt        \n",
            "  inflating: glove.6B.100d.txt       \n",
            "  inflating: glove.6B.200d.txt       \n",
            "  inflating: glove.6B.300d.txt       \n"
          ],
          "name": "stdout"
        }
      ]
    },
    {
      "cell_type": "markdown",
      "metadata": {
        "id": "DStJQ_VUGjoR",
        "colab_type": "text"
      },
      "source": [
        "Loading the GloVe vectors in an empty dictionary."
      ]
    },
    {
      "cell_type": "code",
      "metadata": {
        "id": "jd1dbEl_6Wv6",
        "colab_type": "code",
        "colab": {
          "base_uri": "https://localhost:8080/",
          "height": 52
        },
        "outputId": "888fd8ba-16f0-4acc-99e4-ac400ea52f22"
      },
      "source": [
        "import numpy as np\n",
        "from tqdm import tqdm\n",
        "embeddings_index_glove = {}\n",
        "f = open('/content/glove.6B.300d.txt','r',encoding='utf-8')\n",
        "for line in tqdm(f):\n",
        "    values = line.split(' ')\n",
        "    word = values[0]\n",
        "    coefs = np.asarray([float(val) for val in values[1:]])\n",
        "    embeddings_index_glove[word] = coefs\n",
        "f.close()\n",
        "\n",
        "print('Found %s word vectors.' % len(embeddings_index_glove)) "
      ],
      "execution_count": null,
      "outputs": [
        {
          "output_type": "stream",
          "text": [
            "400000it [00:37, 10587.69it/s]"
          ],
          "name": "stderr"
        },
        {
          "output_type": "stream",
          "text": [
            "Found 400000 word vectors.\n"
          ],
          "name": "stdout"
        },
        {
          "output_type": "stream",
          "text": [
            "\n"
          ],
          "name": "stderr"
        }
      ]
    },
    {
      "cell_type": "markdown",
      "metadata": {
        "id": "Y8pAKGHEGpy6",
        "colab_type": "text"
      },
      "source": [
        "Creating an embedding matrix for the words we have in the dataset."
      ]
    },
    {
      "cell_type": "code",
      "metadata": {
        "id": "kN4d2M3S6kxx",
        "colab_type": "code",
        "colab": {
          "base_uri": "https://localhost:8080/",
          "height": 35
        },
        "outputId": "3633faa2-0aaf-48f8-c4ae-5f7d491a7991"
      },
      "source": [
        "embedding_matrix_glove = np.zeros((len(word_index) + 1, 300))\n",
        "for word, i in tqdm(word_index.items()):\n",
        "    embedding_vector = embeddings_index_glove.get(word)\n",
        "    if embedding_vector is not None:\n",
        "        embedding_matrix_glove[i] = embedding_vector "
      ],
      "execution_count": null,
      "outputs": [
        {
          "output_type": "stream",
          "text": [
            "100%|██████████| 38847/38847 [00:00<00:00, 478763.45it/s]\n"
          ],
          "name": "stderr"
        }
      ]
    },
    {
      "cell_type": "markdown",
      "metadata": {
        "id": "gAyDy0dIHNnu",
        "colab_type": "text"
      },
      "source": [
        "### 3.2 fastText Embeddings"
      ]
    },
    {
      "cell_type": "markdown",
      "metadata": {
        "id": "RSyi17kLH1iY",
        "colab_type": "text"
      },
      "source": [
        "Now we'll load the fastText Vector Embeddings provided by Facebook."
      ]
    },
    {
      "cell_type": "code",
      "metadata": {
        "id": "l8KSIFUG9S5q",
        "colab_type": "code",
        "colab": {
          "base_uri": "https://localhost:8080/",
          "height": 208
        },
        "outputId": "beb6249e-cabb-4cfc-a3b3-36b1101cfcf8"
      },
      "source": [
        "!wget https://dl.fbaipublicfiles.com/fasttext/vectors-english/wiki-news-300d-1M-subword.vec.zip "
      ],
      "execution_count": null,
      "outputs": [
        {
          "output_type": "stream",
          "text": [
            "--2020-09-02 19:03:32--  https://dl.fbaipublicfiles.com/fasttext/vectors-english/wiki-news-300d-1M-subword.vec.zip\n",
            "Resolving dl.fbaipublicfiles.com (dl.fbaipublicfiles.com)... 104.22.74.142, 104.22.75.142, 172.67.9.4, ...\n",
            "Connecting to dl.fbaipublicfiles.com (dl.fbaipublicfiles.com)|104.22.74.142|:443... connected.\n",
            "HTTP request sent, awaiting response... 200 OK\n",
            "Length: 587879973 (561M) [application/zip]\n",
            "Saving to: ‘wiki-news-300d-1M-subword.vec.zip’\n",
            "\n",
            "wiki-news-300d-1M-s 100%[===================>] 560.65M  38.8MB/s    in 16s     \n",
            "\n",
            "2020-09-02 19:03:48 (35.4 MB/s) - ‘wiki-news-300d-1M-subword.vec.zip’ saved [587879973/587879973]\n",
            "\n"
          ],
          "name": "stdout"
        }
      ]
    },
    {
      "cell_type": "markdown",
      "metadata": {
        "id": "6Pfvcqm7IXww",
        "colab_type": "text"
      },
      "source": [
        "Now, let's unzip the file and use the `300 dimension vectors`.\n"
      ]
    },
    {
      "cell_type": "code",
      "metadata": {
        "id": "WjvnWK_a9rBj",
        "colab_type": "code",
        "colab": {
          "base_uri": "https://localhost:8080/",
          "height": 52
        },
        "outputId": "3bc406b6-69c9-48ee-a9ec-81c344585768"
      },
      "source": [
        "!unzip wiki-news-300d-1M-subword*.zip "
      ],
      "execution_count": null,
      "outputs": [
        {
          "output_type": "stream",
          "text": [
            "Archive:  wiki-news-300d-1M-subword.vec.zip\n",
            "  inflating: wiki-news-300d-1M-subword.vec  \n"
          ],
          "name": "stdout"
        }
      ]
    },
    {
      "cell_type": "markdown",
      "metadata": {
        "id": "qxZczikQIc4L",
        "colab_type": "text"
      },
      "source": [
        "Loading the fastText vectors in an empty dictionary."
      ]
    },
    {
      "cell_type": "code",
      "metadata": {
        "id": "n_3kDpXZ9-Yk",
        "colab_type": "code",
        "colab": {
          "base_uri": "https://localhost:8080/",
          "height": 52
        },
        "outputId": "c89ed5d8-8e70-4cbb-a359-c8ff8098df6b"
      },
      "source": [
        "embeddings_index_fasttext = {}\n",
        "f = open('/content/wiki-news-300d-1M-subword.vec','r',encoding='utf-8')\n",
        "for line in tqdm(f):\n",
        "    values = line.split(' ')\n",
        "    word = values[0]\n",
        "    coefs = np.asarray([float(val) for val in values[1:]])\n",
        "    embeddings_index_fasttext[word] = coefs\n",
        "f.close()\n",
        "\n",
        "print('Found %s word vectors.' % len(embeddings_index_fasttext)) "
      ],
      "execution_count": null,
      "outputs": [
        {
          "output_type": "stream",
          "text": [
            "999995it [01:30, 10989.25it/s]"
          ],
          "name": "stderr"
        },
        {
          "output_type": "stream",
          "text": [
            "Found 999995 word vectors.\n"
          ],
          "name": "stdout"
        },
        {
          "output_type": "stream",
          "text": [
            "\n"
          ],
          "name": "stderr"
        }
      ]
    },
    {
      "cell_type": "markdown",
      "metadata": {
        "id": "N1__2A4JI0cG",
        "colab_type": "text"
      },
      "source": [
        "Creating an embedding matrix for the words we have in the dataset."
      ]
    },
    {
      "cell_type": "code",
      "metadata": {
        "id": "S-K56mVU-Pxq",
        "colab_type": "code",
        "colab": {
          "base_uri": "https://localhost:8080/",
          "height": 35
        },
        "outputId": "fcca1286-e210-422e-f8c4-32e567c77678"
      },
      "source": [
        "embedding_matrix_fasttext = np.zeros((len(word_index) + 1, 300))\n",
        "for word, i in tqdm(word_index.items()):\n",
        "    embedding_vector = embeddings_index_fasttext.get(word)\n",
        "    if embedding_vector is not None:\n",
        "        embedding_matrix_fasttext[i] = embedding_vector "
      ],
      "execution_count": null,
      "outputs": [
        {
          "output_type": "stream",
          "text": [
            "100%|██████████| 38847/38847 [00:00<00:00, 471611.54it/s]\n"
          ],
          "name": "stderr"
        }
      ]
    },
    {
      "cell_type": "markdown",
      "metadata": {
        "id": "jELgPLa_Jyxf",
        "colab_type": "text"
      },
      "source": [
        "###**4. Gated Recurrent Unit (GRU)**"
      ]
    },
    {
      "cell_type": "markdown",
      "metadata": {
        "id": "0P8z28GuKaEU",
        "colab_type": "text"
      },
      "source": [
        "Before we start training, I'll create an empty list which will contain AUC scores of each model and we can do some impressive visualizations with it."
      ]
    },
    {
      "cell_type": "code",
      "metadata": {
        "id": "1WWwytRcKuZo",
        "colab_type": "code",
        "colab": {}
      },
      "source": [
        "scores_model_embeddings = [] "
      ],
      "execution_count": null,
      "outputs": []
    },
    {
      "cell_type": "markdown",
      "metadata": {
        "id": "NtBKKMrPKNdB",
        "colab_type": "text"
      },
      "source": [
        "### 4.1 GRU with GloVe Embeddings"
      ]
    },
    {
      "cell_type": "code",
      "metadata": {
        "id": "hDrt89aW8Hbn",
        "colab_type": "code",
        "colab": {
          "base_uri": "https://localhost:8080/",
          "height": 329
        },
        "outputId": "13276899-3853-4877-9038-944ecca24912"
      },
      "source": [
        "%%time\n",
        "# GRU with glove embeddings and two dense layers\n",
        "model = Sequential()\n",
        "model.add(Embedding(len(word_index) + 1,\n",
        "                     300,\n",
        "                     weights=[embedding_matrix_glove], #embeddings\n",
        "                     input_length=max_len,\n",
        "                     trainable=False))\n",
        "model.add(SpatialDropout1D(0.3))\n",
        "model.add(GRU(300))\n",
        "model.add(Dense(1, activation='sigmoid'))\n",
        "\n",
        "model.compile(loss='binary_crossentropy', optimizer='adam',metrics=['accuracy'])   \n",
        "    \n",
        "model.summary()"
      ],
      "execution_count": null,
      "outputs": [
        {
          "output_type": "stream",
          "text": [
            "Model: \"sequential\"\n",
            "_________________________________________________________________\n",
            "Layer (type)                 Output Shape              Param #   \n",
            "=================================================================\n",
            "embedding (Embedding)        (None, 1500, 300)         11654400  \n",
            "_________________________________________________________________\n",
            "spatial_dropout1d (SpatialDr (None, 1500, 300)         0         \n",
            "_________________________________________________________________\n",
            "gru (GRU)                    (None, 300)               541800    \n",
            "_________________________________________________________________\n",
            "dense (Dense)                (None, 1)                 301       \n",
            "=================================================================\n",
            "Total params: 12,196,501\n",
            "Trainable params: 542,101\n",
            "Non-trainable params: 11,654,400\n",
            "_________________________________________________________________\n",
            "CPU times: user 439 ms, sys: 95.2 ms, total: 534 ms\n",
            "Wall time: 629 ms\n"
          ],
          "name": "stdout"
        }
      ]
    },
    {
      "cell_type": "markdown",
      "metadata": {
        "id": "QUVnGoyuLVn-",
        "colab_type": "text"
      },
      "source": [
        "Let's fit the model with our final x and y datasets."
      ]
    },
    {
      "cell_type": "code",
      "metadata": {
        "id": "7CbFhI2H8Z5K",
        "colab_type": "code",
        "colab": {
          "base_uri": "https://localhost:8080/",
          "height": 208
        },
        "outputId": "a52d0026-9dd9-4215-e235-0d121eaa1c28"
      },
      "source": [
        "model.fit(xtrain_pad, ytrain, epochs=5, batch_size=64)"
      ],
      "execution_count": null,
      "outputs": [
        {
          "output_type": "stream",
          "text": [
            "Epoch 1/5\n",
            "141/141 [==============================] - 25s 176ms/step - loss: 0.2257 - accuracy: 0.9221\n",
            "Epoch 2/5\n",
            "141/141 [==============================] - 25s 174ms/step - loss: 0.1429 - accuracy: 0.9486\n",
            "Epoch 3/5\n",
            "141/141 [==============================] - 25s 174ms/step - loss: 0.1187 - accuracy: 0.9580\n",
            "Epoch 4/5\n",
            "141/141 [==============================] - 25s 175ms/step - loss: 0.1060 - accuracy: 0.9624\n",
            "Epoch 5/5\n",
            "141/141 [==============================] - 25s 176ms/step - loss: 0.0918 - accuracy: 0.9666\n"
          ],
          "name": "stdout"
        },
        {
          "output_type": "execute_result",
          "data": {
            "text/plain": [
              "<tensorflow.python.keras.callbacks.History at 0x7f1121bf97b8>"
            ]
          },
          "metadata": {
            "tags": []
          },
          "execution_count": 23
        }
      ]
    },
    {
      "cell_type": "markdown",
      "metadata": {
        "id": "gCNfiVXULoYr",
        "colab_type": "text"
      },
      "source": [
        "Displaying the AUC score.\n",
        "\n"
      ]
    },
    {
      "cell_type": "code",
      "metadata": {
        "id": "9jj0qDxK8isS",
        "colab_type": "code",
        "colab": {
          "base_uri": "https://localhost:8080/",
          "height": 35
        },
        "outputId": "9d22665c-2ec5-4e6b-b6e5-258934613b82"
      },
      "source": [
        "scores = model.predict(xvalid_pad)\n",
        "print(\"Auc: %.2f%%\" % (roc_auc(scores, yvalid)))  "
      ],
      "execution_count": null,
      "outputs": [
        {
          "output_type": "stream",
          "text": [
            "Auc: 0.97%\n"
          ],
          "name": "stdout"
        }
      ]
    },
    {
      "cell_type": "markdown",
      "metadata": {
        "id": "pShYsN-7LyDW",
        "colab_type": "text"
      },
      "source": [
        "Storing the AUC score in our empty list."
      ]
    },
    {
      "cell_type": "code",
      "metadata": {
        "id": "Wt7xybpK9EXy",
        "colab_type": "code",
        "colab": {}
      },
      "source": [
        "scores_model_embeddings.append({'Model': 'GRU_glove','AUC_Score': roc_auc(scores,yvalid)}) "
      ],
      "execution_count": null,
      "outputs": []
    },
    {
      "cell_type": "markdown",
      "metadata": {
        "id": "W7h7lpoJK1F5",
        "colab_type": "text"
      },
      "source": [
        "### 4.2 GRU with Fasttext Embeddings"
      ]
    },
    {
      "cell_type": "code",
      "metadata": {
        "id": "oAgl-a7u-m8a",
        "colab_type": "code",
        "colab": {
          "base_uri": "https://localhost:8080/",
          "height": 329
        },
        "outputId": "d248c152-ac20-4c8e-e4fe-b03f72beb752"
      },
      "source": [
        "%%time\n",
        "# GRU with fastText embeddings and two dense layers\n",
        "model = Sequential()\n",
        "model.add(Embedding(len(word_index) + 1,\n",
        "                     300,\n",
        "                     weights=[embedding_matrix_fasttext], #embeddings\n",
        "                     input_length=max_len,\n",
        "                     trainable=False))\n",
        "model.add(SpatialDropout1D(0.3))\n",
        "model.add(GRU(300))\n",
        "model.add(Dense(1, activation='sigmoid'))\n",
        "\n",
        "model.compile(loss='binary_crossentropy', optimizer='adam',metrics=['accuracy'])   \n",
        "    \n",
        "model.summary()"
      ],
      "execution_count": null,
      "outputs": [
        {
          "output_type": "stream",
          "text": [
            "Model: \"sequential_1\"\n",
            "_________________________________________________________________\n",
            "Layer (type)                 Output Shape              Param #   \n",
            "=================================================================\n",
            "embedding_1 (Embedding)      (None, 1500, 300)         11654400  \n",
            "_________________________________________________________________\n",
            "spatial_dropout1d_1 (Spatial (None, 1500, 300)         0         \n",
            "_________________________________________________________________\n",
            "gru_1 (GRU)                  (None, 300)               541800    \n",
            "_________________________________________________________________\n",
            "dense_1 (Dense)              (None, 1)                 301       \n",
            "=================================================================\n",
            "Total params: 12,196,501\n",
            "Trainable params: 542,101\n",
            "Non-trainable params: 11,654,400\n",
            "_________________________________________________________________\n",
            "CPU times: user 360 ms, sys: 81.5 ms, total: 441 ms\n",
            "Wall time: 381 ms\n"
          ],
          "name": "stdout"
        }
      ]
    },
    {
      "cell_type": "markdown",
      "metadata": {
        "id": "xErNeAJcMB7G",
        "colab_type": "text"
      },
      "source": [
        "Let's fit the model with our final x and y datasets."
      ]
    },
    {
      "cell_type": "code",
      "metadata": {
        "id": "dPrPUH7F-uwC",
        "colab_type": "code",
        "colab": {
          "base_uri": "https://localhost:8080/",
          "height": 208
        },
        "outputId": "b9417a19-5f0c-4f09-85a1-bb27a3d3e69e"
      },
      "source": [
        "model.fit(xtrain_pad, ytrain, epochs=5, batch_size=64) "
      ],
      "execution_count": null,
      "outputs": [
        {
          "output_type": "stream",
          "text": [
            "Epoch 1/5\n",
            "141/141 [==============================] - 24s 173ms/step - loss: 0.2831 - accuracy: 0.9106\n",
            "Epoch 2/5\n",
            "141/141 [==============================] - 25s 175ms/step - loss: 0.2088 - accuracy: 0.9316\n",
            "Epoch 3/5\n",
            "141/141 [==============================] - 25s 176ms/step - loss: 0.1669 - accuracy: 0.9416\n",
            "Epoch 4/5\n",
            "141/141 [==============================] - 25s 176ms/step - loss: 0.1518 - accuracy: 0.9461\n",
            "Epoch 5/5\n",
            "141/141 [==============================] - 25s 175ms/step - loss: 0.1413 - accuracy: 0.9466\n"
          ],
          "name": "stdout"
        },
        {
          "output_type": "execute_result",
          "data": {
            "text/plain": [
              "<tensorflow.python.keras.callbacks.History at 0x7f11956a3668>"
            ]
          },
          "metadata": {
            "tags": []
          },
          "execution_count": 27
        }
      ]
    },
    {
      "cell_type": "markdown",
      "metadata": {
        "id": "QskcHBbLMJxi",
        "colab_type": "text"
      },
      "source": [
        "Displaying the AUC score.\n",
        "\n",
        " "
      ]
    },
    {
      "cell_type": "code",
      "metadata": {
        "id": "5slY6hIk-zKa",
        "colab_type": "code",
        "colab": {
          "base_uri": "https://localhost:8080/",
          "height": 35
        },
        "outputId": "64685bb2-f576-4cb9-c388-829a387fdb8e"
      },
      "source": [
        "scores = model.predict(xvalid_pad)\n",
        "print(\"Auc: %.2f%%\" % (roc_auc(scores, yvalid)))  "
      ],
      "execution_count": null,
      "outputs": [
        {
          "output_type": "stream",
          "text": [
            "Auc: 0.95%\n"
          ],
          "name": "stdout"
        }
      ]
    },
    {
      "cell_type": "markdown",
      "metadata": {
        "id": "FuvTGNk2MMyY",
        "colab_type": "text"
      },
      "source": [
        "Storing the AUC score in our list. "
      ]
    },
    {
      "cell_type": "code",
      "metadata": {
        "id": "jAPmCoby_Oz6",
        "colab_type": "code",
        "colab": {}
      },
      "source": [
        "scores_model_embeddings.append({'Model': 'GRU_fasttext','AUC_Score': roc_auc(scores,yvalid)})"
      ],
      "execution_count": null,
      "outputs": []
    },
    {
      "cell_type": "markdown",
      "metadata": {
        "id": "Q4A62BIpK-or",
        "colab_type": "text"
      },
      "source": [
        "### 4.3 GRU with No Embeddings"
      ]
    },
    {
      "cell_type": "code",
      "metadata": {
        "id": "Kfl0SJby_TPS",
        "colab_type": "code",
        "colab": {
          "base_uri": "https://localhost:8080/",
          "height": 329
        },
        "outputId": "68e1f039-7206-465a-8092-6f1d4fe01058"
      },
      "source": [
        "%%time\n",
        "# GRU with no embeddings and two dense layers\n",
        "model = Sequential()\n",
        "model.add(Embedding(len(word_index) + 1,\n",
        "                     300,\n",
        "                     input_length=max_len,\n",
        "                     trainable=False))\n",
        "model.add(SpatialDropout1D(0.3))\n",
        "model.add(GRU(300))\n",
        "model.add(Dense(1, activation='sigmoid'))\n",
        "\n",
        "model.compile(loss='binary_crossentropy', optimizer='adam',metrics=['accuracy'])   \n",
        "    \n",
        "model.summary()"
      ],
      "execution_count": null,
      "outputs": [
        {
          "output_type": "stream",
          "text": [
            "Model: \"sequential_2\"\n",
            "_________________________________________________________________\n",
            "Layer (type)                 Output Shape              Param #   \n",
            "=================================================================\n",
            "embedding_2 (Embedding)      (None, 1500, 300)         11654400  \n",
            "_________________________________________________________________\n",
            "spatial_dropout1d_2 (Spatial (None, 1500, 300)         0         \n",
            "_________________________________________________________________\n",
            "gru_2 (GRU)                  (None, 300)               541800    \n",
            "_________________________________________________________________\n",
            "dense_2 (Dense)              (None, 1)                 301       \n",
            "=================================================================\n",
            "Total params: 12,196,501\n",
            "Trainable params: 542,101\n",
            "Non-trainable params: 11,654,400\n",
            "_________________________________________________________________\n",
            "CPU times: user 381 ms, sys: 8.18 ms, total: 389 ms\n",
            "Wall time: 311 ms\n"
          ],
          "name": "stdout"
        }
      ]
    },
    {
      "cell_type": "markdown",
      "metadata": {
        "id": "lX6gSyZAMSHb",
        "colab_type": "text"
      },
      "source": [
        "Let's fit the model with our final x and y datasets. "
      ]
    },
    {
      "cell_type": "code",
      "metadata": {
        "id": "ZrwXjzGCAPZI",
        "colab_type": "code",
        "colab": {
          "base_uri": "https://localhost:8080/",
          "height": 208
        },
        "outputId": "aae41718-4a0d-4de8-f218-e04df211ebfb"
      },
      "source": [
        "model.fit(xtrain_pad, ytrain, epochs=5, batch_size=64)  "
      ],
      "execution_count": null,
      "outputs": [
        {
          "output_type": "stream",
          "text": [
            "Epoch 1/5\n",
            "141/141 [==============================] - 25s 180ms/step - loss: 0.3304 - accuracy: 0.8996\n",
            "Epoch 2/5\n",
            "141/141 [==============================] - 25s 180ms/step - loss: 0.2771 - accuracy: 0.9067\n",
            "Epoch 3/5\n",
            "141/141 [==============================] - 25s 179ms/step - loss: 0.2525 - accuracy: 0.9116\n",
            "Epoch 4/5\n",
            "141/141 [==============================] - 25s 179ms/step - loss: 0.2408 - accuracy: 0.9159\n",
            "Epoch 5/5\n",
            "141/141 [==============================] - 25s 179ms/step - loss: 0.2320 - accuracy: 0.9191\n"
          ],
          "name": "stdout"
        },
        {
          "output_type": "execute_result",
          "data": {
            "text/plain": [
              "<tensorflow.python.keras.callbacks.History at 0x7f11940c0828>"
            ]
          },
          "metadata": {
            "tags": []
          },
          "execution_count": 31
        }
      ]
    },
    {
      "cell_type": "markdown",
      "metadata": {
        "id": "5lQHDA8NMUxY",
        "colab_type": "text"
      },
      "source": [
        "Displaying the AUC score.\n",
        "\n",
        "  "
      ]
    },
    {
      "cell_type": "code",
      "metadata": {
        "id": "fzScNgzCAUaZ",
        "colab_type": "code",
        "colab": {
          "base_uri": "https://localhost:8080/",
          "height": 35
        },
        "outputId": "9bb3b92e-4d73-4809-e4a1-c18d3062533f"
      },
      "source": [
        "scores = model.predict(xvalid_pad)\n",
        "print(\"Auc: %.2f%%\" % (roc_auc(scores, yvalid)))  "
      ],
      "execution_count": null,
      "outputs": [
        {
          "output_type": "stream",
          "text": [
            "Auc: 0.87%\n"
          ],
          "name": "stdout"
        }
      ]
    },
    {
      "cell_type": "markdown",
      "metadata": {
        "id": "R4_RYdDcMX09",
        "colab_type": "text"
      },
      "source": [
        "Storing the AUC score in our list.  "
      ]
    },
    {
      "cell_type": "code",
      "metadata": {
        "id": "ZLU_286iAhXy",
        "colab_type": "code",
        "colab": {}
      },
      "source": [
        "scores_model_embeddings.append({'Model': 'GRU_baseline','AUC_Score': roc_auc(scores,yvalid)})"
      ],
      "execution_count": null,
      "outputs": []
    },
    {
      "cell_type": "markdown",
      "metadata": {
        "id": "QAkD59CtMaHA",
        "colab_type": "text"
      },
      "source": [
        "Now, let's see what our score list looks like."
      ]
    },
    {
      "cell_type": "code",
      "metadata": {
        "id": "0hpXl6mwAkaS",
        "colab_type": "code",
        "colab": {
          "base_uri": "https://localhost:8080/",
          "height": 69
        },
        "outputId": "e8d14489-0926-4031-abd7-3b338bb87868"
      },
      "source": [
        "scores_model_embeddings"
      ],
      "execution_count": null,
      "outputs": [
        {
          "output_type": "execute_result",
          "data": {
            "text/plain": [
              "[{'AUC_Score': 0.9651377611531794, 'Model': 'GRU_glove'},\n",
              " {'AUC_Score': 0.9547942705957486, 'Model': 'GRU_fasttext'},\n",
              " {'AUC_Score': 0.8708831311011769, 'Model': 'GRU_baseline'}]"
            ]
          },
          "metadata": {
            "tags": []
          },
          "execution_count": 34
        }
      ]
    },
    {
      "cell_type": "markdown",
      "metadata": {
        "id": "zf1PFVPHQkc0",
        "colab_type": "text"
      },
      "source": [
        "Finally, I'll store all the losses from different Embeddings."
      ]
    },
    {
      "cell_type": "code",
      "metadata": {
        "id": "P9x5FFwFAnEy",
        "colab_type": "code",
        "colab": {}
      },
      "source": [
        "all_losses = {\n",
        "'glove_loss': [0.2257,\n",
        " 0.1429,\n",
        " 0.1187, \n",
        " 0.1060,\n",
        " 0.0918],\n",
        " 'fasttext_loss': [0.2831,\n",
        " 0.2088,\n",
        " 0.1669,\n",
        " 0.1518,\n",
        " 0.1413],\n",
        " 'baseline_loss': [0.3304,\n",
        " 0.2771,\n",
        " 0.2525,\n",
        " 0.2408,\n",
        " 0.2320],\n",
        "}"
      ],
      "execution_count": null,
      "outputs": []
    },
    {
      "cell_type": "markdown",
      "metadata": {
        "id": "QDhUqPGnNs-c",
        "colab_type": "text"
      },
      "source": [
        "### **5. Visualization**"
      ]
    },
    {
      "cell_type": "code",
      "metadata": {
        "id": "dCn7WKHZDOke",
        "colab_type": "code",
        "colab": {
          "base_uri": "https://localhost:8080/",
          "height": 102
        },
        "outputId": "5eca9fd1-4df8-4d54-cfec-b7b1ddb46b8e"
      },
      "source": [
        "results = pd.DataFrame(scores_model_embeddings).sort_values(by='AUC_Score',ascending=False)\n",
        "results.style.background_gradient(cmap='Blues')"
      ],
      "execution_count": null,
      "outputs": [
        {
          "output_type": "execute_result",
          "data": {
            "text/html": [
              "<style  type=\"text/css\" >\n",
              "    #T_0d4578d2_ed51_11ea_b16e_0242ac1c0002row0_col1 {\n",
              "            background-color:  #08306b;\n",
              "            color:  #f1f1f1;\n",
              "        }    #T_0d4578d2_ed51_11ea_b16e_0242ac1c0002row1_col1 {\n",
              "            background-color:  #084d96;\n",
              "            color:  #f1f1f1;\n",
              "        }    #T_0d4578d2_ed51_11ea_b16e_0242ac1c0002row2_col1 {\n",
              "            background-color:  #f7fbff;\n",
              "            color:  #000000;\n",
              "        }</style><table id=\"T_0d4578d2_ed51_11ea_b16e_0242ac1c0002\" ><thead>    <tr>        <th class=\"blank level0\" ></th>        <th class=\"col_heading level0 col0\" >Model</th>        <th class=\"col_heading level0 col1\" >AUC_Score</th>    </tr></thead><tbody>\n",
              "                <tr>\n",
              "                        <th id=\"T_0d4578d2_ed51_11ea_b16e_0242ac1c0002level0_row0\" class=\"row_heading level0 row0\" >0</th>\n",
              "                        <td id=\"T_0d4578d2_ed51_11ea_b16e_0242ac1c0002row0_col0\" class=\"data row0 col0\" >GRU_glove</td>\n",
              "                        <td id=\"T_0d4578d2_ed51_11ea_b16e_0242ac1c0002row0_col1\" class=\"data row0 col1\" >0.965138</td>\n",
              "            </tr>\n",
              "            <tr>\n",
              "                        <th id=\"T_0d4578d2_ed51_11ea_b16e_0242ac1c0002level0_row1\" class=\"row_heading level0 row1\" >1</th>\n",
              "                        <td id=\"T_0d4578d2_ed51_11ea_b16e_0242ac1c0002row1_col0\" class=\"data row1 col0\" >GRU_fasttext</td>\n",
              "                        <td id=\"T_0d4578d2_ed51_11ea_b16e_0242ac1c0002row1_col1\" class=\"data row1 col1\" >0.954794</td>\n",
              "            </tr>\n",
              "            <tr>\n",
              "                        <th id=\"T_0d4578d2_ed51_11ea_b16e_0242ac1c0002level0_row2\" class=\"row_heading level0 row2\" >2</th>\n",
              "                        <td id=\"T_0d4578d2_ed51_11ea_b16e_0242ac1c0002row2_col0\" class=\"data row2 col0\" >GRU_baseline</td>\n",
              "                        <td id=\"T_0d4578d2_ed51_11ea_b16e_0242ac1c0002row2_col1\" class=\"data row2 col1\" >0.870883</td>\n",
              "            </tr>\n",
              "    </tbody></table>"
            ],
            "text/plain": [
              "<pandas.io.formats.style.Styler at 0x7f1194980da0>"
            ]
          },
          "metadata": {
            "tags": []
          },
          "execution_count": 36
        }
      ]
    },
    {
      "cell_type": "markdown",
      "metadata": {
        "id": "ncryTCoXOdhk",
        "colab_type": "text"
      },
      "source": [
        "Let's plot the training loss for different Embeddings."
      ]
    },
    {
      "cell_type": "code",
      "metadata": {
        "id": "BjmtuR0sCNM3",
        "colab_type": "code",
        "colab": {
          "base_uri": "https://localhost:8080/",
          "height": 295
        },
        "outputId": "19b6c387-703c-4c0c-94e7-adb20d89e6cf"
      },
      "source": [
        "epochRange = np.arange(1,6,1)\n",
        "plt.plot(epochRange,all_losses['glove_loss'])\n",
        "plt.plot(epochRange,all_losses['fasttext_loss'])\n",
        "plt.plot(epochRange,all_losses['baseline_loss'])\n",
        "plt.title('Training loss for different embeddings', fontweight='bold')\n",
        "plt.ylabel('loss', fontweight='bold')\n",
        "plt.xlabel('epoch', fontweight='bold')\n",
        "plt.legend(['GLOVE','FastText','Baseline'], loc='upper right')\n",
        "plt.show()"
      ],
      "execution_count": null,
      "outputs": [
        {
          "output_type": "display_data",
          "data": {
            "image/png": "[encoded data removed]",
            "text/plain": [
              "<Figure size 432x288 with 1 Axes>"
            ]
          },
          "metadata": {
            "tags": [],
            "needs_background": "light"
          }
        }
      ]
    },
    {
      "cell_type": "markdown",
      "metadata": {
        "id": "jqHKXfbITYpe",
        "colab_type": "text"
      },
      "source": [
        "### **6. Summary**"
      ]
    },
    {
      "cell_type": "markdown",
      "metadata": {
        "id": "9_0-v1jqQzmQ",
        "colab_type": "text"
      },
      "source": [
        "As you can see, GloVe and fastText have minimal difference in terms of AUC scores, but for training losses GloVe seems to do a better job in learning the data. *`I would recommend using word Embeddings, any of GloVe or fastText is just fine.`*\n",
        "\n",
        "Pretrained word embeddings capture the semantic and syntactic meaning of a word as they are trained on large datasets. They are capable of boosting the performance of a Natural Language Processing (NLP) model.\n",
        "\n",
        "`If your baseline model on a different dataset gives better result than an Embedded model`, it could be because of:\n",
        " \n",
        " > the fact that these pretrained embeddings are not trained against text in the same context so the number of common words between our text and text that these pretrained embeddings were trained would be low.\n"
      ]
    }
  ]
}