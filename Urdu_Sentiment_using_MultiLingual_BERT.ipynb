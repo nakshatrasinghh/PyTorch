{
  "nbformat": 4,
  "nbformat_minor": 0,
  "metadata": {
    "colab": {
      "name": "Urdu Sentiment using MultiLingual BERT.ipynb",
      "provenance": [],
      "collapsed_sections": []
    },
    "kernelspec": {
      "name": "python3",
      "display_name": "Python 3"
    },
    "accelerator": "GPU",
    "widgets": {
      "application/vnd.jupyter.widget-state+json": {
        "a0134bd45754429280e0173bc050682d": {
          "model_module": "@jupyter-widgets/controls",
          "model_name": "HBoxModel",
          "state": {
            "_view_name": "HBoxView",
            "_dom_classes": [],
            "_model_name": "HBoxModel",
            "_view_module": "@jupyter-widgets/controls",
            "_model_module_version": "1.5.0",
            "_view_count": null,
            "_view_module_version": "1.5.0",
            "box_style": "",
            "layout": "IPY_MODEL_a320a5219d4541dbbf906abc106b6a76",
            "_model_module": "@jupyter-widgets/controls",
            "children": [
              "IPY_MODEL_80acf78ffe8d4481b42083f94796cb38",
              "IPY_MODEL_94fb8fd43b104e9ca8a167b015e0ed81"
            ]
          }
        },
        "a320a5219d4541dbbf906abc106b6a76": {
          "model_module": "@jupyter-widgets/base",
          "model_name": "LayoutModel",
          "state": {
            "_view_name": "LayoutView",
            "grid_template_rows": null,
            "right": null,
            "justify_content": null,
            "_view_module": "@jupyter-widgets/base",
            "overflow": null,
            "_model_module_version": "1.2.0",
            "_view_count": null,
            "flex_flow": null,
            "width": null,
            "min_width": null,
            "border": null,
            "align_items": null,
            "bottom": null,
            "_model_module": "@jupyter-widgets/base",
            "top": null,
            "grid_column": null,
            "overflow_y": null,
            "overflow_x": null,
            "grid_auto_flow": null,
            "grid_area": null,
            "grid_template_columns": null,
            "flex": null,
            "_model_name": "LayoutModel",
            "justify_items": null,
            "grid_row": null,
            "max_height": null,
            "align_content": null,
            "visibility": null,
            "align_self": null,
            "height": null,
            "min_height": null,
            "padding": null,
            "grid_auto_rows": null,
            "grid_gap": null,
            "max_width": null,
            "order": null,
            "_view_module_version": "1.2.0",
            "grid_template_areas": null,
            "object_position": null,
            "object_fit": null,
            "grid_auto_columns": null,
            "margin": null,
            "display": null,
            "left": null
          }
        },
        "80acf78ffe8d4481b42083f94796cb38": {
          "model_module": "@jupyter-widgets/controls",
          "model_name": "FloatProgressModel",
          "state": {
            "_view_name": "ProgressView",
            "style": "IPY_MODEL_786a420784ae45fcabfc75b6cbd6b0ab",
            "_dom_classes": [],
            "description": "Downloading: 100%",
            "_model_name": "FloatProgressModel",
            "bar_style": "success",
            "max": 995526,
            "_view_module": "@jupyter-widgets/controls",
            "_model_module_version": "1.5.0",
            "value": 995526,
            "_view_count": null,
            "_view_module_version": "1.5.0",
            "orientation": "horizontal",
            "min": 0,
            "description_tooltip": null,
            "_model_module": "@jupyter-widgets/controls",
            "layout": "IPY_MODEL_08b0d2a2ce4c4a9bb4d86777f8507bb1"
          }
        },
        "94fb8fd43b104e9ca8a167b015e0ed81": {
          "model_module": "@jupyter-widgets/controls",
          "model_name": "HTMLModel",
          "state": {
            "_view_name": "HTMLView",
            "style": "IPY_MODEL_c107c15aa5cc419aa6f3568608c73ffa",
            "_dom_classes": [],
            "description": "",
            "_model_name": "HTMLModel",
            "placeholder": "​",
            "_view_module": "@jupyter-widgets/controls",
            "_model_module_version": "1.5.0",
            "value": " 996k/996k [00:00&lt;00:00, 1.71MB/s]",
            "_view_count": null,
            "_view_module_version": "1.5.0",
            "description_tooltip": null,
            "_model_module": "@jupyter-widgets/controls",
            "layout": "IPY_MODEL_65f2fc25d21f4485a7ceb7ae1efacae6"
          }
        },
        "786a420784ae45fcabfc75b6cbd6b0ab": {
          "model_module": "@jupyter-widgets/controls",
          "model_name": "ProgressStyleModel",
          "state": {
            "_view_name": "StyleView",
            "_model_name": "ProgressStyleModel",
            "description_width": "initial",
            "_view_module": "@jupyter-widgets/base",
            "_model_module_version": "1.5.0",
            "_view_count": null,
            "_view_module_version": "1.2.0",
            "bar_color": null,
            "_model_module": "@jupyter-widgets/controls"
          }
        },
        "08b0d2a2ce4c4a9bb4d86777f8507bb1": {
          "model_module": "@jupyter-widgets/base",
          "model_name": "LayoutModel",
          "state": {
            "_view_name": "LayoutView",
            "grid_template_rows": null,
            "right": null,
            "justify_content": null,
            "_view_module": "@jupyter-widgets/base",
            "overflow": null,
            "_model_module_version": "1.2.0",
            "_view_count": null,
            "flex_flow": null,
            "width": null,
            "min_width": null,
            "border": null,
            "align_items": null,
            "bottom": null,
            "_model_module": "@jupyter-widgets/base",
            "top": null,
            "grid_column": null,
            "overflow_y": null,
            "overflow_x": null,
            "grid_auto_flow": null,
            "grid_area": null,
            "grid_template_columns": null,
            "flex": null,
            "_model_name": "LayoutModel",
            "justify_items": null,
            "grid_row": null,
            "max_height": null,
            "align_content": null,
            "visibility": null,
            "align_self": null,
            "height": null,
            "min_height": null,
            "padding": null,
            "grid_auto_rows": null,
            "grid_gap": null,
            "max_width": null,
            "order": null,
            "_view_module_version": "1.2.0",
            "grid_template_areas": null,
            "object_position": null,
            "object_fit": null,
            "grid_auto_columns": null,
            "margin": null,
            "display": null,
            "left": null
          }
        },
        "c107c15aa5cc419aa6f3568608c73ffa": {
          "model_module": "@jupyter-widgets/controls",
          "model_name": "DescriptionStyleModel",
          "state": {
            "_view_name": "StyleView",
            "_model_name": "DescriptionStyleModel",
            "description_width": "",
            "_view_module": "@jupyter-widgets/base",
            "_model_module_version": "1.5.0",
            "_view_count": null,
            "_view_module_version": "1.2.0",
            "_model_module": "@jupyter-widgets/controls"
          }
        },
        "65f2fc25d21f4485a7ceb7ae1efacae6": {
          "model_module": "@jupyter-widgets/base",
          "model_name": "LayoutModel",
          "state": {
            "_view_name": "LayoutView",
            "grid_template_rows": null,
            "right": null,
            "justify_content": null,
            "_view_module": "@jupyter-widgets/base",
            "overflow": null,
            "_model_module_version": "1.2.0",
            "_view_count": null,
            "flex_flow": null,
            "width": null,
            "min_width": null,
            "border": null,
            "align_items": null,
            "bottom": null,
            "_model_module": "@jupyter-widgets/base",
            "top": null,
            "grid_column": null,
            "overflow_y": null,
            "overflow_x": null,
            "grid_auto_flow": null,
            "grid_area": null,
            "grid_template_columns": null,
            "flex": null,
            "_model_name": "LayoutModel",
            "justify_items": null,
            "grid_row": null,
            "max_height": null,
            "align_content": null,
            "visibility": null,
            "align_self": null,
            "height": null,
            "min_height": null,
            "padding": null,
            "grid_auto_rows": null,
            "grid_gap": null,
            "max_width": null,
            "order": null,
            "_view_module_version": "1.2.0",
            "grid_template_areas": null,
            "object_position": null,
            "object_fit": null,
            "grid_auto_columns": null,
            "margin": null,
            "display": null,
            "left": null
          }
        },
        "2a7dca6d87934c7e881597f7968d5b99": {
          "model_module": "@jupyter-widgets/controls",
          "model_name": "HBoxModel",
          "state": {
            "_view_name": "HBoxView",
            "_dom_classes": [],
            "_model_name": "HBoxModel",
            "_view_module": "@jupyter-widgets/controls",
            "_model_module_version": "1.5.0",
            "_view_count": null,
            "_view_module_version": "1.5.0",
            "box_style": "",
            "layout": "IPY_MODEL_58440dae04294ca285e7fb11ebcfbb24",
            "_model_module": "@jupyter-widgets/controls",
            "children": [
              "IPY_MODEL_fa88c1462d414e9196c9cfb84c9e4db9",
              "IPY_MODEL_a573dbb6ce754dfaa7e11e12b771c9b1"
            ]
          }
        },
        "58440dae04294ca285e7fb11ebcfbb24": {
          "model_module": "@jupyter-widgets/base",
          "model_name": "LayoutModel",
          "state": {
            "_view_name": "LayoutView",
            "grid_template_rows": null,
            "right": null,
            "justify_content": null,
            "_view_module": "@jupyter-widgets/base",
            "overflow": null,
            "_model_module_version": "1.2.0",
            "_view_count": null,
            "flex_flow": null,
            "width": null,
            "min_width": null,
            "border": null,
            "align_items": null,
            "bottom": null,
            "_model_module": "@jupyter-widgets/base",
            "top": null,
            "grid_column": null,
            "overflow_y": null,
            "overflow_x": null,
            "grid_auto_flow": null,
            "grid_area": null,
            "grid_template_columns": null,
            "flex": null,
            "_model_name": "LayoutModel",
            "justify_items": null,
            "grid_row": null,
            "max_height": null,
            "align_content": null,
            "visibility": null,
            "align_self": null,
            "height": null,
            "min_height": null,
            "padding": null,
            "grid_auto_rows": null,
            "grid_gap": null,
            "max_width": null,
            "order": null,
            "_view_module_version": "1.2.0",
            "grid_template_areas": null,
            "object_position": null,
            "object_fit": null,
            "grid_auto_columns": null,
            "margin": null,
            "display": null,
            "left": null
          }
        },
        "fa88c1462d414e9196c9cfb84c9e4db9": {
          "model_module": "@jupyter-widgets/controls",
          "model_name": "FloatProgressModel",
          "state": {
            "_view_name": "ProgressView",
            "style": "IPY_MODEL_8ca35c372a2249bda0adb5eb724ee01f",
            "_dom_classes": [],
            "description": "Downloading: 100%",
            "_model_name": "FloatProgressModel",
            "bar_style": "success",
            "max": 625,
            "_view_module": "@jupyter-widgets/controls",
            "_model_module_version": "1.5.0",
            "value": 625,
            "_view_count": null,
            "_view_module_version": "1.5.0",
            "orientation": "horizontal",
            "min": 0,
            "description_tooltip": null,
            "_model_module": "@jupyter-widgets/controls",
            "layout": "IPY_MODEL_89b6bb72cd924295b87e772e679d1d4e"
          }
        },
        "a573dbb6ce754dfaa7e11e12b771c9b1": {
          "model_module": "@jupyter-widgets/controls",
          "model_name": "HTMLModel",
          "state": {
            "_view_name": "HTMLView",
            "style": "IPY_MODEL_f15a0ac0840142d2aa14b7f0e168379b",
            "_dom_classes": [],
            "description": "",
            "_model_name": "HTMLModel",
            "placeholder": "​",
            "_view_module": "@jupyter-widgets/controls",
            "_model_module_version": "1.5.0",
            "value": " 625/625 [00:16&lt;00:00, 36.9B/s]",
            "_view_count": null,
            "_view_module_version": "1.5.0",
            "description_tooltip": null,
            "_model_module": "@jupyter-widgets/controls",
            "layout": "IPY_MODEL_c286c40440634c2d9f00e8a11285ed17"
          }
        },
        "8ca35c372a2249bda0adb5eb724ee01f": {
          "model_module": "@jupyter-widgets/controls",
          "model_name": "ProgressStyleModel",
          "state": {
            "_view_name": "StyleView",
            "_model_name": "ProgressStyleModel",
            "description_width": "initial",
            "_view_module": "@jupyter-widgets/base",
            "_model_module_version": "1.5.0",
            "_view_count": null,
            "_view_module_version": "1.2.0",
            "bar_color": null,
            "_model_module": "@jupyter-widgets/controls"
          }
        },
        "89b6bb72cd924295b87e772e679d1d4e": {
          "model_module": "@jupyter-widgets/base",
          "model_name": "LayoutModel",
          "state": {
            "_view_name": "LayoutView",
            "grid_template_rows": null,
            "right": null,
            "justify_content": null,
            "_view_module": "@jupyter-widgets/base",
            "overflow": null,
            "_model_module_version": "1.2.0",
            "_view_count": null,
            "flex_flow": null,
            "width": null,
            "min_width": null,
            "border": null,
            "align_items": null,
            "bottom": null,
            "_model_module": "@jupyter-widgets/base",
            "top": null,
            "grid_column": null,
            "overflow_y": null,
            "overflow_x": null,
            "grid_auto_flow": null,
            "grid_area": null,
            "grid_template_columns": null,
            "flex": null,
            "_model_name": "LayoutModel",
            "justify_items": null,
            "grid_row": null,
            "max_height": null,
            "align_content": null,
            "visibility": null,
            "align_self": null,
            "height": null,
            "min_height": null,
            "padding": null,
            "grid_auto_rows": null,
            "grid_gap": null,
            "max_width": null,
            "order": null,
            "_view_module_version": "1.2.0",
            "grid_template_areas": null,
            "object_position": null,
            "object_fit": null,
            "grid_auto_columns": null,
            "margin": null,
            "display": null,
            "left": null
          }
        },
        "f15a0ac0840142d2aa14b7f0e168379b": {
          "model_module": "@jupyter-widgets/controls",
          "model_name": "DescriptionStyleModel",
          "state": {
            "_view_name": "StyleView",
            "_model_name": "DescriptionStyleModel",
            "description_width": "",
            "_view_module": "@jupyter-widgets/base",
            "_model_module_version": "1.5.0",
            "_view_count": null,
            "_view_module_version": "1.2.0",
            "_model_module": "@jupyter-widgets/controls"
          }
        },
        "c286c40440634c2d9f00e8a11285ed17": {
          "model_module": "@jupyter-widgets/base",
          "model_name": "LayoutModel",
          "state": {
            "_view_name": "LayoutView",
            "grid_template_rows": null,
            "right": null,
            "justify_content": null,
            "_view_module": "@jupyter-widgets/base",
            "overflow": null,
            "_model_module_version": "1.2.0",
            "_view_count": null,
            "flex_flow": null,
            "width": null,
            "min_width": null,
            "border": null,
            "align_items": null,
            "bottom": null,
            "_model_module": "@jupyter-widgets/base",
            "top": null,
            "grid_column": null,
            "overflow_y": null,
            "overflow_x": null,
            "grid_auto_flow": null,
            "grid_area": null,
            "grid_template_columns": null,
            "flex": null,
            "_model_name": "LayoutModel",
            "justify_items": null,
            "grid_row": null,
            "max_height": null,
            "align_content": null,
            "visibility": null,
            "align_self": null,
            "height": null,
            "min_height": null,
            "padding": null,
            "grid_auto_rows": null,
            "grid_gap": null,
            "max_width": null,
            "order": null,
            "_view_module_version": "1.2.0",
            "grid_template_areas": null,
            "object_position": null,
            "object_fit": null,
            "grid_auto_columns": null,
            "margin": null,
            "display": null,
            "left": null
          }
        },
        "d486479110ad4d04a284b2bebe12176c": {
          "model_module": "@jupyter-widgets/controls",
          "model_name": "HBoxModel",
          "state": {
            "_view_name": "HBoxView",
            "_dom_classes": [],
            "_model_name": "HBoxModel",
            "_view_module": "@jupyter-widgets/controls",
            "_model_module_version": "1.5.0",
            "_view_count": null,
            "_view_module_version": "1.5.0",
            "box_style": "",
            "layout": "IPY_MODEL_2e69a7d46c554e37b9cfc55242bcd638",
            "_model_module": "@jupyter-widgets/controls",
            "children": [
              "IPY_MODEL_0ed00702e7f84f8cbc0e8fa9b0a2ff88",
              "IPY_MODEL_844170b2bb344d2183e7b36e58e9c403"
            ]
          }
        },
        "2e69a7d46c554e37b9cfc55242bcd638": {
          "model_module": "@jupyter-widgets/base",
          "model_name": "LayoutModel",
          "state": {
            "_view_name": "LayoutView",
            "grid_template_rows": null,
            "right": null,
            "justify_content": null,
            "_view_module": "@jupyter-widgets/base",
            "overflow": null,
            "_model_module_version": "1.2.0",
            "_view_count": null,
            "flex_flow": null,
            "width": null,
            "min_width": null,
            "border": null,
            "align_items": null,
            "bottom": null,
            "_model_module": "@jupyter-widgets/base",
            "top": null,
            "grid_column": null,
            "overflow_y": null,
            "overflow_x": null,
            "grid_auto_flow": null,
            "grid_area": null,
            "grid_template_columns": null,
            "flex": null,
            "_model_name": "LayoutModel",
            "justify_items": null,
            "grid_row": null,
            "max_height": null,
            "align_content": null,
            "visibility": null,
            "align_self": null,
            "height": null,
            "min_height": null,
            "padding": null,
            "grid_auto_rows": null,
            "grid_gap": null,
            "max_width": null,
            "order": null,
            "_view_module_version": "1.2.0",
            "grid_template_areas": null,
            "object_position": null,
            "object_fit": null,
            "grid_auto_columns": null,
            "margin": null,
            "display": null,
            "left": null
          }
        },
        "0ed00702e7f84f8cbc0e8fa9b0a2ff88": {
          "model_module": "@jupyter-widgets/controls",
          "model_name": "FloatProgressModel",
          "state": {
            "_view_name": "ProgressView",
            "style": "IPY_MODEL_18d36223621443db8391ca98ddef9527",
            "_dom_classes": [],
            "description": "Downloading: 100%",
            "_model_name": "FloatProgressModel",
            "bar_style": "success",
            "max": 714314041,
            "_view_module": "@jupyter-widgets/controls",
            "_model_module_version": "1.5.0",
            "value": 714314041,
            "_view_count": null,
            "_view_module_version": "1.5.0",
            "orientation": "horizontal",
            "min": 0,
            "description_tooltip": null,
            "_model_module": "@jupyter-widgets/controls",
            "layout": "IPY_MODEL_2caa59a7813648788b1f965727dc21d0"
          }
        },
        "844170b2bb344d2183e7b36e58e9c403": {
          "model_module": "@jupyter-widgets/controls",
          "model_name": "HTMLModel",
          "state": {
            "_view_name": "HTMLView",
            "style": "IPY_MODEL_b6a0a77fa2944814a3644b1157d0f222",
            "_dom_classes": [],
            "description": "",
            "_model_name": "HTMLModel",
            "placeholder": "​",
            "_view_module": "@jupyter-widgets/controls",
            "_model_module_version": "1.5.0",
            "value": " 714M/714M [00:16&lt;00:00, 42.5MB/s]",
            "_view_count": null,
            "_view_module_version": "1.5.0",
            "description_tooltip": null,
            "_model_module": "@jupyter-widgets/controls",
            "layout": "IPY_MODEL_f5f4bd676fca46a4aa9c89b9d8bb73d2"
          }
        },
        "18d36223621443db8391ca98ddef9527": {
          "model_module": "@jupyter-widgets/controls",
          "model_name": "ProgressStyleModel",
          "state": {
            "_view_name": "StyleView",
            "_model_name": "ProgressStyleModel",
            "description_width": "initial",
            "_view_module": "@jupyter-widgets/base",
            "_model_module_version": "1.5.0",
            "_view_count": null,
            "_view_module_version": "1.2.0",
            "bar_color": null,
            "_model_module": "@jupyter-widgets/controls"
          }
        },
        "2caa59a7813648788b1f965727dc21d0": {
          "model_module": "@jupyter-widgets/base",
          "model_name": "LayoutModel",
          "state": {
            "_view_name": "LayoutView",
            "grid_template_rows": null,
            "right": null,
            "justify_content": null,
            "_view_module": "@jupyter-widgets/base",
            "overflow": null,
            "_model_module_version": "1.2.0",
            "_view_count": null,
            "flex_flow": null,
            "width": null,
            "min_width": null,
            "border": null,
            "align_items": null,
            "bottom": null,
            "_model_module": "@jupyter-widgets/base",
            "top": null,
            "grid_column": null,
            "overflow_y": null,
            "overflow_x": null,
            "grid_auto_flow": null,
            "grid_area": null,
            "grid_template_columns": null,
            "flex": null,
            "_model_name": "LayoutModel",
            "justify_items": null,
            "grid_row": null,
            "max_height": null,
            "align_content": null,
            "visibility": null,
            "align_self": null,
            "height": null,
            "min_height": null,
            "padding": null,
            "grid_auto_rows": null,
            "grid_gap": null,
            "max_width": null,
            "order": null,
            "_view_module_version": "1.2.0",
            "grid_template_areas": null,
            "object_position": null,
            "object_fit": null,
            "grid_auto_columns": null,
            "margin": null,
            "display": null,
            "left": null
          }
        },
        "b6a0a77fa2944814a3644b1157d0f222": {
          "model_module": "@jupyter-widgets/controls",
          "model_name": "DescriptionStyleModel",
          "state": {
            "_view_name": "StyleView",
            "_model_name": "DescriptionStyleModel",
            "description_width": "",
            "_view_module": "@jupyter-widgets/base",
            "_model_module_version": "1.5.0",
            "_view_count": null,
            "_view_module_version": "1.2.0",
            "_model_module": "@jupyter-widgets/controls"
          }
        },
        "f5f4bd676fca46a4aa9c89b9d8bb73d2": {
          "model_module": "@jupyter-widgets/base",
          "model_name": "LayoutModel",
          "state": {
            "_view_name": "LayoutView",
            "grid_template_rows": null,
            "right": null,
            "justify_content": null,
            "_view_module": "@jupyter-widgets/base",
            "overflow": null,
            "_model_module_version": "1.2.0",
            "_view_count": null,
            "flex_flow": null,
            "width": null,
            "min_width": null,
            "border": null,
            "align_items": null,
            "bottom": null,
            "_model_module": "@jupyter-widgets/base",
            "top": null,
            "grid_column": null,
            "overflow_y": null,
            "overflow_x": null,
            "grid_auto_flow": null,
            "grid_area": null,
            "grid_template_columns": null,
            "flex": null,
            "_model_name": "LayoutModel",
            "justify_items": null,
            "grid_row": null,
            "max_height": null,
            "align_content": null,
            "visibility": null,
            "align_self": null,
            "height": null,
            "min_height": null,
            "padding": null,
            "grid_auto_rows": null,
            "grid_gap": null,
            "max_width": null,
            "order": null,
            "_view_module_version": "1.2.0",
            "grid_template_areas": null,
            "object_position": null,
            "object_fit": null,
            "grid_auto_columns": null,
            "margin": null,
            "display": null,
            "left": null
          }
        }
      }
    }
  },
  "cells": [
    {
      "cell_type": "markdown",
      "metadata": {
        "id": "FOxEyd75TI8b"
      },
      "source": [
        "#***Urdu Sentiment Analysis Using MultiLingual BERT***\n",
        "By Nakshatra Singh\n",
        "\n",
        "This notebook is an illustration on how to build a Multilingual BERT model for Urdu Sentiment Analysis using Transformers Library provided by Huggingface."
      ]
    },
    {
      "cell_type": "markdown",
      "metadata": {
        "id": "j1xPaxpMUHbp"
      },
      "source": [
        "###**Using Google GPU for Training**\n",
        "\n",
        "Google colab offers free GPUs and TPUs! Since we'll be training a large model it's best to take advantage of this (in this case we'll use GPU), otherwise training can take long time.\n",
        "\n",
        "A GPU can be added by going to the menu and selecting:\n",
        "\n",
        "`Edit -> Notebook Settings -> Hardware Accelerator -> (GPU)`\n",
        "\n",
        "Then run the following cell to confirm that a GPU is detected."
      ]
    },
    {
      "cell_type": "code",
      "metadata": {
        "id": "lG6GBeRHUZ1M",
        "outputId": "c1b98161-913c-41a1-86cb-c3f24657336f",
        "colab": {
          "base_uri": "https://localhost:8080/",
          "height": 35
        }
      },
      "source": [
        "import tensorflow as tf\n",
        "# Get the device GPU name \n",
        "device_name = tf.test.gpu_device_name()\n",
        "\n",
        "# The device name should look like the following:\n",
        "if device_name == '/device:GPU:0':\n",
        "  print('Found GPU at : {}'.format(device_name)) \n",
        "else:\n",
        "  raise SystemError('GPU not found!')   "
      ],
      "execution_count": 1,
      "outputs": [
        {
          "output_type": "stream",
          "text": [
            "Found GPU at : /device:GPU:0\n"
          ],
          "name": "stdout"
        }
      ]
    },
    {
      "cell_type": "markdown",
      "metadata": {
        "id": "goSqAnhRUdMq"
      },
      "source": [
        "###**Setting up Imports and Downloading the Dependencies**\n",
        "\n",
        "Firstly we'll need the [Transformers library](https://huggingface.co/transformers/) by Hugging Face."
      ]
    },
    {
      "cell_type": "code",
      "metadata": {
        "id": "LiAw9SHcph29",
        "outputId": "80baa664-ab93-47d9-8b1b-77de094ac75d",
        "colab": {
          "base_uri": "https://localhost:8080/",
          "height": 104
        }
      },
      "source": [
        "!pip install -qq transformers"
      ],
      "execution_count": 1,
      "outputs": [
        {
          "output_type": "stream",
          "text": [
            "\u001b[K     |████████████████████████████████| 1.3MB 11.3MB/s \n",
            "\u001b[K     |████████████████████████████████| 890kB 52.8MB/s \n",
            "\u001b[K     |████████████████████████████████| 1.1MB 52.9MB/s \n",
            "\u001b[K     |████████████████████████████████| 2.9MB 50.6MB/s \n",
            "\u001b[?25h  Building wheel for sacremoses (setup.py) ... \u001b[?25l\u001b[?25hdone\n"
          ],
          "name": "stdout"
        }
      ]
    },
    {
      "cell_type": "markdown",
      "metadata": {
        "id": "Vu8uSkzLUwu3"
      },
      "source": [
        "I have downloaded all the Libraries and Dependencies required for this Project in one particular cell."
      ]
    },
    {
      "cell_type": "code",
      "metadata": {
        "id": "yYLMuuhBqX1O"
      },
      "source": [
        "#@ All the necessary and required Imports for this Notebook.\n",
        "import transformers\n",
        "from transformers import BertModel, BertTokenizer, AdamW, get_linear_schedule_with_warmup\n",
        "import torch\n",
        "\n",
        "import numpy as np\n",
        "import pandas as pd\n",
        "import seaborn as sns\n",
        "from pylab import rcParams\n",
        "import matplotlib.pyplot as plt\n",
        "from matplotlib import rc\n",
        "from sklearn.model_selection import train_test_split\n",
        "from sklearn.metrics import confusion_matrix, classification_report\n",
        "from collections import defaultdict\n",
        "from textwrap import wrap\n",
        "\n",
        "from torch import nn, optim\n",
        "from torch.utils.data import Dataset, DataLoader\n",
        "import torch.nn.functional as F\n",
        "\n",
        "%matplotlib inline\n",
        "%config InlineBackend.figure_format='retina'\n",
        "\n",
        "sns.set(style='whitegrid', palette='muted', font_scale=1.2)\n",
        "\n",
        "HAPPY_COLORS_PALETTE = [\"#01BEFE\", \"#FFDD00\", \"#FF7D00\", \"#FF006D\", \"#ADFF02\", \"#8F00FF\"]\n",
        "\n",
        "sns.set_palette(sns.color_palette(HAPPY_COLORS_PALETTE))\n",
        "\n",
        "rcParams['figure.figsize'] = 12, 8\n",
        "\n",
        "RANDOM_SEED = 42\n",
        "np.random.seed(RANDOM_SEED)\n",
        "torch.manual_seed(RANDOM_SEED)\n",
        "\n",
        "device = torch.device(\"cuda:0\" if torch.cuda.is_available() else \"cpu\") "
      ],
      "execution_count": 2,
      "outputs": []
    },
    {
      "cell_type": "markdown",
      "metadata": {
        "id": "tGclGlWNW_4k"
      },
      "source": [
        "###**Retrieve Dataset**\n",
        "\n",
        "Let's download [the dataset](https://archive.ics.uci.edu/ml/datasets/Roman+Urdu+Data+Set) which is uploaded on my google drive.  "
      ]
    },
    {
      "cell_type": "code",
      "metadata": {
        "id": "aDemRKU-pgHQ",
        "outputId": "7c492413-b282-4f9b-844b-18d56480e292",
        "colab": {
          "base_uri": "https://localhost:8080/",
          "height": 87
        }
      },
      "source": [
        "!gdown --id 1gYAXJMnOEusSTy3T6qD3KVshI-J0F57_ "
      ],
      "execution_count": 3,
      "outputs": [
        {
          "output_type": "stream",
          "text": [
            "Downloading...\n",
            "From: https://drive.google.com/uc?id=1gYAXJMnOEusSTy3T6qD3KVshI-J0F57_\n",
            "To: /content/Roman Urdu DataSet.csv\n",
            "\r  0% 0.00/1.63M [00:00<?, ?B/s]\r100% 1.63M/1.63M [00:00<00:00, 52.0MB/s]\n"
          ],
          "name": "stdout"
        }
      ]
    },
    {
      "cell_type": "markdown",
      "metadata": {
        "id": "LM2qX328XJyM"
      },
      "source": [
        "We'll use `pandas` to parse the csv file and see what the dataframe looks like."
      ]
    },
    {
      "cell_type": "code",
      "metadata": {
        "id": "Biy5ZGzWsKA5",
        "outputId": "f9350431-86e7-413a-bfaf-c95479e42caa",
        "colab": {
          "base_uri": "https://localhost:8080/",
          "height": 202
        }
      },
      "source": [
        "df = pd.read_csv('/content/Roman Urdu DataSet.csv')\n",
        "df.head() "
      ],
      "execution_count": 4,
      "outputs": [
        {
          "output_type": "execute_result",
          "data": {
            "text/html": [
              "<div>\n",
              "<style scoped>\n",
              "    .dataframe tbody tr th:only-of-type {\n",
              "        vertical-align: middle;\n",
              "    }\n",
              "\n",
              "    .dataframe tbody tr th {\n",
              "        vertical-align: top;\n",
              "    }\n",
              "\n",
              "    .dataframe thead th {\n",
              "        text-align: right;\n",
              "    }\n",
              "</style>\n",
              "<table border=\"1\" class=\"dataframe\">\n",
              "  <thead>\n",
              "    <tr style=\"text-align: right;\">\n",
              "      <th></th>\n",
              "      <th>Sai kha ya her kisi kay bus ki bat nhi hai lakin main ki hal kal bi Aj aur aj bi sirf Aus say bus</th>\n",
              "      <th>Positive</th>\n",
              "      <th>Unnamed: 2</th>\n",
              "    </tr>\n",
              "  </thead>\n",
              "  <tbody>\n",
              "    <tr>\n",
              "      <th>0</th>\n",
              "      <td>sahi bt h</td>\n",
              "      <td>Positive</td>\n",
              "      <td>NaN</td>\n",
              "    </tr>\n",
              "    <tr>\n",
              "      <th>1</th>\n",
              "      <td>Kya bt hai,</td>\n",
              "      <td>Positive</td>\n",
              "      <td>NaN</td>\n",
              "    </tr>\n",
              "    <tr>\n",
              "      <th>2</th>\n",
              "      <td>Wah je wah</td>\n",
              "      <td>Positive</td>\n",
              "      <td>NaN</td>\n",
              "    </tr>\n",
              "    <tr>\n",
              "      <th>3</th>\n",
              "      <td>Are wha kaya bat hai</td>\n",
              "      <td>Positive</td>\n",
              "      <td>NaN</td>\n",
              "    </tr>\n",
              "    <tr>\n",
              "      <th>4</th>\n",
              "      <td>Wah kya baat likhi</td>\n",
              "      <td>Positive</td>\n",
              "      <td>NaN</td>\n",
              "    </tr>\n",
              "  </tbody>\n",
              "</table>\n",
              "</div>"
            ],
            "text/plain": [
              "  Sai kha ya her kisi kay bus ki bat nhi hai lakin main ki hal kal bi Aj aur aj bi sirf Aus say bus  ... Unnamed: 2\n",
              "0                                          sahi bt h                                                 ...        NaN\n",
              "1                                        Kya bt hai,                                                 ...        NaN\n",
              "2                                         Wah je wah                                                 ...        NaN\n",
              "3                               Are wha kaya bat hai                                                 ...        NaN\n",
              "4                                 Wah kya baat likhi                                                 ...        NaN\n",
              "\n",
              "[5 rows x 3 columns]"
            ]
          },
          "metadata": {
            "tags": []
          },
          "execution_count": 4
        }
      ]
    },
    {
      "cell_type": "markdown",
      "metadata": {
        "id": "l7HxYLVuXvBX"
      },
      "source": [
        "###**Preparing the data**\n",
        "\n",
        "Let's clean the dataframe, rename the columns and drop unnecessary columns.  "
      ]
    },
    {
      "cell_type": "code",
      "metadata": {
        "id": "58MvX1fisKH9"
      },
      "source": [
        "#@ Dropping Unnamed column.\n",
        "df = df.drop(['Unnamed: 2'], axis=1) \n",
        "#@ Renaming the 2 columns to understandable formats.\n",
        "df = df.rename(columns={ df.columns[0]: \"text\" , df.columns[1]: \"sentiment\"}) "
      ],
      "execution_count": 5,
      "outputs": []
    },
    {
      "cell_type": "markdown",
      "metadata": {
        "id": "oDWPktXyZYh-"
      },
      "source": [
        "We'll look at our cleaned dataframe and use this for training our model."
      ]
    },
    {
      "cell_type": "code",
      "metadata": {
        "id": "EqWCR4IasKFX",
        "outputId": "c902b13d-76b0-4cf0-83b1-57679476a0f7",
        "colab": {
          "base_uri": "https://localhost:8080/",
          "height": 202
        }
      },
      "source": [
        "#@ First 5 lines of the dataframe.\n",
        "df.head() "
      ],
      "execution_count": 6,
      "outputs": [
        {
          "output_type": "execute_result",
          "data": {
            "text/html": [
              "<div>\n",
              "<style scoped>\n",
              "    .dataframe tbody tr th:only-of-type {\n",
              "        vertical-align: middle;\n",
              "    }\n",
              "\n",
              "    .dataframe tbody tr th {\n",
              "        vertical-align: top;\n",
              "    }\n",
              "\n",
              "    .dataframe thead th {\n",
              "        text-align: right;\n",
              "    }\n",
              "</style>\n",
              "<table border=\"1\" class=\"dataframe\">\n",
              "  <thead>\n",
              "    <tr style=\"text-align: right;\">\n",
              "      <th></th>\n",
              "      <th>text</th>\n",
              "      <th>sentiment</th>\n",
              "    </tr>\n",
              "  </thead>\n",
              "  <tbody>\n",
              "    <tr>\n",
              "      <th>0</th>\n",
              "      <td>sahi bt h</td>\n",
              "      <td>Positive</td>\n",
              "    </tr>\n",
              "    <tr>\n",
              "      <th>1</th>\n",
              "      <td>Kya bt hai,</td>\n",
              "      <td>Positive</td>\n",
              "    </tr>\n",
              "    <tr>\n",
              "      <th>2</th>\n",
              "      <td>Wah je wah</td>\n",
              "      <td>Positive</td>\n",
              "    </tr>\n",
              "    <tr>\n",
              "      <th>3</th>\n",
              "      <td>Are wha kaya bat hai</td>\n",
              "      <td>Positive</td>\n",
              "    </tr>\n",
              "    <tr>\n",
              "      <th>4</th>\n",
              "      <td>Wah kya baat likhi</td>\n",
              "      <td>Positive</td>\n",
              "    </tr>\n",
              "  </tbody>\n",
              "</table>\n",
              "</div>"
            ],
            "text/plain": [
              "                   text sentiment\n",
              "0             sahi bt h  Positive\n",
              "1           Kya bt hai,  Positive\n",
              "2            Wah je wah  Positive\n",
              "3  Are wha kaya bat hai  Positive\n",
              "4    Wah kya baat likhi  Positive"
            ]
          },
          "metadata": {
            "tags": []
          },
          "execution_count": 6
        }
      ]
    },
    {
      "cell_type": "code",
      "metadata": {
        "id": "h6I4r2EoI0oi",
        "outputId": "b4d6d7f5-3db0-4b40-af1d-3ab334234ce7",
        "colab": {
          "base_uri": "https://localhost:8080/",
          "height": 69
        }
      },
      "source": [
        "#@ columns datatypes.\n",
        "df.dtypes\n",
        "\n",
        " '''Both are columns are object datatypes. We'll need to convert\n",
        " sentiment column to a int for our BERT model to take it as input'''"
      ],
      "execution_count": 7,
      "outputs": [
        {
          "output_type": "execute_result",
          "data": {
            "text/plain": [
              "text         object\n",
              "sentiment    object\n",
              "dtype: object"
            ]
          },
          "metadata": {
            "tags": []
          },
          "execution_count": 7
        }
      ]
    },
    {
      "cell_type": "code",
      "metadata": {
        "id": "Y7mZts0ksJ9z",
        "outputId": "b3b3363d-2c7a-4fef-ff8d-90cb23d1f2da",
        "colab": {
          "base_uri": "https://localhost:8080/",
          "height": 35
        }
      },
      "source": [
        "#@ Number of data points.\n",
        "df.shape"
      ],
      "execution_count": 8,
      "outputs": [
        {
          "output_type": "execute_result",
          "data": {
            "text/plain": [
              "(20228, 2)"
            ]
          },
          "metadata": {
            "tags": []
          },
          "execution_count": 8
        }
      ]
    },
    {
      "cell_type": "code",
      "metadata": {
        "id": "Jb032u1XLcch",
        "outputId": "5e5a36be-881e-400d-840f-35817c207a0c",
        "colab": {
          "base_uri": "https://localhost:8080/",
          "height": 173
        }
      },
      "source": [
        "df.info() "
      ],
      "execution_count": 9,
      "outputs": [
        {
          "output_type": "stream",
          "text": [
            "<class 'pandas.core.frame.DataFrame'>\n",
            "RangeIndex: 20228 entries, 0 to 20227\n",
            "Data columns (total 2 columns):\n",
            " #   Column     Non-Null Count  Dtype \n",
            "---  ------     --------------  ----- \n",
            " 0   text       20227 non-null  object\n",
            " 1   sentiment  20228 non-null  object\n",
            "dtypes: object(2)\n",
            "memory usage: 316.2+ KB\n"
          ],
          "name": "stdout"
        }
      ]
    },
    {
      "cell_type": "markdown",
      "metadata": {
        "id": "nc1sGP_YdISV"
      },
      "source": [
        "How many target variables are we dealing with?"
      ]
    },
    {
      "cell_type": "code",
      "metadata": {
        "id": "zfBgcLIWwOn4",
        "outputId": "50b1989f-1c2e-4bac-bd35-3219635c19ab",
        "colab": {
          "base_uri": "https://localhost:8080/",
          "height": 35
        }
      },
      "source": [
        "df.sentiment.unique()"
      ],
      "execution_count": 10,
      "outputs": [
        {
          "output_type": "execute_result",
          "data": {
            "text/plain": [
              "array(['Positive', 'Neutral', 'Negative', 'Neative'], dtype=object)"
            ]
          },
          "metadata": {
            "tags": []
          },
          "execution_count": 10
        }
      ]
    },
    {
      "cell_type": "markdown",
      "metadata": {
        "id": "vsPp_frpdPDB"
      },
      "source": [
        "OH NO! I guess *Neative* here is a misspelled word and we'll replace it with *Negative*. "
      ]
    },
    {
      "cell_type": "code",
      "metadata": {
        "id": "FZ6xRKU9wLEm"
      },
      "source": [
        "df['sentiment'] = df['sentiment'].str.replace('Neative', 'Negative')  "
      ],
      "execution_count": 11,
      "outputs": []
    },
    {
      "cell_type": "markdown",
      "metadata": {
        "id": "o0giMop9dva4"
      },
      "source": [
        "Finally, we'll be converting the sentiments to numerical variables and then we'll convert the whole column to an *integer datatype* for our BERT Model."
      ]
    },
    {
      "cell_type": "code",
      "metadata": {
        "id": "GlvCk3FJL_o-"
      },
      "source": [
        "#@ Converting to numerical variables.\n",
        "df['sentiment'] = df['sentiment'].str.replace('Negative', '0')\n",
        "df['sentiment'] = df['sentiment'].str.replace('Neutral', '1')\n",
        "df['sentiment'] = df['sentiment'].str.replace('Positive', '2')\n",
        "\n",
        "#@ Converting to integer datatype.\n",
        "df['sentiment'] = df['sentiment'].astype(int)"
      ],
      "execution_count": 12,
      "outputs": []
    },
    {
      "cell_type": "markdown",
      "metadata": {
        "id": "P3FkbafyeypK"
      },
      "source": [
        "Now, let's check the target variables."
      ]
    },
    {
      "cell_type": "code",
      "metadata": {
        "id": "67ElW2ISMIgG",
        "outputId": "a7afd35f-9ebb-468f-be0e-a823bdc0c074",
        "colab": {
          "base_uri": "https://localhost:8080/",
          "height": 35
        }
      },
      "source": [
        "df.sentiment.unique() "
      ],
      "execution_count": 13,
      "outputs": [
        {
          "output_type": "execute_result",
          "data": {
            "text/plain": [
              "array([2, 1, 0])"
            ]
          },
          "metadata": {
            "tags": []
          },
          "execution_count": 13
        }
      ]
    },
    {
      "cell_type": "markdown",
      "metadata": {
        "id": "YUJzVeD-f3Gm"
      },
      "source": [
        "We'll plot a countplot using seaborn to have more visualization for the distribution of the target."
      ]
    },
    {
      "cell_type": "code",
      "metadata": {
        "id": "BqSYCcE-vwRP",
        "outputId": "8278a4d8-19da-4b1f-b6ef-6d831172f961",
        "colab": {
          "base_uri": "https://localhost:8080/",
          "height": 506
        }
      },
      "source": [
        "sns.countplot(x = df.sentiment)\n",
        "plt.xlabel('Sentiment');"
      ],
      "execution_count": 14,
      "outputs": [
        {
          "output_type": "display_data",
          "data": {
            "image/png": "[encoded data removed]",
            "text/plain": [
              "<Figure size 864x576 with 1 Axes>"
            ]
          },
          "metadata": {
            "tags": [],
            "image/png": {
              "width": 745,
              "height": 489
            }
          }
        }
      ]
    },
    {
      "cell_type": "markdown",
      "metadata": {
        "id": "C_sSifOhgJRg"
      },
      "source": [
        "###**Data Preprocessing**\n",
        "\n",
        "The Transformers library provides with a wide variety of Transformer models (including BERT). It works with TensorFlow and PyTorch! It also includes prebuild tokenizers that do the heavy lifting for us!  Since, we have urdu language, we'll use [BERTs mutlilingual model](https://github.com/google-research/bert/blob/master/multilingual.md)."
      ]
    },
    {
      "cell_type": "code",
      "metadata": {
        "id": "D-R4LWxkv1iL"
      },
      "source": [
        "PRE_TRAINED_MODEL_NAME = 'bert-base-multilingual-cased'"
      ],
      "execution_count": 15,
      "outputs": []
    },
    {
      "cell_type": "markdown",
      "metadata": {
        "id": "OO-nbek1gf9J"
      },
      "source": [
        "Let's load a pre-trained [BertTokenizer](https://huggingface.co/transformers/model_doc/bert.html#berttokenizer). "
      ]
    },
    {
      "cell_type": "code",
      "metadata": {
        "id": "QnGSftoAC85c",
        "outputId": "ed21825d-64c2-4c91-dbf2-d64c780ca3ff",
        "colab": {
          "base_uri": "https://localhost:8080/",
          "height": 67,
          "referenced_widgets": [
            "a0134bd45754429280e0173bc050682d",
            "a320a5219d4541dbbf906abc106b6a76",
            "80acf78ffe8d4481b42083f94796cb38",
            "94fb8fd43b104e9ca8a167b015e0ed81",
            "786a420784ae45fcabfc75b6cbd6b0ab",
            "08b0d2a2ce4c4a9bb4d86777f8507bb1",
            "c107c15aa5cc419aa6f3568608c73ffa",
            "65f2fc25d21f4485a7ceb7ae1efacae6"
          ]
        }
      },
      "source": [
        "tokenizer = BertTokenizer.from_pretrained(PRE_TRAINED_MODEL_NAME) "
      ],
      "execution_count": 16,
      "outputs": [
        {
          "output_type": "display_data",
          "data": {
            "application/vnd.jupyter.widget-view+json": {
              "model_id": "a0134bd45754429280e0173bc050682d",
              "version_minor": 0,
              "version_major": 2
            },
            "text/plain": [
              "HBox(children=(FloatProgress(value=0.0, description='Downloading', max=995526.0, style=ProgressStyle(descripti…"
            ]
          },
          "metadata": {
            "tags": []
          }
        },
        {
          "output_type": "stream",
          "text": [
            "\n"
          ],
          "name": "stdout"
        }
      ]
    },
    {
      "cell_type": "markdown",
      "metadata": {
        "id": "qNAZfRlhgyJn"
      },
      "source": [
        "We'll use this text to understand the tokenization process."
      ]
    },
    {
      "cell_type": "code",
      "metadata": {
        "id": "mAwKqY0zDAQT"
      },
      "source": [
        "sample_txt = 'Wah kya baat likhi'"
      ],
      "execution_count": 17,
      "outputs": []
    },
    {
      "cell_type": "markdown",
      "metadata": {
        "id": "mV7TZd13g010"
      },
      "source": [
        "Some basic operations can convert the text to tokens and tokens to unique integers (ids)."
      ]
    },
    {
      "cell_type": "code",
      "metadata": {
        "id": "_MQICDUHDMcq",
        "outputId": "bd2d7ddd-3128-4eab-eb72-0c2311f872e0",
        "colab": {
          "base_uri": "https://localhost:8080/",
          "height": 69
        }
      },
      "source": [
        "tokens = tokenizer.tokenize(sample_txt) \n",
        "token_ids = tokenizer.convert_tokens_to_ids(tokens)\n",
        "\n",
        "print(f' Sentence: {sample_txt}')\n",
        "print(f'   Tokens: {tokens}')\n",
        "print(f'Token IDs: {token_ids}') "
      ],
      "execution_count": 18,
      "outputs": [
        {
          "output_type": "stream",
          "text": [
            " Sentence: Wah kya baat likhi\n",
            "   Tokens: ['W', '##ah', 'ky', '##a', 'ba', '##at', 'lik', '##hi']\n",
            "Token IDs: [160, 12257, 87147, 10113, 15688, 10526, 29694, 11924]\n"
          ],
          "name": "stdout"
        }
      ]
    },
    {
      "cell_type": "markdown",
      "metadata": {
        "id": "ubPUwGTag6ub"
      },
      "source": [
        "###**Special Tokens**\n",
        "\n",
        "[SEP] - marker for ending of a sentence."
      ]
    },
    {
      "cell_type": "code",
      "metadata": {
        "id": "lg8WIwnJDuNH",
        "outputId": "28b0d48a-4150-496c-91ca-19211d79172d",
        "colab": {
          "base_uri": "https://localhost:8080/",
          "height": 35
        }
      },
      "source": [
        "tokenizer.sep_token, tokenizer.sep_token_id"
      ],
      "execution_count": 19,
      "outputs": [
        {
          "output_type": "execute_result",
          "data": {
            "text/plain": [
              "('[SEP]', 102)"
            ]
          },
          "metadata": {
            "tags": []
          },
          "execution_count": 19
        }
      ]
    },
    {
      "cell_type": "markdown",
      "metadata": {
        "id": "syPyGSDuhCIe"
      },
      "source": [
        "[CLS] - we must add this token to the start of each sentence, so BERT knows we're doing classification."
      ]
    },
    {
      "cell_type": "code",
      "metadata": {
        "id": "_7PaMwI6D_Da",
        "outputId": "0f6aebeb-2f41-43ed-9507-e27203f5c038",
        "colab": {
          "base_uri": "https://localhost:8080/",
          "height": 35
        }
      },
      "source": [
        "tokenizer.cls_token, tokenizer.cls_token_id"
      ],
      "execution_count": 20,
      "outputs": [
        {
          "output_type": "execute_result",
          "data": {
            "text/plain": [
              "('[CLS]', 101)"
            ]
          },
          "metadata": {
            "tags": []
          },
          "execution_count": 20
        }
      ]
    },
    {
      "cell_type": "markdown",
      "metadata": {
        "id": "vkSQAD_2hIPD"
      },
      "source": [
        "There is also a special token [PAD] for padding."
      ]
    },
    {
      "cell_type": "code",
      "metadata": {
        "id": "Xd86shBUEily",
        "outputId": "38f704f0-95e6-4ab2-f229-2064d3effcf9",
        "colab": {
          "base_uri": "https://localhost:8080/",
          "height": 35
        }
      },
      "source": [
        "tokenizer.pad_token, tokenizer.pad_token_id"
      ],
      "execution_count": 21,
      "outputs": [
        {
          "output_type": "execute_result",
          "data": {
            "text/plain": [
              "('[PAD]', 0)"
            ]
          },
          "metadata": {
            "tags": []
          },
          "execution_count": 21
        }
      ]
    },
    {
      "cell_type": "markdown",
      "metadata": {
        "id": "A-TC9bvPhMsi"
      },
      "source": [
        "BERT understands tokens that were in the training set. Everything else can be encoded using the [UNK] (unknown) token."
      ]
    },
    {
      "cell_type": "code",
      "metadata": {
        "id": "dM3nygjkEmeW",
        "outputId": "b2f0536a-5d89-407f-bb5f-b2cd084da3f7",
        "colab": {
          "base_uri": "https://localhost:8080/",
          "height": 35
        }
      },
      "source": [
        "tokenizer.unk_token, tokenizer.unk_token_id"
      ],
      "execution_count": 22,
      "outputs": [
        {
          "output_type": "execute_result",
          "data": {
            "text/plain": [
              "('[UNK]', 100)"
            ]
          },
          "metadata": {
            "tags": []
          },
          "execution_count": 22
        }
      ]
    },
    {
      "cell_type": "markdown",
      "metadata": {
        "id": "1nd0LE4ahRb1"
      },
      "source": [
        "All of that work can be done using the [encode_plus()](https://huggingface.co/transformers/main_classes/tokenizer.html#transformers.PreTrainedTokenizer.encode_plus) method."
      ]
    },
    {
      "cell_type": "code",
      "metadata": {
        "id": "MCNY2GZDEpz-",
        "outputId": "6bf1cb70-57fa-46b4-8724-ad75d43bd0d3",
        "colab": {
          "base_uri": "https://localhost:8080/",
          "height": 35
        }
      },
      "source": [
        "encoding = tokenizer.encode_plus(\n",
        "    sample_txt,\n",
        "    max_length=32,             \n",
        "    add_special_tokens=True,      # Add '[CLS]' and '[SEP]'\n",
        "    return_token_type_ids=False,\n",
        "    padding='max_length',         # Pad to max Length\n",
        "    truncation=True,\n",
        "    return_attention_mask=True,    \n",
        "    return_tensors='pt'           # Return PyTorch tensors\n",
        ")\n",
        "encoding.keys() "
      ],
      "execution_count": 23,
      "outputs": [
        {
          "output_type": "execute_result",
          "data": {
            "text/plain": [
              "dict_keys(['input_ids', 'attention_mask'])"
            ]
          },
          "metadata": {
            "tags": []
          },
          "execution_count": 23
        }
      ]
    },
    {
      "cell_type": "markdown",
      "metadata": {
        "id": "QnvZxP--iHpH"
      },
      "source": [
        "The token ids are now stored in a Tensor and padded to a length of 32."
      ]
    },
    {
      "cell_type": "code",
      "metadata": {
        "id": "QflYAdEKFFjY",
        "outputId": "2bd96d28-8139-4008-8e48-c29fb8d4ff8f",
        "colab": {
          "base_uri": "https://localhost:8080/",
          "height": 104
        }
      },
      "source": [
        "print(len(encoding['input_ids'][0]))\n",
        "encoding['input_ids'][0] "
      ],
      "execution_count": 24,
      "outputs": [
        {
          "output_type": "stream",
          "text": [
            "32\n"
          ],
          "name": "stdout"
        },
        {
          "output_type": "execute_result",
          "data": {
            "text/plain": [
              "tensor([  101,   160, 12257, 87147, 10113, 15688, 10526, 29694, 11924,   102,\n",
              "            0,     0,     0,     0,     0,     0,     0,     0,     0,     0,\n",
              "            0,     0,     0,     0,     0,     0,     0,     0,     0,     0,\n",
              "            0,     0])"
            ]
          },
          "metadata": {
            "tags": []
          },
          "execution_count": 24
        }
      ]
    },
    {
      "cell_type": "markdown",
      "metadata": {
        "id": "RxoErFxHiRsi"
      },
      "source": [
        "The attention mask has the same length."
      ]
    },
    {
      "cell_type": "code",
      "metadata": {
        "id": "SbUvtS_oFZtv",
        "outputId": "7b17a985-2c0d-457a-8c47-c8cfb754e246",
        "colab": {
          "base_uri": "https://localhost:8080/",
          "height": 69
        }
      },
      "source": [
        "print(len(encoding['attention_mask'][0]))\n",
        "encoding['attention_mask'][0]  "
      ],
      "execution_count": 25,
      "outputs": [
        {
          "output_type": "stream",
          "text": [
            "32\n"
          ],
          "name": "stdout"
        },
        {
          "output_type": "execute_result",
          "data": {
            "text/plain": [
              "tensor([1, 1, 1, 1, 1, 1, 1, 1, 1, 1, 0, 0, 0, 0, 0, 0, 0, 0, 0, 0, 0, 0, 0, 0,\n",
              "        0, 0, 0, 0, 0, 0, 0, 0])"
            ]
          },
          "metadata": {
            "tags": []
          },
          "execution_count": 25
        }
      ]
    },
    {
      "cell_type": "markdown",
      "metadata": {
        "id": "TU4Ycr2CiVMF"
      },
      "source": [
        "We can inverse the tokenization to have a look at the special tokens."
      ]
    },
    {
      "cell_type": "code",
      "metadata": {
        "id": "liRoqxf3FptZ",
        "outputId": "98404bd0-cb6b-4fad-c386-75c073dfd066",
        "colab": {
          "base_uri": "https://localhost:8080/",
          "height": 572
        }
      },
      "source": [
        "tokenizer.convert_ids_to_tokens(encoding['input_ids'][0]) "
      ],
      "execution_count": 26,
      "outputs": [
        {
          "output_type": "execute_result",
          "data": {
            "text/plain": [
              "['[CLS]',\n",
              " 'W',\n",
              " '##ah',\n",
              " 'ky',\n",
              " '##a',\n",
              " 'ba',\n",
              " '##at',\n",
              " 'lik',\n",
              " '##hi',\n",
              " '[SEP]',\n",
              " '[PAD]',\n",
              " '[PAD]',\n",
              " '[PAD]',\n",
              " '[PAD]',\n",
              " '[PAD]',\n",
              " '[PAD]',\n",
              " '[PAD]',\n",
              " '[PAD]',\n",
              " '[PAD]',\n",
              " '[PAD]',\n",
              " '[PAD]',\n",
              " '[PAD]',\n",
              " '[PAD]',\n",
              " '[PAD]',\n",
              " '[PAD]',\n",
              " '[PAD]',\n",
              " '[PAD]',\n",
              " '[PAD]',\n",
              " '[PAD]',\n",
              " '[PAD]',\n",
              " '[PAD]',\n",
              " '[PAD]']"
            ]
          },
          "metadata": {
            "tags": []
          },
          "execution_count": 26
        }
      ]
    },
    {
      "cell_type": "markdown",
      "metadata": {
        "id": "ZsO1S4q6iaI1"
      },
      "source": [
        "We have all building blocks required to create a PyTorch dataset. Let's do it!!!!"
      ]
    },
    {
      "cell_type": "code",
      "metadata": {
        "id": "rTjNXkvnG_44"
      },
      "source": [
        "class SentimentDataset(Dataset):\n",
        "\n",
        "  def __init__(self, texts, targets, tokenizer, max_len):\n",
        "    self.texts = texts\n",
        "    self.targets = targets\n",
        "    self.tokenizer = tokenizer\n",
        "    self.max_len = max_len\n",
        "  \n",
        "  def __len__(self):\n",
        "    return len(self.texts)\n",
        "  \n",
        "  def __getitem__(self, item):\n",
        "    text = str(self.texts[item])\n",
        "    target = self.targets[item]\n",
        "\n",
        "    encoding = self.tokenizer.encode_plus(\n",
        "      text,\n",
        "      add_special_tokens=True,\n",
        "      max_length=self.max_len,\n",
        "      return_token_type_ids=False,\n",
        "      padding='max_length',\n",
        "      truncation=True,\n",
        "      return_attention_mask=True,\n",
        "      return_tensors='pt',\n",
        "    )\n",
        "\n",
        "    return {\n",
        "      'urdu_text': text,\n",
        "      'input_ids': encoding['input_ids'].flatten(),\n",
        "      'attention_mask': encoding['attention_mask'].flatten(),\n",
        "      'targets': torch.tensor(target, dtype=torch.long)\n",
        "    } "
      ],
      "execution_count": 33,
      "outputs": []
    },
    {
      "cell_type": "markdown",
      "metadata": {
        "id": "x3VfpYXljndV"
      },
      "source": [
        "The tokenizer is doing most of the heavy lifting for us. We also return the urdu texts, so it'll be easier to evaluate the predictions from our model. Let's split the data. First we'll split the data to training and testing sets then we'll split testing set to validation and testing."
      ]
    },
    {
      "cell_type": "code",
      "metadata": {
        "id": "rfAc5cl6Hmnc"
      },
      "source": [
        "df_train, df_test = train_test_split(df, test_size=0.1, random_state=RANDOM_SEED)   \n",
        "df_val, df_test = train_test_split(df_test, test_size=0.5, random_state=RANDOM_SEED) "
      ],
      "execution_count": 34,
      "outputs": []
    },
    {
      "cell_type": "markdown",
      "metadata": {
        "id": "X6rOlnN8kUr1"
      },
      "source": [
        "Shapes of the dataframe we split."
      ]
    },
    {
      "cell_type": "code",
      "metadata": {
        "id": "zuaR_0e_HrYC",
        "outputId": "fbb6923d-b7ac-497a-b6ca-db08e8346e69",
        "colab": {
          "base_uri": "https://localhost:8080/",
          "height": 35
        }
      },
      "source": [
        "df_train.shape, df_val.shape, df_test.shape "
      ],
      "execution_count": 35,
      "outputs": [
        {
          "output_type": "execute_result",
          "data": {
            "text/plain": [
              "((18205, 2), (1011, 2), (1012, 2))"
            ]
          },
          "metadata": {
            "tags": []
          },
          "execution_count": 35
        }
      ]
    },
    {
      "cell_type": "markdown",
      "metadata": {
        "id": "BHuaJqYVkTNN"
      },
      "source": [
        "We also need to create a couple of data loaders. Here's a helper function to do it."
      ]
    },
    {
      "cell_type": "code",
      "metadata": {
        "id": "LHKr4yn6Hwen"
      },
      "source": [
        "def create_data_loader(df, tokenizer, max_len, batch_size):\n",
        "  ds = SentimentDataset(\n",
        "    texts=df.text.to_numpy(),\n",
        "    targets=df.sentiment.to_numpy(),\n",
        "    tokenizer=tokenizer,\n",
        "    max_len=max_len,\n",
        "  )\n",
        "\n",
        "  return DataLoader(\n",
        "    ds,\n",
        "    batch_size=batch_size,\n",
        "    num_workers=4,\n",
        "  ) "
      ],
      "execution_count": 36,
      "outputs": []
    },
    {
      "cell_type": "markdown",
      "metadata": {
        "id": "MBrLsyUOlNZK"
      },
      "source": [
        "We'll set up the model hyperparameters and create the final data loaders as inputs to our model."
      ]
    },
    {
      "cell_type": "code",
      "metadata": {
        "id": "ZHyF0xnzH-0N"
      },
      "source": [
        "BATCH_SIZE = 16\n",
        "MAX_LEN = 160\n",
        "\n",
        "train_data_loader = create_data_loader(df_train, tokenizer, MAX_LEN, BATCH_SIZE)\n",
        "val_data_loader = create_data_loader(df_val, tokenizer, MAX_LEN, BATCH_SIZE)\n",
        "test_data_loader = create_data_loader(df_test, tokenizer, MAX_LEN, BATCH_SIZE) "
      ],
      "execution_count": 37,
      "outputs": []
    },
    {
      "cell_type": "markdown",
      "metadata": {
        "id": "nGFUk0w1lZfy"
      },
      "source": [
        "Our data loader should return 4 keys, The urdu text, input ids, attentions and targets."
      ]
    },
    {
      "cell_type": "code",
      "metadata": {
        "id": "oGRG-LNHIK4Q",
        "outputId": "1888e3ae-fd09-412e-d14e-6b33de0a9c7a",
        "colab": {
          "base_uri": "https://localhost:8080/",
          "height": 35
        }
      },
      "source": [
        "data = next(iter(train_data_loader))\n",
        "data.keys() "
      ],
      "execution_count": 38,
      "outputs": [
        {
          "output_type": "execute_result",
          "data": {
            "text/plain": [
              "dict_keys(['urdu_text', 'input_ids', 'attention_mask', 'targets'])"
            ]
          },
          "metadata": {
            "tags": []
          },
          "execution_count": 38
        }
      ]
    },
    {
      "cell_type": "code",
      "metadata": {
        "id": "Y0P7Xey0IEcS",
        "outputId": "31f8acbf-b815-42c7-cb24-a5e806c04cb2",
        "colab": {
          "base_uri": "https://localhost:8080/",
          "height": 69
        }
      },
      "source": [
        "print(data['input_ids'].shape)\n",
        "print(data['attention_mask'].shape)\n",
        "print(data['targets'].shape) "
      ],
      "execution_count": 39,
      "outputs": [
        {
          "output_type": "stream",
          "text": [
            "torch.Size([16, 160])\n",
            "torch.Size([16, 160])\n",
            "torch.Size([16])\n"
          ],
          "name": "stdout"
        }
      ]
    },
    {
      "cell_type": "markdown",
      "metadata": {
        "id": "OjD0T9vcN3XH"
      },
      "source": [
        "###**Sentiment Classification using BERT and Hugging Face**\n",
        "\n",
        "There are a lot of helpers that make using BERT easy with the Transformers library. Depending on this task, we'll use BERTMultiLingual Model."
      ]
    },
    {
      "cell_type": "code",
      "metadata": {
        "id": "GT0IbePCIHon",
        "outputId": "2ed89819-4e8b-4a62-90c9-20364963fc9d",
        "colab": {
          "base_uri": "https://localhost:8080/",
          "height": 116,
          "referenced_widgets": [
            "2a7dca6d87934c7e881597f7968d5b99",
            "58440dae04294ca285e7fb11ebcfbb24",
            "fa88c1462d414e9196c9cfb84c9e4db9",
            "a573dbb6ce754dfaa7e11e12b771c9b1",
            "8ca35c372a2249bda0adb5eb724ee01f",
            "89b6bb72cd924295b87e772e679d1d4e",
            "f15a0ac0840142d2aa14b7f0e168379b",
            "c286c40440634c2d9f00e8a11285ed17",
            "d486479110ad4d04a284b2bebe12176c",
            "2e69a7d46c554e37b9cfc55242bcd638",
            "0ed00702e7f84f8cbc0e8fa9b0a2ff88",
            "844170b2bb344d2183e7b36e58e9c403",
            "18d36223621443db8391ca98ddef9527",
            "2caa59a7813648788b1f965727dc21d0",
            "b6a0a77fa2944814a3644b1157d0f222",
            "f5f4bd676fca46a4aa9c89b9d8bb73d2"
          ]
        }
      },
      "source": [
        "bert_model = BertModel.from_pretrained(PRE_TRAINED_MODEL_NAME) "
      ],
      "execution_count": 40,
      "outputs": [
        {
          "output_type": "display_data",
          "data": {
            "application/vnd.jupyter.widget-view+json": {
              "model_id": "2a7dca6d87934c7e881597f7968d5b99",
              "version_minor": 0,
              "version_major": 2
            },
            "text/plain": [
              "HBox(children=(FloatProgress(value=0.0, description='Downloading', max=625.0, style=ProgressStyle(description_…"
            ]
          },
          "metadata": {
            "tags": []
          }
        },
        {
          "output_type": "stream",
          "text": [
            "\n"
          ],
          "name": "stdout"
        },
        {
          "output_type": "display_data",
          "data": {
            "application/vnd.jupyter.widget-view+json": {
              "model_id": "d486479110ad4d04a284b2bebe12176c",
              "version_minor": 0,
              "version_major": 2
            },
            "text/plain": [
              "HBox(children=(FloatProgress(value=0.0, description='Downloading', max=714314041.0, style=ProgressStyle(descri…"
            ]
          },
          "metadata": {
            "tags": []
          }
        },
        {
          "output_type": "stream",
          "text": [
            "\n"
          ],
          "name": "stdout"
        }
      ]
    },
    {
      "cell_type": "markdown",
      "metadata": {
        "id": "SmetFnrMOPwp"
      },
      "source": [
        "And try to use it on the encoding of our sample text."
      ]
    },
    {
      "cell_type": "code",
      "metadata": {
        "id": "ut3DUyToMpZz"
      },
      "source": [
        "last_hidden_state, pooled_output = bert_model(\n",
        "  input_ids=encoding['input_ids'], \n",
        "  attention_mask=encoding['attention_mask']\n",
        ") "
      ],
      "execution_count": 41,
      "outputs": []
    },
    {
      "cell_type": "markdown",
      "metadata": {
        "id": "XU2Qc5XvOSyD"
      },
      "source": [
        "The `last_hidden_state` is a sequence of hidden states of the last layer of the model. Obtaining the `pooled_output` is done by applying the [BertPooler](https://github.com/huggingface/transformers/blob/edf0582c0be87b60f94f41c659ea779876efc7be/src/transformers/modeling_bert.py#L426) on last_hidden_state: "
      ]
    },
    {
      "cell_type": "code",
      "metadata": {
        "id": "H-BT_PjzMtUt",
        "outputId": "b1fbb17c-cabc-4c37-ad81-d1fe3d884dd4",
        "colab": {
          "base_uri": "https://localhost:8080/",
          "height": 35
        }
      },
      "source": [
        "last_hidden_state.shape "
      ],
      "execution_count": 42,
      "outputs": [
        {
          "output_type": "execute_result",
          "data": {
            "text/plain": [
              "torch.Size([1, 32, 768])"
            ]
          },
          "metadata": {
            "tags": []
          },
          "execution_count": 42
        }
      ]
    },
    {
      "cell_type": "markdown",
      "metadata": {
        "id": "zZGpLTQdOgfg"
      },
      "source": [
        "We have the hidden state for each of our 32 tokens (the length of our example sequence). But why 768? This is the number of hidden units in the feedforward-networks. We can verify that by checking the config."
      ]
    },
    {
      "cell_type": "code",
      "metadata": {
        "id": "G1yVgQfrMvGq",
        "outputId": "8733343a-f5f7-407b-b7a4-607dd219aec9",
        "colab": {
          "base_uri": "https://localhost:8080/",
          "height": 35
        }
      },
      "source": [
        "bert_model.config.hidden_size "
      ],
      "execution_count": 43,
      "outputs": [
        {
          "output_type": "execute_result",
          "data": {
            "text/plain": [
              "768"
            ]
          },
          "metadata": {
            "tags": []
          },
          "execution_count": 43
        }
      ]
    },
    {
      "cell_type": "markdown",
      "metadata": {
        "id": "3JTF8Gz6Otkm"
      },
      "source": [
        "You can think of the `pooled_output` as a summary of the content. Let's look at the shape of the output."
      ]
    },
    {
      "cell_type": "code",
      "metadata": {
        "id": "8dx1VGLhMxP3",
        "outputId": "4a6651a9-642f-4f4d-e87c-0388b795eb3c",
        "colab": {
          "base_uri": "https://localhost:8080/",
          "height": 35
        }
      },
      "source": [
        "pooled_output.shape"
      ],
      "execution_count": 44,
      "outputs": [
        {
          "output_type": "execute_result",
          "data": {
            "text/plain": [
              "torch.Size([1, 768])"
            ]
          },
          "metadata": {
            "tags": []
          },
          "execution_count": 44
        }
      ]
    },
    {
      "cell_type": "markdown",
      "metadata": {
        "id": "OvdjB0sLO2Om"
      },
      "source": [
        "We can use all of this knowledge to create a classifier that uses the BERT model."
      ]
    },
    {
      "cell_type": "code",
      "metadata": {
        "id": "mGqglopSRKgj"
      },
      "source": [
        "class SentimentClassifier(nn.Module):\n",
        "\n",
        "  def __init__(self, n_classes):\n",
        "    super(SentimentClassifier, self).__init__()\n",
        "    self.bert = BertModel.from_pretrained(PRE_TRAINED_MODEL_NAME)\n",
        "    self.drop = nn.Dropout(p=0.3)\n",
        "    self.out = nn.Linear(self.bert.config.hidden_size, n_classes)\n",
        "  \n",
        "  def forward(self, input_ids, attention_mask):\n",
        "    _, pooled_output = self.bert(\n",
        "      input_ids=input_ids,\n",
        "      attention_mask=attention_mask\n",
        "    )\n",
        "    output = self.drop(pooled_output)\n",
        "    return self.out(output) "
      ],
      "execution_count": 45,
      "outputs": []
    },
    {
      "cell_type": "markdown",
      "metadata": {
        "id": "svYaWwZlO5s3"
      },
      "source": [
        "Our classifier delegates most of the heavy lifting to the BertModel. We use a dropout layer for some regularization and a fully-connected layer for our output. Note that we're returning the raw output of the last layer since that is required for the cross-entropy loss function in PyTorch to work.\n",
        "\n",
        "This should work like any other PyTorch model. Let's create an instance and move it to the GPU."
      ]
    },
    {
      "cell_type": "code",
      "metadata": {
        "id": "VpouC1x4RO_e"
      },
      "source": [
        "model = SentimentClassifier(3)    # Number of Classes\n",
        "model = model.to(device)"
      ],
      "execution_count": 46,
      "outputs": []
    },
    {
      "cell_type": "code",
      "metadata": {
        "id": "u8Jpy7jJRSE8",
        "outputId": "bceb77c5-5c44-4d8b-bfa9-278e70a65b62",
        "colab": {
          "base_uri": "https://localhost:8080/",
          "height": 52
        }
      },
      "source": [
        "input_ids = data['input_ids'].to(device)\n",
        "attention_mask = data['attention_mask'].to(device)\n",
        "\n",
        "print(input_ids.shape) # batch size x seq length\n",
        "print(attention_mask.shape) # batch size x seq length "
      ],
      "execution_count": 47,
      "outputs": [
        {
          "output_type": "stream",
          "text": [
            "torch.Size([16, 160])\n",
            "torch.Size([16, 160])\n"
          ],
          "name": "stdout"
        }
      ]
    },
    {
      "cell_type": "markdown",
      "metadata": {
        "id": "8teuNKQQTXYC"
      },
      "source": [
        "To get the predicted probabilities from our trained model, we'll apply the softmax function to the outputs."
      ]
    },
    {
      "cell_type": "code",
      "metadata": {
        "id": "6oYqY5McRhkp",
        "outputId": "215a928e-b976-4d8a-ae16-7b373d0aedbd",
        "colab": {
          "base_uri": "https://localhost:8080/",
          "height": 295
        }
      },
      "source": [
        "F.softmax(model(input_ids, attention_mask), dim=1) "
      ],
      "execution_count": 48,
      "outputs": [
        {
          "output_type": "execute_result",
          "data": {
            "text/plain": [
              "tensor([[0.2595, 0.3731, 0.3674],\n",
              "        [0.2654, 0.3331, 0.4015],\n",
              "        [0.3175, 0.3096, 0.3729],\n",
              "        [0.2435, 0.4273, 0.3292],\n",
              "        [0.3466, 0.3138, 0.3396],\n",
              "        [0.3077, 0.3561, 0.3362],\n",
              "        [0.3083, 0.3015, 0.3902],\n",
              "        [0.2964, 0.3469, 0.3567],\n",
              "        [0.2451, 0.3244, 0.4305],\n",
              "        [0.3235, 0.3692, 0.3073],\n",
              "        [0.2580, 0.3463, 0.3957],\n",
              "        [0.3059, 0.3660, 0.3281],\n",
              "        [0.3326, 0.3440, 0.3234],\n",
              "        [0.2899, 0.2950, 0.4152],\n",
              "        [0.3026, 0.2931, 0.4043],\n",
              "        [0.2852, 0.3113, 0.4035]], device='cuda:0', grad_fn=<SoftmaxBackward>)"
            ]
          },
          "metadata": {
            "tags": []
          },
          "execution_count": 48
        }
      ]
    },
    {
      "cell_type": "markdown",
      "metadata": {
        "id": "Ki0-T93wTaQ4"
      },
      "source": [
        "###**Training**\n",
        "\n",
        "To reproduce the training procedure from the BERT paper, we'll use the [AdamW optimizer](https://huggingface.co/transformers/main_classes/optimizer_schedules.html#adamw) provided by Hugging Face. It corrects weight decay, so it's similar to the original paper. We'll also use a linear scheduler with no warmup steps."
      ]
    },
    {
      "cell_type": "code",
      "metadata": {
        "id": "U4x9In1wRjsA"
      },
      "source": [
        "EPOCHS = 10\n",
        "\n",
        "optimizer = AdamW(model.parameters(), lr=2e-5, correct_bias=False)\n",
        "total_steps = len(train_data_loader) * EPOCHS\n",
        "\n",
        "scheduler = get_linear_schedule_with_warmup(\n",
        "  optimizer,\n",
        "  num_warmup_steps=0,\n",
        "  num_training_steps=total_steps\n",
        ")\n",
        "\n",
        "loss_fn = nn.CrossEntropyLoss().to(device) "
      ],
      "execution_count": 49,
      "outputs": []
    },
    {
      "cell_type": "markdown",
      "metadata": {
        "id": "z7XjQD7ZT2KY"
      },
      "source": [
        "\n",
        "How do we come up with all hyperparameters? The BERT authors have some recommendations for fine-tuning:\n",
        "\n",
        "- Batch size: 16, 32\n",
        "- Learning rate (Adam): 5e-5, 3e-5, 2e-5\n",
        "- Number of epochs: 2, 3, 4, 5, 10\n",
        "\n",
        "We're going to ignore the number of epochs recommendation but stick with the rest. Note that increasing the batch size reduces the training time significantly, but gives you lower accuracy.\n",
        "\n",
        "Let's continue with writing a helper function for training our model for 10 epochs."
      ]
    },
    {
      "cell_type": "code",
      "metadata": {
        "id": "5oYkwYEKRoKe"
      },
      "source": [
        "def train_epoch(\n",
        "  model, \n",
        "  data_loader, \n",
        "  loss_fn, \n",
        "  optimizer, \n",
        "  device, \n",
        "  scheduler, \n",
        "  n_examples\n",
        "):\n",
        "  model = model.train()\n",
        "\n",
        "  losses = []\n",
        "  correct_predictions = 0\n",
        "  \n",
        "  for d in data_loader:\n",
        "    input_ids = d[\"input_ids\"].to(device)\n",
        "    attention_mask = d[\"attention_mask\"].to(device)\n",
        "    targets = d[\"targets\"].to(device)\n",
        "\n",
        "    outputs = model(\n",
        "      input_ids=input_ids,\n",
        "      attention_mask=attention_mask\n",
        "    )\n",
        "\n",
        "    _, preds = torch.max(outputs, dim=1)\n",
        "    loss = loss_fn(outputs, targets)\n",
        "\n",
        "    correct_predictions += torch.sum(preds == targets)\n",
        "    losses.append(loss.item())\n",
        "\n",
        "    loss.backward()\n",
        "    nn.utils.clip_grad_norm_(model.parameters(), max_norm=1.0)\n",
        "    optimizer.step()\n",
        "    scheduler.step()\n",
        "    optimizer.zero_grad() \n",
        "\n",
        "  return correct_predictions.double() / n_examples, np.mean(losses) "
      ],
      "execution_count": 50,
      "outputs": []
    },
    {
      "cell_type": "markdown",
      "metadata": {
        "id": "YNhMxx7lUCKX"
      },
      "source": [
        "Training the model should look familiar, except for two things. The scheduler gets called every time a batch is fed to the model. We're avoiding exploding gradients by clipping the gradients of the model using [clip_gradnorm](https://pytorch.org/docs/stable/nn.html#clip-grad-norm).\n",
        "\n",
        "Let's write another one that helps us evaluate the model on a given data loader."
      ]
    },
    {
      "cell_type": "code",
      "metadata": {
        "id": "7l5j8A4BRzJ0"
      },
      "source": [
        "def eval_model(model, data_loader, loss_fn, device, n_examples):\n",
        "  model = model.eval()\n",
        "\n",
        "  losses = []\n",
        "  correct_predictions = 0\n",
        "\n",
        "  with torch.no_grad():\n",
        "    for d in data_loader:\n",
        "      input_ids = d[\"input_ids\"].to(device)\n",
        "      attention_mask = d[\"attention_mask\"].to(device)\n",
        "      targets = d[\"targets\"].to(device)\n",
        "\n",
        "      outputs = model(\n",
        "        input_ids=input_ids,\n",
        "        attention_mask=attention_mask\n",
        "      )\n",
        "      _, preds = torch.max(outputs, dim=1)\n",
        "\n",
        "      loss = loss_fn(outputs, targets)\n",
        "\n",
        "      correct_predictions += torch.sum(preds == targets)\n",
        "      losses.append(loss.item())\n",
        "\n",
        "  return correct_predictions.double() / n_examples, np.mean(losses) "
      ],
      "execution_count": 51,
      "outputs": []
    },
    {
      "cell_type": "markdown",
      "metadata": {
        "id": "WU5b0QioULH1"
      },
      "source": [
        "Using those two, we can write our training loop. We'll also store the training history."
      ]
    },
    {
      "cell_type": "code",
      "metadata": {
        "id": "0_QdYqpWSHRq",
        "outputId": "781132a8-97fd-4132-934c-dffa4f2700af",
        "colab": {
          "base_uri": "https://localhost:8080/",
          "height": 919
        }
      },
      "source": [
        "%%time\n",
        "\n",
        "history = defaultdict(list)\n",
        "best_accuracy = 0\n",
        "\n",
        "for epoch in range(EPOCHS):\n",
        "\n",
        "  print(f'Epoch {epoch + 1}/{EPOCHS}')\n",
        "  print('-' * 10)\n",
        "\n",
        "  train_acc, train_loss = train_epoch(\n",
        "    model,\n",
        "    train_data_loader,    \n",
        "    loss_fn, \n",
        "    optimizer, \n",
        "    device, \n",
        "    scheduler, \n",
        "    len(df_train)\n",
        "  )\n",
        "\n",
        "  print(f'Train loss {train_loss} accuracy {train_acc}')\n",
        "\n",
        "  val_acc, val_loss = eval_model(\n",
        "    model,\n",
        "    val_data_loader,\n",
        "    loss_fn, \n",
        "    device, \n",
        "    len(df_val)\n",
        "  )\n",
        "\n",
        "  print(f'Val   loss {val_loss} accuracy {val_acc}')\n",
        "  print() \n",
        "\n",
        "  history['train_acc'].append(train_acc)\n",
        "  history['train_loss'].append(train_loss)\n",
        "  history['val_acc'].append(val_acc)\n",
        "  history['val_loss'].append(val_loss)\n",
        "\n",
        "  if val_acc > best_accuracy:\n",
        "    torch.save(model.state_dict(), 'best_model_state.bin')\n",
        "    best_accuracy = val_acc "
      ],
      "execution_count": 52,
      "outputs": [
        {
          "output_type": "stream",
          "text": [
            "Epoch 1/10\n",
            "----------\n",
            "Train loss 1.0722231505625277 accuracy 0.43477066739906617\n",
            "Val   loss 1.1243147747591138 accuracy 0.45400593471810086\n",
            "\n",
            "Epoch 2/10\n",
            "----------\n",
            "Train loss 1.0448812092859003 accuracy 0.45811590222466353\n",
            "Val   loss 1.0207598572596908 accuracy 0.4708209693372898\n",
            "\n",
            "Epoch 3/10\n",
            "----------\n",
            "Train loss 1.0159774858419421 accuracy 0.4827794561933535\n",
            "Val   loss 1.0026708571240306 accuracy 0.5123639960435212\n",
            "\n",
            "Epoch 4/10\n",
            "----------\n",
            "Train loss 0.9907595751993685 accuracy 0.5199670420214226\n",
            "Val   loss 1.0039758794009686 accuracy 0.5370919881305638\n",
            "\n",
            "Epoch 5/10\n",
            "----------\n",
            "Train loss 0.9553058959268728 accuracy 0.5445756660258171\n",
            "Val   loss 0.9591710111126304 accuracy 0.5400593471810089\n",
            "\n",
            "Epoch 6/10\n",
            "----------\n",
            "Train loss 0.92237977214773 accuracy 0.5699533095303488\n",
            "Val   loss 0.9567596707493067 accuracy 0.5677546983184966\n",
            "\n",
            "Epoch 7/10\n",
            "----------\n",
            "Train loss 0.8821564696218511 accuracy 0.6015380390002747\n",
            "Val   loss 0.9307702910155058 accuracy 0.5855588526211671\n",
            "\n",
            "Epoch 8/10\n",
            "----------\n",
            "Train loss 0.8489413818177524 accuracy 0.635484756934908\n",
            "Val   loss 0.9276768667623401 accuracy 0.5736894164193868\n",
            "\n",
            "Epoch 9/10\n",
            "----------\n",
            "Train loss 0.8066155698104567 accuracy 0.6641581982971712\n",
            "Val   loss 0.9179913178086281 accuracy 0.5954500494559841\n",
            "\n",
            "Epoch 10/10\n",
            "----------\n",
            "Train loss 0.7832525633864746 accuracy 0.6825597363361714\n",
            "Val   loss 0.9132868368178606 accuracy 0.5964391691394658\n",
            "\n",
            "CPU times: user 1h 44min 49s, sys: 1h 39s, total: 2h 45min 28s\n",
            "Wall time: 2h 46min 17s\n"
          ],
          "name": "stdout"
        }
      ]
    },
    {
      "cell_type": "markdown",
      "metadata": {
        "id": "v7MjQUQvUPbU"
      },
      "source": [
        "Note that we're storing the state of the best model, indicated by the highest validation accuracy.\n",
        "\n",
        "Whoo, this took a lot of time! This accuracy is quite shocking even tho the BERT model took around 3 hours to train. This could be due to many reasons:\n",
        "- Poor optimized hyperparameters. (Epochs, batch size, padding length, optimizer, learning rate,etc)\n",
        "- MultiLingual BERT isnt as optimized as the standard BERT model which is trained on english vocabulary.\n",
        "\n",
        "You can increase the accuracy by training the model to more epochs and optimizing the hyperparameters.\n",
        " \n",
        " We can look at the training vs validation accuracy: "
      ]
    },
    {
      "cell_type": "code",
      "metadata": {
        "id": "SJ3CXYpwSOtf",
        "outputId": "900f7011-f151-40ec-dcb1-2b790c51312f",
        "colab": {
          "base_uri": "https://localhost:8080/",
          "height": 523
        }
      },
      "source": [
        "plt.plot(history['train_acc'], label='train accuracy')\n",
        "plt.plot(history['val_acc'], label='validation accuracy')\n",
        "\n",
        "plt.title('Training history')\n",
        "plt.ylabel('Accuracy')\n",
        "plt.xlabel('Epoch')\n",
        "plt.legend()\n",
        "plt.ylim([0, 1]); "
      ],
      "execution_count": 53,
      "outputs": [
        {
          "output_type": "display_data",
          "data": {
            "image/png": "[encoded data removed]",
            "text/plain": [
              "<Figure size 864x576 with 1 Axes>"
            ]
          },
          "metadata": {
            "tags": [],
            "image/png": {
              "width": 732,
              "height": 506
            }
          }
        }
      ]
    },
    {
      "cell_type": "markdown",
      "metadata": {
        "id": "7_unBLtEVMgM"
      },
      "source": [
        "The training accuracy starts to increase after 10 epochs or so. You might try to fine-tune the parameters a bit more, but this will be good enough for us."
      ]
    },
    {
      "cell_type": "markdown",
      "metadata": {
        "id": "nf-dTdumVRmR"
      },
      "source": [
        "###**Evaluation**\n",
        "\n",
        "So how good is our model on predicting sentiment? Let's start by calculating the accuracy on the test data."
      ]
    },
    {
      "cell_type": "code",
      "metadata": {
        "id": "oqWP-3chAbqI",
        "outputId": "ebda7c4b-d648-4e1d-9525-53a4577e2871",
        "colab": {
          "base_uri": "https://localhost:8080/",
          "height": 35
        }
      },
      "source": [
        "test_acc, _ = eval_model(\n",
        "  model,\n",
        "  test_data_loader,\n",
        "  loss_fn,\n",
        "  device,\n",
        "  len(df_test)\n",
        ")\n",
        "\n",
        "test_acc.item() "
      ],
      "execution_count": 54,
      "outputs": [
        {
          "output_type": "execute_result",
          "data": {
            "text/plain": [
              "0.5968379446640316"
            ]
          },
          "metadata": {
            "tags": []
          },
          "execution_count": 54
        }
      ]
    },
    {
      "cell_type": "markdown",
      "metadata": {
        "id": "LWpzGITtVc5v"
      },
      "source": [
        "The accuracy is about the same as the training set. Our model seems to not overfit at the moment.\n",
        "\n",
        "We'll define a helper function to get the predictions from our model."
      ]
    },
    {
      "cell_type": "code",
      "metadata": {
        "id": "8H7nvOwjAjJ1"
      },
      "source": [
        "def get_predictions(model, data_loader):\n",
        "  model = model.eval()\n",
        "  \n",
        "  sentiment_texts = []\n",
        "  predictions = []\n",
        "  prediction_probs = []\n",
        "  real_values = []\n",
        "\n",
        "  with torch.no_grad():\n",
        "    for d in data_loader:\n",
        "\n",
        "      texts = d[\"urdu_text\"]\n",
        "      input_ids = d[\"input_ids\"].to(device)\n",
        "      attention_mask = d[\"attention_mask\"].to(device)\n",
        "      targets = d[\"targets\"].to(device)\n",
        "\n",
        "      outputs = model(\n",
        "        input_ids=input_ids,\n",
        "        attention_mask=attention_mask\n",
        "      )\n",
        "      _, preds = torch.max(outputs, dim=1)\n",
        "\n",
        "      probs = F.softmax(outputs, dim=1)\n",
        "\n",
        "      sentiment_texts.extend(texts)\n",
        "      predictions.extend(preds)\n",
        "      prediction_probs.extend(probs)\n",
        "      real_values.extend(targets)\n",
        "\n",
        "  predictions = torch.stack(predictions).cpu()\n",
        "  prediction_probs = torch.stack(prediction_probs).cpu()\n",
        "  real_values = torch.stack(real_values).cpu()\n",
        "  return sentiment_texts, predictions, prediction_probs, real_values"
      ],
      "execution_count": 57,
      "outputs": []
    },
    {
      "cell_type": "markdown",
      "metadata": {
        "id": "Xq2aRqOOVnk0"
      },
      "source": [
        "This is similar to the evaluation function, except that we're storing the text of the urud texts and the predicted probabilities (by applying the softmax on the model outputs)."
      ]
    },
    {
      "cell_type": "code",
      "metadata": {
        "id": "9-HjGIaRCSRx"
      },
      "source": [
        "y_review_texts, y_pred, y_pred_probs, y_test = get_predictions(\n",
        "  model,\n",
        "  test_data_loader\n",
        ") "
      ],
      "execution_count": 58,
      "outputs": []
    },
    {
      "cell_type": "code",
      "metadata": {
        "id": "yIy9NHMXDmDU"
      },
      "source": [
        "class_names = ['negative', 'neutral', 'positive'] "
      ],
      "execution_count": 66,
      "outputs": []
    },
    {
      "cell_type": "markdown",
      "metadata": {
        "id": "NF7yjTldWhHo"
      },
      "source": [
        "Let's have a look at the classification report."
      ]
    },
    {
      "cell_type": "code",
      "metadata": {
        "id": "dbWewHBXCVc2",
        "outputId": "79f6b3b2-2c3c-4fb9-ae91-aa62160d6523",
        "colab": {
          "base_uri": "https://localhost:8080/",
          "height": 191
        }
      },
      "source": [
        "print(classification_report(y_test, y_pred, target_names=class_names)) "
      ],
      "execution_count": 87,
      "outputs": [
        {
          "output_type": "stream",
          "text": [
            "              precision    recall  f1-score   support\n",
            "\n",
            "    negative       0.40      0.42      0.41       248\n",
            "     neutral       0.69      0.66      0.67       456\n",
            "    positive       0.64      0.64      0.64       308\n",
            "\n",
            "    accuracy                           0.60      1012\n",
            "   macro avg       0.57      0.58      0.57      1012\n",
            "weighted avg       0.60      0.60      0.60      1012\n",
            "\n"
          ],
          "name": "stdout"
        }
      ]
    },
    {
      "cell_type": "markdown",
      "metadata": {
        "id": "2JDMyneqWnNZ"
      },
      "source": [
        "We'll continue with the confusion matrix."
      ]
    },
    {
      "cell_type": "code",
      "metadata": {
        "id": "6nwLN24UCmCb",
        "outputId": "114344ee-def1-4790-b52e-7ca94ad7e9cd",
        "colab": {
          "base_uri": "https://localhost:8080/",
          "height": 531
        }
      },
      "source": [
        "def show_confusion_matrix(confusion_matrix):\n",
        "  hmap = sns.heatmap(confusion_matrix, annot=True, fmt=\"d\", cmap=\"Blues\")\n",
        "  hmap.yaxis.set_ticklabels(hmap.yaxis.get_ticklabels(), rotation=0, ha='right')\n",
        "  hmap.xaxis.set_ticklabels(hmap.xaxis.get_ticklabels(), rotation=25, ha='right')\n",
        "  plt.ylabel('True sentiment')\n",
        "  plt.xlabel('Predicted sentiment');\n",
        "\n",
        "cm = confusion_matrix(y_test, y_pred)\n",
        "df_cm = pd.DataFrame(cm, index=class_names, columns=class_names)\n",
        "show_confusion_matrix(df_cm) "
      ],
      "execution_count": 86,
      "outputs": [
        {
          "output_type": "display_data",
          "data": {
            "image/png": "[encoded data removed]",
            "text/plain": [
              "<Figure size 864x576 with 2 Axes>"
            ]
          },
          "metadata": {
            "tags": [],
            "image/png": {
              "width": 725,
              "height": 514
            }
          }
        }
      ]
    },
    {
      "cell_type": "markdown",
      "metadata": {
        "id": "gWkf3DMlWsJt"
      },
      "source": [
        "let's have a look at an example from our test data."
      ]
    },
    {
      "cell_type": "code",
      "metadata": {
        "id": "78SS0tMCCozm"
      },
      "source": [
        "idx = 2\n",
        "\n",
        "review_text = y_review_texts[idx]\n",
        "true_sentiment = y_test[idx]\n",
        "pred_df = pd.DataFrame({\n",
        "  'class_names': class_names,\n",
        "  'values': y_pred_probs[idx]\n",
        "}) "
      ],
      "execution_count": 82,
      "outputs": []
    },
    {
      "cell_type": "code",
      "metadata": {
        "id": "lBvzCOCADKXd",
        "outputId": "53f8df91-0463-436d-d8d2-2765b248f1a5",
        "colab": {
          "base_uri": "https://localhost:8080/",
          "height": 69
        }
      },
      "source": [
        "print(\"\\n\".join(wrap(review_text)))\n",
        "print()\n",
        "print(f'True sentiment: {class_names[true_sentiment]}') "
      ],
      "execution_count": 83,
      "outputs": [
        {
          "output_type": "stream",
          "text": [
            "datacell opn nh horha\n",
            "\n",
            "True sentiment: neutral\n"
          ],
          "name": "stdout"
        }
      ]
    },
    {
      "cell_type": "markdown",
      "metadata": {
        "id": "1UKDxn7rWwS0"
      },
      "source": [
        "Now we can look at the confidence of each sentiment of our model."
      ]
    },
    {
      "cell_type": "code",
      "metadata": {
        "id": "ZjFKKmzWDUFm",
        "outputId": "b4db231b-7f0e-4a5a-938e-ab125a8c5951",
        "colab": {
          "base_uri": "https://localhost:8080/",
          "height": 506
        }
      },
      "source": [
        "sns.barplot(x='values', y='class_names', data=pred_df, orient='h')\n",
        "plt.ylabel('sentiment')\n",
        "plt.xlabel('probability')\n",
        "plt.xlim([0, 1]); "
      ],
      "execution_count": 84,
      "outputs": [
        {
          "output_type": "display_data",
          "data": {
            "image/png": "[encoded data removed]",
            "text/plain": [
              "<Figure size 864x576 with 1 Axes>"
            ]
          },
          "metadata": {
            "tags": [],
            "image/png": {
              "width": 779,
              "height": 489
            }
          }
        }
      ]
    },
    {
      "cell_type": "markdown",
      "metadata": {
        "id": "xZ21wXMuWyUm"
      },
      "source": [
        "###**Predicting on Raw Text**\n",
        "\n",
        "Let's use our model to predict the sentiment of some raw text."
      ]
    },
    {
      "cell_type": "code",
      "metadata": {
        "id": "byR2LwJxDzXX"
      },
      "source": [
        "test_text = \"Kya Hal Hai?\" "
      ],
      "execution_count": 72,
      "outputs": []
    },
    {
      "cell_type": "markdown",
      "metadata": {
        "id": "x2Ryt99I7j0r"
      },
      "source": [
        "We have to use the tokenizer to encode the text."
      ]
    },
    {
      "cell_type": "code",
      "metadata": {
        "id": "-2lkZDY2EHY_"
      },
      "source": [
        "encoded_review = tokenizer.encode_plus(\n",
        "  test_text,\n",
        "  max_length=MAX_LEN,\n",
        "  add_special_tokens=True,\n",
        "  return_token_type_ids=False,\n",
        "  padding='max_length',\n",
        "  return_attention_mask=True,\n",
        "  return_tensors='pt',\n",
        "  truncation=True\n",
        ")"
      ],
      "execution_count": 74,
      "outputs": []
    },
    {
      "cell_type": "markdown",
      "metadata": {
        "id": "gr7a_ndB7mlV"
      },
      "source": [
        "Let's get the predictions from our model."
      ]
    },
    {
      "cell_type": "code",
      "metadata": {
        "id": "TZvt_K_MELke",
        "outputId": "b78848e5-18c7-453a-b25c-3d074b165c1b",
        "colab": {
          "base_uri": "https://localhost:8080/",
          "height": 52
        }
      },
      "source": [
        "input_ids = encoded_review['input_ids'].to(device)\n",
        "attention_mask = encoded_review['attention_mask'].to(device)\n",
        "\n",
        "output = model(input_ids, attention_mask)\n",
        "_, prediction = torch.max(output, dim=1)\n",
        "\n",
        "print(f'Review text: {review_text}')\n",
        "print(f'Sentiment  : {class_names[prediction]}')  "
      ],
      "execution_count": 75,
      "outputs": [
        {
          "output_type": "stream",
          "text": [
            "Review text: Kya Hal Hai?\n",
            "Sentiment  : neutral\n"
          ],
          "name": "stdout"
        }
      ]
    }
  ]
}