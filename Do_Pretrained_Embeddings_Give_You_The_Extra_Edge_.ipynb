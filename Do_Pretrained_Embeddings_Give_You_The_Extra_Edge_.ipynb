{
  "nbformat": 4,
  "nbformat_minor": 0,
  "metadata": {
    "colab": {
      "name": "Do Pretrained Embeddings Give You The Extra Edge?.ipynb",
      "provenance": [],
      "collapsed_sections": []
    },
    "kernelspec": {
      "name": "python3",
      "display_name": "Python 3"
    },
    "accelerator": "GPU"
  },
  "cells": [
    {
      "cell_type": "markdown",
      "metadata": {
        "id": "cSq4N8olkhzo",
        "colab_type": "text"
      },
      "source": [
        "##*Do Pretrained Embeddings Give You The Extra Edge?*\n",
        "By Nakshatra Singh"
      ]
    },
    {
      "cell_type": "markdown",
      "metadata": {
        "id": "Wt9p4eGErlwk",
        "colab_type": "text"
      },
      "source": [
        "This notebook will show you if *Pretrained Word Embeddings* give you an edge while training models."
      ]
    },
    {
      "cell_type": "markdown",
      "metadata": {
        "id": "R0EbXPK1r4Xy",
        "colab_type": "text"
      },
      "source": [
        "##Using Google GPU for Training\n",
        "\n",
        "Google colab offers free GPUs and TPUs! Since we'll be training a large model it's best to take advantage of this (in this case we'll use GPU), otherwise training can take long time.\n",
        "\n",
        "A GPU can be added by going to the menu and selecting:\n",
        "\n",
        "`Edit -> Notebook Settings -> Hardware Accelerator -> (GPU)`\n",
        "\n",
        "Then run the following cell to confirm that a GPU is detected."
      ]
    },
    {
      "cell_type": "code",
      "metadata": {
        "id": "3HlbFnrrr5W1",
        "colab_type": "code",
        "colab": {
          "base_uri": "https://localhost:8080/",
          "height": 34
        },
        "outputId": "4bda78d1-a10e-439d-a630-f11f4eb9ecfb"
      },
      "source": [
        "import tensorflow as tf\n",
        "# Get the device GPU name \n",
        "device_name = tf.test.gpu_device_name()\n",
        "\n",
        "# The device name should look like the following:\n",
        "if device_name == '/device:GPU:0':\n",
        "  print('Found GPU at : {}'.format(device_name)) \n",
        "else:\n",
        "  raise SystemError('GPU not found!') "
      ],
      "execution_count": 1,
      "outputs": [
        {
          "output_type": "stream",
          "text": [
            "Found GPU at : /device:GPU:0\n"
          ],
          "name": "stdout"
        }
      ]
    },
    {
      "cell_type": "markdown",
      "metadata": {
        "id": "4jnmAMwBr-3f",
        "colab_type": "text"
      },
      "source": [
        "###**1. Retrieve and Inspect Dataset** "
      ]
    },
    {
      "cell_type": "markdown",
      "metadata": {
        "id": "7Yt5C_1boTde",
        "colab_type": "text"
      },
      "source": [
        "Let's download the dataset which is uploaded on my google drive. "
      ]
    },
    {
      "cell_type": "code",
      "metadata": {
        "id": "nI7uQbYk5chI",
        "colab_type": "code",
        "colab": {
          "base_uri": "https://localhost:8080/",
          "height": 86
        },
        "outputId": "2dedf539-21d0-4163-ab57-b4d8cfe0c815"
      },
      "source": [
        "!gdown --id 11Yk7Xh4iekxZM6yEwerfHicx0p5_JC7m"
      ],
      "execution_count": 2,
      "outputs": [
        {
          "output_type": "stream",
          "text": [
            "Downloading...\n",
            "From: https://drive.google.com/uc?id=11Yk7Xh4iekxZM6yEwerfHicx0p5_JC7m\n",
            "To: /content/train.csv\n",
            "68.8MB [00:00, 112MB/s] \n"
          ],
          "name": "stdout"
        }
      ]
    },
    {
      "cell_type": "markdown",
      "metadata": {
        "id": "DAhoHn9voWYl",
        "colab_type": "text"
      },
      "source": [
        "Let's setup the import which are needed for this demonstration. We'll import a few more which are not needed but they wont harm, so why not? :)"
      ]
    },
    {
      "cell_type": "code",
      "metadata": {
        "id": "BZqZ5OVn5c5w",
        "colab_type": "code",
        "colab": {
          "base_uri": "https://localhost:8080/",
          "height": 71
        },
        "outputId": "06ef7b94-4ca1-412c-9cf0-8cca6cc92614"
      },
      "source": [
        "from keras.models import Sequential\n",
        "from keras.layers.recurrent import GRU\n",
        "from keras.layers.core import Dense, Activation, Dropout\n",
        "from keras.layers.embeddings import Embedding\n",
        "from keras.layers.normalization import BatchNormalization\n",
        "from keras.utils import np_utils\n",
        "from sklearn import preprocessing, decomposition, model_selection, metrics, pipeline\n",
        "from keras.layers import GlobalMaxPooling1D, Conv1D, MaxPooling1D, Flatten, Bidirectional, SpatialDropout1D\n",
        "from keras.preprocessing import sequence, text\n",
        "from keras.callbacks import EarlyStopping\n",
        "\n",
        "\n",
        "import matplotlib.pyplot as plt\n",
        "import seaborn as sns\n",
        "%matplotlib inline\n",
        "from plotly import graph_objs as go\n",
        "import plotly.express as px\n",
        "import plotly.figure_factory as ff "
      ],
      "execution_count": 3,
      "outputs": [
        {
          "output_type": "stream",
          "text": [
            "/usr/local/lib/python3.6/dist-packages/statsmodels/tools/_testing.py:19: FutureWarning: pandas.util.testing is deprecated. Use the functions in the public API at pandas.testing instead.\n",
            "  import pandas.util.testing as tm\n"
          ],
          "name": "stderr"
        }
      ]
    },
    {
      "cell_type": "markdown",
      "metadata": {
        "id": "fm6dBSqQoq9F",
        "colab_type": "text"
      },
      "source": [
        "We'll use `pandas` to parse the csv files."
      ]
    },
    {
      "cell_type": "code",
      "metadata": {
        "id": "liRrh8F75c3Y",
        "colab_type": "code",
        "colab": {}
      },
      "source": [
        "import pandas as pd \n",
        "train = pd.read_csv('/content/train.csv')"
      ],
      "execution_count": 4,
      "outputs": []
    },
    {
      "cell_type": "markdown",
      "metadata": {
        "id": "41h2X7g5otPe",
        "colab_type": "text"
      },
      "source": [
        "Let's take a look at the first few rows of the table just to see what's in there."
      ]
    },
    {
      "cell_type": "code",
      "metadata": {
        "id": "ggAfL7hJ5c08",
        "colab_type": "code",
        "colab": {
          "base_uri": "https://localhost:8080/",
          "height": 201
        },
        "outputId": "548814cc-2c05-4f2c-bdfe-cc43045dedf9"
      },
      "source": [
        "train.head() "
      ],
      "execution_count": 5,
      "outputs": [
        {
          "output_type": "execute_result",
          "data": {
            "text/html": [
              "<div>\n",
              "<style scoped>\n",
              "    .dataframe tbody tr th:only-of-type {\n",
              "        vertical-align: middle;\n",
              "    }\n",
              "\n",
              "    .dataframe tbody tr th {\n",
              "        vertical-align: top;\n",
              "    }\n",
              "\n",
              "    .dataframe thead th {\n",
              "        text-align: right;\n",
              "    }\n",
              "</style>\n",
              "<table border=\"1\" class=\"dataframe\">\n",
              "  <thead>\n",
              "    <tr style=\"text-align: right;\">\n",
              "      <th></th>\n",
              "      <th>id</th>\n",
              "      <th>comment_text</th>\n",
              "      <th>toxic</th>\n",
              "      <th>severe_toxic</th>\n",
              "      <th>obscene</th>\n",
              "      <th>threat</th>\n",
              "      <th>insult</th>\n",
              "      <th>identity_hate</th>\n",
              "    </tr>\n",
              "  </thead>\n",
              "  <tbody>\n",
              "    <tr>\n",
              "      <th>0</th>\n",
              "      <td>0000997932d777bf</td>\n",
              "      <td>Explanation\\nWhy the edits made under my usern...</td>\n",
              "      <td>0</td>\n",
              "      <td>0</td>\n",
              "      <td>0</td>\n",
              "      <td>0</td>\n",
              "      <td>0</td>\n",
              "      <td>0</td>\n",
              "    </tr>\n",
              "    <tr>\n",
              "      <th>1</th>\n",
              "      <td>000103f0d9cfb60f</td>\n",
              "      <td>D'aww! He matches this background colour I'm s...</td>\n",
              "      <td>0</td>\n",
              "      <td>0</td>\n",
              "      <td>0</td>\n",
              "      <td>0</td>\n",
              "      <td>0</td>\n",
              "      <td>0</td>\n",
              "    </tr>\n",
              "    <tr>\n",
              "      <th>2</th>\n",
              "      <td>000113f07ec002fd</td>\n",
              "      <td>Hey man, I'm really not trying to edit war. It...</td>\n",
              "      <td>0</td>\n",
              "      <td>0</td>\n",
              "      <td>0</td>\n",
              "      <td>0</td>\n",
              "      <td>0</td>\n",
              "      <td>0</td>\n",
              "    </tr>\n",
              "    <tr>\n",
              "      <th>3</th>\n",
              "      <td>0001b41b1c6bb37e</td>\n",
              "      <td>\"\\nMore\\nI can't make any real suggestions on ...</td>\n",
              "      <td>0</td>\n",
              "      <td>0</td>\n",
              "      <td>0</td>\n",
              "      <td>0</td>\n",
              "      <td>0</td>\n",
              "      <td>0</td>\n",
              "    </tr>\n",
              "    <tr>\n",
              "      <th>4</th>\n",
              "      <td>0001d958c54c6e35</td>\n",
              "      <td>You, sir, are my hero. Any chance you remember...</td>\n",
              "      <td>0</td>\n",
              "      <td>0</td>\n",
              "      <td>0</td>\n",
              "      <td>0</td>\n",
              "      <td>0</td>\n",
              "      <td>0</td>\n",
              "    </tr>\n",
              "  </tbody>\n",
              "</table>\n",
              "</div>"
            ],
            "text/plain": [
              "                 id  ... identity_hate\n",
              "0  0000997932d777bf  ...             0\n",
              "1  000103f0d9cfb60f  ...             0\n",
              "2  000113f07ec002fd  ...             0\n",
              "3  0001b41b1c6bb37e  ...             0\n",
              "4  0001d958c54c6e35  ...             0\n",
              "\n",
              "[5 rows x 8 columns]"
            ]
          },
          "metadata": {
            "tags": []
          },
          "execution_count": 5
        }
      ]
    },
    {
      "cell_type": "markdown",
      "metadata": {
        "id": "SQFeA440oucG",
        "colab_type": "text"
      },
      "source": [
        "I'll drop the other multilabel-multiclass columns to make this a binary classification problem."
      ]
    },
    {
      "cell_type": "code",
      "metadata": {
        "id": "G-yfLrOO5wOC",
        "colab_type": "code",
        "colab": {}
      },
      "source": [
        "train.drop(['severe_toxic','obscene','threat','insult','identity_hate'],axis=1,inplace=True) "
      ],
      "execution_count": 6,
      "outputs": []
    },
    {
      "cell_type": "markdown",
      "metadata": {
        "id": "wEZK1mkco8-r",
        "colab_type": "text"
      },
      "source": [
        "we will have our exercise done on a smaller subsection of the dataset(only 10000 data points) to make it easier to train the models."
      ]
    },
    {
      "cell_type": "code",
      "metadata": {
        "id": "1z7mZt0p51pK",
        "colab_type": "code",
        "colab": {
          "base_uri": "https://localhost:8080/",
          "height": 34
        },
        "outputId": "9ce3e67b-8e6d-4c9a-e104-f6e49c318ce3"
      },
      "source": [
        "train = train.loc[:10000,:]\n",
        "train.shape"
      ],
      "execution_count": 7,
      "outputs": [
        {
          "output_type": "execute_result",
          "data": {
            "text/plain": [
              "(10001, 3)"
            ]
          },
          "metadata": {
            "tags": []
          },
          "execution_count": 7
        }
      ]
    },
    {
      "cell_type": "markdown",
      "metadata": {
        "id": "R4f08KvwrXtS",
        "colab_type": "text"
      },
      "source": [
        "We will check the maximum number of words that can be present in a comment , this will help us in padding later."
      ]
    },
    {
      "cell_type": "code",
      "metadata": {
        "id": "Z0outOOn54Ny",
        "colab_type": "code",
        "colab": {
          "base_uri": "https://localhost:8080/",
          "height": 34
        },
        "outputId": "ea41e639-a4d5-4551-ca1b-eb1c9e3678c2"
      },
      "source": [
        "train['comment_text'].apply(lambda x:len(str(x).split())).max() "
      ],
      "execution_count": 8,
      "outputs": [
        {
          "output_type": "execute_result",
          "data": {
            "text/plain": [
              "1403"
            ]
          },
          "metadata": {
            "tags": []
          },
          "execution_count": 8
        }
      ]
    },
    {
      "cell_type": "markdown",
      "metadata": {
        "id": "fYiw-NmgraWY",
        "colab_type": "text"
      },
      "source": [
        "Writing a function for getting auc score for validation."
      ]
    },
    {
      "cell_type": "code",
      "metadata": {
        "id": "MZZlxXqx57Xy",
        "colab_type": "code",
        "colab": {}
      },
      "source": [
        "def roc_auc(predictions,target):\n",
        "    '''\n",
        "    This methods returns the AUC Score when given the Predictions\n",
        "    and Labels\n",
        "    '''\n",
        "    \n",
        "    fpr, tpr, thresholds = metrics.roc_curve(target, predictions)\n",
        "    roc_auc = metrics.auc(fpr, tpr)\n",
        "    return roc_auc "
      ],
      "execution_count": 9,
      "outputs": []
    },
    {
      "cell_type": "markdown",
      "metadata": {
        "id": "mLCjp-rIrb-F",
        "colab_type": "text"
      },
      "source": [
        "###**2. Data Preparation**"
      ]
    },
    {
      "cell_type": "markdown",
      "metadata": {
        "id": "tk4fT94buoJ4",
        "colab_type": "text"
      },
      "source": [
        "1) Divide up our dataset to use 90% for training and 10% for validation."
      ]
    },
    {
      "cell_type": "code",
      "metadata": {
        "id": "lEbVqSdJ595Z",
        "colab_type": "code",
        "colab": {}
      },
      "source": [
        "from sklearn.model_selection import train_test_split\n",
        "xtrain, xvalid, ytrain, yvalid = train_test_split(train.comment_text.values, train.toxic.values, \n",
        "                                                  stratify=train.toxic.values, \n",
        "                                                  random_state=42, \n",
        "                                                  test_size=0.1, shuffle=True) "
      ],
      "execution_count": 10,
      "outputs": []
    },
    {
      "cell_type": "markdown",
      "metadata": {
        "id": "ek8BZ3mMuwV4",
        "colab_type": "text"
      },
      "source": [
        "2) Tokenize and Pad the sequences. "
      ]
    },
    {
      "cell_type": "code",
      "metadata": {
        "id": "pPWdN08p7oJX",
        "colab_type": "code",
        "colab": {}
      },
      "source": [
        "# using keras tokenizer here\n",
        "token = text.Tokenizer(num_words=None)\n",
        "max_len = 1500\n",
        "\n",
        "token.fit_on_texts(list(xtrain) + list(xvalid))\n",
        "xtrain_seq = token.texts_to_sequences(xtrain)\n",
        "xvalid_seq = token.texts_to_sequences(xvalid)\n",
        "\n",
        "#zero pad the sequences\n",
        "xtrain_pad = sequence.pad_sequences(xtrain_seq, maxlen=max_len)\n",
        "xvalid_pad = sequence.pad_sequences(xvalid_seq, maxlen=max_len)\n",
        "\n",
        "word_index = token.word_index "
      ],
      "execution_count": 11,
      "outputs": []
    },
    {
      "cell_type": "markdown",
      "metadata": {
        "id": "BKmtW4zRG04f",
        "colab_type": "text"
      },
      "source": [
        "###**3. Embeddings**"
      ]
    },
    {
      "cell_type": "markdown",
      "metadata": {
        "id": "yPN7tih2G8jw",
        "colab_type": "text"
      },
      "source": [
        "### 3.1 GloVe Embeddings"
      ]
    },
    {
      "cell_type": "markdown",
      "metadata": {
        "id": "-5LUAAFfGLYS",
        "colab_type": "text"
      },
      "source": [
        "First we'll load the GloVe Vector Embeddings provided by Standord."
      ]
    },
    {
      "cell_type": "code",
      "metadata": {
        "id": "o2k7p_E76Fwi",
        "colab_type": "code",
        "colab": {
          "base_uri": "https://localhost:8080/",
          "height": 363
        },
        "outputId": "eacb7607-fc97-43f7-9318-724b8f2c09fe"
      },
      "source": [
        "!wget http://nlp.stanford.edu/data/glove.6B.zip "
      ],
      "execution_count": 12,
      "outputs": [
        {
          "output_type": "stream",
          "text": [
            "--2020-09-03 05:25:31--  http://nlp.stanford.edu/data/glove.6B.zip\n",
            "Resolving nlp.stanford.edu (nlp.stanford.edu)... 171.64.67.140\n",
            "Connecting to nlp.stanford.edu (nlp.stanford.edu)|171.64.67.140|:80... connected.\n",
            "HTTP request sent, awaiting response... 302 Found\n",
            "Location: https://nlp.stanford.edu/data/glove.6B.zip [following]\n",
            "--2020-09-03 05:25:31--  https://nlp.stanford.edu/data/glove.6B.zip\n",
            "Connecting to nlp.stanford.edu (nlp.stanford.edu)|171.64.67.140|:443... connected.\n",
            "HTTP request sent, awaiting response... 301 Moved Permanently\n",
            "Location: http://downloads.cs.stanford.edu/nlp/data/glove.6B.zip [following]\n",
            "--2020-09-03 05:25:31--  http://downloads.cs.stanford.edu/nlp/data/glove.6B.zip\n",
            "Resolving downloads.cs.stanford.edu (downloads.cs.stanford.edu)... 171.64.64.22\n",
            "Connecting to downloads.cs.stanford.edu (downloads.cs.stanford.edu)|171.64.64.22|:80... connected.\n",
            "HTTP request sent, awaiting response... 200 OK\n",
            "Length: 862182613 (822M) [application/zip]\n",
            "Saving to: ‘glove.6B.zip’\n",
            "\n",
            "glove.6B.zip        100%[===================>] 822.24M  2.16MB/s    in 6m 26s  \n",
            "\n",
            "2020-09-03 05:31:57 (2.13 MB/s) - ‘glove.6B.zip’ saved [862182613/862182613]\n",
            "\n"
          ],
          "name": "stdout"
        }
      ]
    },
    {
      "cell_type": "markdown",
      "metadata": {
        "id": "8nFlW4MJGU5H",
        "colab_type": "text"
      },
      "source": [
        "Now, let's unzip the file and use the `300 dimension vectors`.\n"
      ]
    },
    {
      "cell_type": "code",
      "metadata": {
        "id": "jr0hKig06VIK",
        "colab_type": "code",
        "colab": {
          "base_uri": "https://localhost:8080/",
          "height": 103
        },
        "outputId": "57555a44-78b9-49f3-b328-cd33dee7eb0d"
      },
      "source": [
        "!unzip glove*.zip  "
      ],
      "execution_count": 13,
      "outputs": [
        {
          "output_type": "stream",
          "text": [
            "Archive:  glove.6B.zip\n",
            "  inflating: glove.6B.50d.txt        \n",
            "  inflating: glove.6B.100d.txt       \n",
            "  inflating: glove.6B.200d.txt       \n",
            "  inflating: glove.6B.300d.txt       \n"
          ],
          "name": "stdout"
        }
      ]
    },
    {
      "cell_type": "markdown",
      "metadata": {
        "id": "DStJQ_VUGjoR",
        "colab_type": "text"
      },
      "source": [
        "Loading the GloVe vectors in an empty dictionary."
      ]
    },
    {
      "cell_type": "code",
      "metadata": {
        "id": "jd1dbEl_6Wv6",
        "colab_type": "code",
        "colab": {
          "base_uri": "https://localhost:8080/",
          "height": 51
        },
        "outputId": "111cbeb3-536d-4eae-e2af-500cb91040ec"
      },
      "source": [
        "import numpy as np\n",
        "from tqdm import tqdm\n",
        "embeddings_index_glove = {}\n",
        "f = open('/content/glove.6B.300d.txt','r',encoding='utf-8')\n",
        "for line in tqdm(f):\n",
        "    values = line.split(' ')\n",
        "    word = values[0]\n",
        "    coefs = np.asarray([float(val) for val in values[1:]])\n",
        "    embeddings_index_glove[word] = coefs\n",
        "f.close()\n",
        "\n",
        "print('Found %s word vectors.' % len(embeddings_index_glove)) "
      ],
      "execution_count": 14,
      "outputs": [
        {
          "output_type": "stream",
          "text": [
            "400000it [00:36, 11044.30it/s]"
          ],
          "name": "stderr"
        },
        {
          "output_type": "stream",
          "text": [
            "Found 400000 word vectors.\n"
          ],
          "name": "stdout"
        },
        {
          "output_type": "stream",
          "text": [
            "\n"
          ],
          "name": "stderr"
        }
      ]
    },
    {
      "cell_type": "markdown",
      "metadata": {
        "id": "Y8pAKGHEGpy6",
        "colab_type": "text"
      },
      "source": [
        "Creating an embedding matrix for the words we have in the dataset."
      ]
    },
    {
      "cell_type": "code",
      "metadata": {
        "id": "kN4d2M3S6kxx",
        "colab_type": "code",
        "colab": {
          "base_uri": "https://localhost:8080/",
          "height": 34
        },
        "outputId": "ea68e903-de26-45b4-cda1-64bcaaee7d9d"
      },
      "source": [
        "embedding_matrix_glove = np.zeros((len(word_index) + 1, 300))\n",
        "for word, i in tqdm(word_index.items()):\n",
        "    embedding_vector = embeddings_index_glove.get(word)\n",
        "    if embedding_vector is not None:\n",
        "        embedding_matrix_glove[i] = embedding_vector "
      ],
      "execution_count": 15,
      "outputs": [
        {
          "output_type": "stream",
          "text": [
            "100%|██████████| 38847/38847 [00:00<00:00, 480320.16it/s]\n"
          ],
          "name": "stderr"
        }
      ]
    },
    {
      "cell_type": "markdown",
      "metadata": {
        "id": "gAyDy0dIHNnu",
        "colab_type": "text"
      },
      "source": [
        "### 3.2 fastText Embeddings"
      ]
    },
    {
      "cell_type": "markdown",
      "metadata": {
        "id": "RSyi17kLH1iY",
        "colab_type": "text"
      },
      "source": [
        "Now we'll load the fastText Vector Embeddings provided by Facebook."
      ]
    },
    {
      "cell_type": "code",
      "metadata": {
        "id": "l8KSIFUG9S5q",
        "colab_type": "code",
        "colab": {
          "base_uri": "https://localhost:8080/",
          "height": 207
        },
        "outputId": "f326bf26-73c8-4bff-ac66-1622e371efce"
      },
      "source": [
        "!wget https://dl.fbaipublicfiles.com/fasttext/vectors-english/wiki-news-300d-1M-subword.vec.zip "
      ],
      "execution_count": 16,
      "outputs": [
        {
          "output_type": "stream",
          "text": [
            "--2020-09-03 05:33:05--  https://dl.fbaipublicfiles.com/fasttext/vectors-english/wiki-news-300d-1M-subword.vec.zip\n",
            "Resolving dl.fbaipublicfiles.com (dl.fbaipublicfiles.com)... 104.22.74.142, 172.67.9.4, 104.22.75.142, ...\n",
            "Connecting to dl.fbaipublicfiles.com (dl.fbaipublicfiles.com)|104.22.74.142|:443... connected.\n",
            "HTTP request sent, awaiting response... 200 OK\n",
            "Length: 587879973 (561M) [application/zip]\n",
            "Saving to: ‘wiki-news-300d-1M-subword.vec.zip’\n",
            "\n",
            "wiki-news-300d-1M-s 100%[===================>] 560.65M  43.9MB/s    in 13s     \n",
            "\n",
            "2020-09-03 05:33:18 (42.6 MB/s) - ‘wiki-news-300d-1M-subword.vec.zip’ saved [587879973/587879973]\n",
            "\n"
          ],
          "name": "stdout"
        }
      ]
    },
    {
      "cell_type": "markdown",
      "metadata": {
        "id": "6Pfvcqm7IXww",
        "colab_type": "text"
      },
      "source": [
        "Now, let's unzip the file and use the `300 dimension vectors`.\n"
      ]
    },
    {
      "cell_type": "code",
      "metadata": {
        "id": "WjvnWK_a9rBj",
        "colab_type": "code",
        "colab": {
          "base_uri": "https://localhost:8080/",
          "height": 51
        },
        "outputId": "38efdaca-2bff-4096-b1d9-deb09e1b269f"
      },
      "source": [
        "!unzip wiki-news-300d-1M-subword*.zip "
      ],
      "execution_count": 17,
      "outputs": [
        {
          "output_type": "stream",
          "text": [
            "Archive:  wiki-news-300d-1M-subword.vec.zip\n",
            "  inflating: wiki-news-300d-1M-subword.vec  \n"
          ],
          "name": "stdout"
        }
      ]
    },
    {
      "cell_type": "markdown",
      "metadata": {
        "id": "qxZczikQIc4L",
        "colab_type": "text"
      },
      "source": [
        "Loading the fastText vectors in an empty dictionary."
      ]
    },
    {
      "cell_type": "code",
      "metadata": {
        "id": "n_3kDpXZ9-Yk",
        "colab_type": "code",
        "colab": {
          "base_uri": "https://localhost:8080/",
          "height": 51
        },
        "outputId": "83b31a7d-3573-469e-cb44-4826358e3482"
      },
      "source": [
        "embeddings_index_fasttext = {}\n",
        "f = open('/content/wiki-news-300d-1M-subword.vec','r',encoding='utf-8')\n",
        "for line in tqdm(f):\n",
        "    values = line.split(' ')\n",
        "    word = values[0]\n",
        "    coefs = np.asarray([float(val) for val in values[1:]])\n",
        "    embeddings_index_fasttext[word] = coefs\n",
        "f.close()\n",
        "\n",
        "print('Found %s word vectors.' % len(embeddings_index_fasttext)) "
      ],
      "execution_count": 18,
      "outputs": [
        {
          "output_type": "stream",
          "text": [
            "999995it [01:30, 11072.66it/s]"
          ],
          "name": "stderr"
        },
        {
          "output_type": "stream",
          "text": [
            "Found 999995 word vectors.\n"
          ],
          "name": "stdout"
        },
        {
          "output_type": "stream",
          "text": [
            "\n"
          ],
          "name": "stderr"
        }
      ]
    },
    {
      "cell_type": "markdown",
      "metadata": {
        "id": "N1__2A4JI0cG",
        "colab_type": "text"
      },
      "source": [
        "Creating an embedding matrix for the words we have in the dataset."
      ]
    },
    {
      "cell_type": "code",
      "metadata": {
        "id": "S-K56mVU-Pxq",
        "colab_type": "code",
        "colab": {
          "base_uri": "https://localhost:8080/",
          "height": 34
        },
        "outputId": "d75bcc01-495b-4b22-edcb-89a2b7876cd9"
      },
      "source": [
        "embedding_matrix_fasttext = np.zeros((len(word_index) + 1, 300))\n",
        "for word, i in tqdm(word_index.items()):\n",
        "    embedding_vector = embeddings_index_fasttext.get(word)\n",
        "    if embedding_vector is not None:\n",
        "        embedding_matrix_fasttext[i] = embedding_vector "
      ],
      "execution_count": 19,
      "outputs": [
        {
          "output_type": "stream",
          "text": [
            "100%|██████████| 38847/38847 [00:00<00:00, 454681.79it/s]\n"
          ],
          "name": "stderr"
        }
      ]
    },
    {
      "cell_type": "markdown",
      "metadata": {
        "id": "jELgPLa_Jyxf",
        "colab_type": "text"
      },
      "source": [
        "###**4. Gated Recurrent Unit (GRU)**"
      ]
    },
    {
      "cell_type": "markdown",
      "metadata": {
        "id": "0P8z28GuKaEU",
        "colab_type": "text"
      },
      "source": [
        "Before we start training, I'll create an empty list which will contain AUC scores of each model and we can do some impressive visualizations with it."
      ]
    },
    {
      "cell_type": "code",
      "metadata": {
        "id": "1WWwytRcKuZo",
        "colab_type": "code",
        "colab": {}
      },
      "source": [
        "scores_model_embeddings = [] "
      ],
      "execution_count": 20,
      "outputs": []
    },
    {
      "cell_type": "markdown",
      "metadata": {
        "id": "NtBKKMrPKNdB",
        "colab_type": "text"
      },
      "source": [
        "### 4.1 GRU with GloVe Embeddings"
      ]
    },
    {
      "cell_type": "code",
      "metadata": {
        "id": "hDrt89aW8Hbn",
        "colab_type": "code",
        "colab": {
          "base_uri": "https://localhost:8080/",
          "height": 329
        },
        "outputId": "6bf14de9-415c-4f2c-d605-cba61aae7fdb"
      },
      "source": [
        "%%time\n",
        "# GRU with glove embeddings and two dense layers\n",
        "model = Sequential()\n",
        "model.add(Embedding(len(word_index) + 1,\n",
        "                     300,\n",
        "                     weights=[embedding_matrix_glove], #embeddings\n",
        "                     input_length=max_len,\n",
        "                     trainable=False))\n",
        "model.add(SpatialDropout1D(0.3))\n",
        "model.add(GRU(300))\n",
        "model.add(Dense(1, activation='sigmoid'))\n",
        "\n",
        "model.compile(loss='binary_crossentropy', optimizer='adam',metrics=['accuracy'])   \n",
        "    \n",
        "model.summary()"
      ],
      "execution_count": 21,
      "outputs": [
        {
          "output_type": "stream",
          "text": [
            "Model: \"sequential\"\n",
            "_________________________________________________________________\n",
            "Layer (type)                 Output Shape              Param #   \n",
            "=================================================================\n",
            "embedding (Embedding)        (None, 1500, 300)         11654400  \n",
            "_________________________________________________________________\n",
            "spatial_dropout1d (SpatialDr (None, 1500, 300)         0         \n",
            "_________________________________________________________________\n",
            "gru (GRU)                    (None, 300)               541800    \n",
            "_________________________________________________________________\n",
            "dense (Dense)                (None, 1)                 301       \n",
            "=================================================================\n",
            "Total params: 12,196,501\n",
            "Trainable params: 542,101\n",
            "Non-trainable params: 11,654,400\n",
            "_________________________________________________________________\n",
            "CPU times: user 400 ms, sys: 101 ms, total: 501 ms\n",
            "Wall time: 639 ms\n"
          ],
          "name": "stdout"
        }
      ]
    },
    {
      "cell_type": "markdown",
      "metadata": {
        "id": "QUVnGoyuLVn-",
        "colab_type": "text"
      },
      "source": [
        "Let's fit the model with our final x and y datasets."
      ]
    },
    {
      "cell_type": "code",
      "metadata": {
        "id": "7CbFhI2H8Z5K",
        "colab_type": "code",
        "colab": {
          "base_uri": "https://localhost:8080/",
          "height": 207
        },
        "outputId": "2eba7c37-6c2f-4448-9e7a-3930bc3cd762"
      },
      "source": [
        "model.fit(xtrain_pad, ytrain, epochs=5, batch_size=64)"
      ],
      "execution_count": 22,
      "outputs": [
        {
          "output_type": "stream",
          "text": [
            "Epoch 1/5\n",
            "141/141 [==============================] - 24s 171ms/step - loss: 0.2338 - accuracy: 0.9202\n",
            "Epoch 2/5\n",
            "141/141 [==============================] - 24s 171ms/step - loss: 0.1503 - accuracy: 0.9458\n",
            "Epoch 3/5\n",
            "141/141 [==============================] - 24s 171ms/step - loss: 0.1248 - accuracy: 0.9544\n",
            "Epoch 4/5\n",
            "141/141 [==============================] - 24s 171ms/step - loss: 0.1088 - accuracy: 0.9581\n",
            "Epoch 5/5\n",
            "141/141 [==============================] - 24s 171ms/step - loss: 0.0966 - accuracy: 0.9658\n"
          ],
          "name": "stdout"
        },
        {
          "output_type": "execute_result",
          "data": {
            "text/plain": [
              "<tensorflow.python.keras.callbacks.History at 0x7fb9f312fe10>"
            ]
          },
          "metadata": {
            "tags": []
          },
          "execution_count": 22
        }
      ]
    },
    {
      "cell_type": "markdown",
      "metadata": {
        "id": "gCNfiVXULoYr",
        "colab_type": "text"
      },
      "source": [
        "Displaying the AUC score.\n",
        "\n"
      ]
    },
    {
      "cell_type": "code",
      "metadata": {
        "id": "9jj0qDxK8isS",
        "colab_type": "code",
        "colab": {
          "base_uri": "https://localhost:8080/",
          "height": 34
        },
        "outputId": "3af0773f-31a9-4f7b-a43b-3267a8053a2f"
      },
      "source": [
        "scores = model.predict(xvalid_pad)\n",
        "print(\"Auc: %.2f%%\" % (roc_auc(scores, yvalid)))  "
      ],
      "execution_count": 23,
      "outputs": [
        {
          "output_type": "stream",
          "text": [
            "Auc: 0.96%\n"
          ],
          "name": "stdout"
        }
      ]
    },
    {
      "cell_type": "markdown",
      "metadata": {
        "id": "pShYsN-7LyDW",
        "colab_type": "text"
      },
      "source": [
        "Storing the AUC score in our empty list."
      ]
    },
    {
      "cell_type": "code",
      "metadata": {
        "id": "Wt7xybpK9EXy",
        "colab_type": "code",
        "colab": {}
      },
      "source": [
        "scores_model_embeddings.append({'Model': 'GRU_glove','AUC_Score': roc_auc(scores,yvalid)}) "
      ],
      "execution_count": 24,
      "outputs": []
    },
    {
      "cell_type": "markdown",
      "metadata": {
        "id": "W7h7lpoJK1F5",
        "colab_type": "text"
      },
      "source": [
        "### 4.2 GRU with Fasttext Embeddings"
      ]
    },
    {
      "cell_type": "code",
      "metadata": {
        "id": "oAgl-a7u-m8a",
        "colab_type": "code",
        "colab": {
          "base_uri": "https://localhost:8080/",
          "height": 329
        },
        "outputId": "79feb571-2ed5-45a4-8016-1ad3eb8b0142"
      },
      "source": [
        "%%time\n",
        "# GRU with fastText embeddings and two dense layers\n",
        "model = Sequential()\n",
        "model.add(Embedding(len(word_index) + 1,\n",
        "                     300,\n",
        "                     weights=[embedding_matrix_fasttext], #embeddings\n",
        "                     input_length=max_len,\n",
        "                     trainable=False))\n",
        "model.add(SpatialDropout1D(0.3))\n",
        "model.add(GRU(300))\n",
        "model.add(Dense(1, activation='sigmoid'))\n",
        "\n",
        "model.compile(loss='binary_crossentropy', optimizer='adam',metrics=['accuracy'])   \n",
        "    \n",
        "model.summary()"
      ],
      "execution_count": 25,
      "outputs": [
        {
          "output_type": "stream",
          "text": [
            "Model: \"sequential_1\"\n",
            "_________________________________________________________________\n",
            "Layer (type)                 Output Shape              Param #   \n",
            "=================================================================\n",
            "embedding_1 (Embedding)      (None, 1500, 300)         11654400  \n",
            "_________________________________________________________________\n",
            "spatial_dropout1d_1 (Spatial (None, 1500, 300)         0         \n",
            "_________________________________________________________________\n",
            "gru_1 (GRU)                  (None, 300)               541800    \n",
            "_________________________________________________________________\n",
            "dense_1 (Dense)              (None, 1)                 301       \n",
            "=================================================================\n",
            "Total params: 12,196,501\n",
            "Trainable params: 542,101\n",
            "Non-trainable params: 11,654,400\n",
            "_________________________________________________________________\n",
            "CPU times: user 354 ms, sys: 78.3 ms, total: 432 ms\n",
            "Wall time: 365 ms\n"
          ],
          "name": "stdout"
        }
      ]
    },
    {
      "cell_type": "markdown",
      "metadata": {
        "id": "xErNeAJcMB7G",
        "colab_type": "text"
      },
      "source": [
        "Let's fit the model with our final x and y datasets."
      ]
    },
    {
      "cell_type": "code",
      "metadata": {
        "id": "dPrPUH7F-uwC",
        "colab_type": "code",
        "colab": {
          "base_uri": "https://localhost:8080/",
          "height": 207
        },
        "outputId": "f59f62c6-efd5-4397-9449-53e5704ee48a"
      },
      "source": [
        "model.fit(xtrain_pad, ytrain, epochs=5, batch_size=64) "
      ],
      "execution_count": 26,
      "outputs": [
        {
          "output_type": "stream",
          "text": [
            "Epoch 1/5\n",
            "141/141 [==============================] - 25s 175ms/step - loss: 0.2886 - accuracy: 0.9081\n",
            "Epoch 2/5\n",
            "141/141 [==============================] - 25s 174ms/step - loss: 0.2310 - accuracy: 0.9239\n",
            "Epoch 3/5\n",
            "141/141 [==============================] - 25s 174ms/step - loss: 0.1599 - accuracy: 0.9426\n",
            "Epoch 4/5\n",
            "141/141 [==============================] - 25s 174ms/step - loss: 0.1447 - accuracy: 0.9473\n",
            "Epoch 5/5\n",
            "141/141 [==============================] - 25s 175ms/step - loss: 0.1302 - accuracy: 0.9506\n"
          ],
          "name": "stdout"
        },
        {
          "output_type": "execute_result",
          "data": {
            "text/plain": [
              "<tensorflow.python.keras.callbacks.History at 0x7fb9f02cef28>"
            ]
          },
          "metadata": {
            "tags": []
          },
          "execution_count": 26
        }
      ]
    },
    {
      "cell_type": "markdown",
      "metadata": {
        "id": "QskcHBbLMJxi",
        "colab_type": "text"
      },
      "source": [
        "Displaying the AUC score.\n",
        "\n",
        " "
      ]
    },
    {
      "cell_type": "code",
      "metadata": {
        "id": "5slY6hIk-zKa",
        "colab_type": "code",
        "colab": {
          "base_uri": "https://localhost:8080/",
          "height": 34
        },
        "outputId": "62d37f24-34d1-4c23-944c-97d26e0490c7"
      },
      "source": [
        "scores = model.predict(xvalid_pad)\n",
        "print(\"Auc: %.2f%%\" % (roc_auc(scores, yvalid)))  "
      ],
      "execution_count": 27,
      "outputs": [
        {
          "output_type": "stream",
          "text": [
            "Auc: 0.95%\n"
          ],
          "name": "stdout"
        }
      ]
    },
    {
      "cell_type": "markdown",
      "metadata": {
        "id": "FuvTGNk2MMyY",
        "colab_type": "text"
      },
      "source": [
        "Storing the AUC score in our list. "
      ]
    },
    {
      "cell_type": "code",
      "metadata": {
        "id": "jAPmCoby_Oz6",
        "colab_type": "code",
        "colab": {}
      },
      "source": [
        "scores_model_embeddings.append({'Model': 'GRU_fasttext','AUC_Score': roc_auc(scores,yvalid)})"
      ],
      "execution_count": 28,
      "outputs": []
    },
    {
      "cell_type": "markdown",
      "metadata": {
        "id": "Q4A62BIpK-or",
        "colab_type": "text"
      },
      "source": [
        "### 4.3 GRU with No Embeddings"
      ]
    },
    {
      "cell_type": "code",
      "metadata": {
        "id": "Kfl0SJby_TPS",
        "colab_type": "code",
        "colab": {
          "base_uri": "https://localhost:8080/",
          "height": 329
        },
        "outputId": "c4e01894-cd18-4bdb-f8ab-d6c76a04b5aa"
      },
      "source": [
        "%%time\n",
        "# GRU with no embeddings and two dense layers\n",
        "model = Sequential()\n",
        "model.add(Embedding(len(word_index) + 1,\n",
        "                     300,\n",
        "                     input_length=max_len,\n",
        "                     trainable=False))\n",
        "model.add(SpatialDropout1D(0.3))\n",
        "model.add(GRU(300))\n",
        "model.add(Dense(1, activation='sigmoid'))\n",
        "\n",
        "model.compile(loss='binary_crossentropy', optimizer='adam',metrics=['accuracy'])   \n",
        "    \n",
        "model.summary()"
      ],
      "execution_count": 29,
      "outputs": [
        {
          "output_type": "stream",
          "text": [
            "Model: \"sequential_2\"\n",
            "_________________________________________________________________\n",
            "Layer (type)                 Output Shape              Param #   \n",
            "=================================================================\n",
            "embedding_2 (Embedding)      (None, 1500, 300)         11654400  \n",
            "_________________________________________________________________\n",
            "spatial_dropout1d_2 (Spatial (None, 1500, 300)         0         \n",
            "_________________________________________________________________\n",
            "gru_2 (GRU)                  (None, 300)               541800    \n",
            "_________________________________________________________________\n",
            "dense_2 (Dense)              (None, 1)                 301       \n",
            "=================================================================\n",
            "Total params: 12,196,501\n",
            "Trainable params: 542,101\n",
            "Non-trainable params: 11,654,400\n",
            "_________________________________________________________________\n",
            "CPU times: user 363 ms, sys: 12.9 ms, total: 376 ms\n",
            "Wall time: 308 ms\n"
          ],
          "name": "stdout"
        }
      ]
    },
    {
      "cell_type": "markdown",
      "metadata": {
        "id": "lX6gSyZAMSHb",
        "colab_type": "text"
      },
      "source": [
        "Let's fit the model with our final x and y datasets. "
      ]
    },
    {
      "cell_type": "code",
      "metadata": {
        "id": "ZrwXjzGCAPZI",
        "colab_type": "code",
        "colab": {
          "base_uri": "https://localhost:8080/",
          "height": 207
        },
        "outputId": "a3aaee02-aff0-4a49-c3f9-62042b41b102"
      },
      "source": [
        "model.fit(xtrain_pad, ytrain, epochs=5, batch_size=64)  "
      ],
      "execution_count": 30,
      "outputs": [
        {
          "output_type": "stream",
          "text": [
            "Epoch 1/5\n",
            "141/141 [==============================] - 25s 175ms/step - loss: 0.3246 - accuracy: 0.9013\n",
            "Epoch 2/5\n",
            "141/141 [==============================] - 25s 175ms/step - loss: 0.2655 - accuracy: 0.9089\n",
            "Epoch 3/5\n",
            "141/141 [==============================] - 25s 175ms/step - loss: 0.2525 - accuracy: 0.9142\n",
            "Epoch 4/5\n",
            "141/141 [==============================] - 25s 175ms/step - loss: 0.2442 - accuracy: 0.9162\n",
            "Epoch 5/5\n",
            "141/141 [==============================] - 25s 175ms/step - loss: 0.2727 - accuracy: 0.9080\n"
          ],
          "name": "stdout"
        },
        {
          "output_type": "execute_result",
          "data": {
            "text/plain": [
              "<tensorflow.python.keras.callbacks.History at 0x7fb972d37ef0>"
            ]
          },
          "metadata": {
            "tags": []
          },
          "execution_count": 30
        }
      ]
    },
    {
      "cell_type": "markdown",
      "metadata": {
        "id": "5lQHDA8NMUxY",
        "colab_type": "text"
      },
      "source": [
        "Displaying the AUC score.\n",
        "\n",
        "  "
      ]
    },
    {
      "cell_type": "code",
      "metadata": {
        "id": "fzScNgzCAUaZ",
        "colab_type": "code",
        "colab": {
          "base_uri": "https://localhost:8080/",
          "height": 34
        },
        "outputId": "41a34260-5def-4178-8a34-f764c41d51b4"
      },
      "source": [
        "scores = model.predict(xvalid_pad)\n",
        "print(\"Auc: %.2f%%\" % (roc_auc(scores, yvalid)))  "
      ],
      "execution_count": 31,
      "outputs": [
        {
          "output_type": "stream",
          "text": [
            "Auc: 0.84%\n"
          ],
          "name": "stdout"
        }
      ]
    },
    {
      "cell_type": "markdown",
      "metadata": {
        "id": "R4_RYdDcMX09",
        "colab_type": "text"
      },
      "source": [
        "Storing the AUC score in our list.  "
      ]
    },
    {
      "cell_type": "code",
      "metadata": {
        "id": "ZLU_286iAhXy",
        "colab_type": "code",
        "colab": {}
      },
      "source": [
        "scores_model_embeddings.append({'Model': 'GRU_baseline','AUC_Score': roc_auc(scores,yvalid)})"
      ],
      "execution_count": 32,
      "outputs": []
    },
    {
      "cell_type": "markdown",
      "metadata": {
        "id": "QAkD59CtMaHA",
        "colab_type": "text"
      },
      "source": [
        "Now, let's see what our score list looks like."
      ]
    },
    {
      "cell_type": "code",
      "metadata": {
        "id": "0hpXl6mwAkaS",
        "colab_type": "code",
        "colab": {
          "base_uri": "https://localhost:8080/",
          "height": 69
        },
        "outputId": "7602bddb-b575-44a4-c3b3-a0fcd27a6c78"
      },
      "source": [
        "scores_model_embeddings"
      ],
      "execution_count": 33,
      "outputs": [
        {
          "output_type": "execute_result",
          "data": {
            "text/plain": [
              "[{'AUC_Score': 0.9642938600492655, 'Model': 'GRU_glove'},\n",
              " {'AUC_Score': 0.950825654593559, 'Model': 'GRU_fasttext'},\n",
              " {'AUC_Score': 0.8404228628774747, 'Model': 'GRU_baseline'}]"
            ]
          },
          "metadata": {
            "tags": []
          },
          "execution_count": 33
        }
      ]
    },
    {
      "cell_type": "markdown",
      "metadata": {
        "id": "zf1PFVPHQkc0",
        "colab_type": "text"
      },
      "source": [
        "Finally, I'll store all the losses from different Embeddings."
      ]
    },
    {
      "cell_type": "code",
      "metadata": {
        "id": "P9x5FFwFAnEy",
        "colab_type": "code",
        "colab": {}
      },
      "source": [
        "all_losses = {\n",
        "'glove_loss': [0.2338,\n",
        " 0.1503,\n",
        " 0.1248,\n",
        " 0.1088,\n",
        " 0.0966],\n",
        " 'fasttext_loss': [0.2886,\n",
        " 0.2310,\n",
        " 0.1599,\n",
        " 0.1447, \n",
        " 0.1302],\n",
        " 'baseline_loss': [0.3246,\n",
        " 0.2655,\n",
        " 0.2525,\n",
        " 0.2442,\n",
        " 0.2727],\n",
        "}"
      ],
      "execution_count": 37,
      "outputs": []
    },
    {
      "cell_type": "markdown",
      "metadata": {
        "id": "QDhUqPGnNs-c",
        "colab_type": "text"
      },
      "source": [
        "### **5. Visualization**"
      ]
    },
    {
      "cell_type": "code",
      "metadata": {
        "id": "dCn7WKHZDOke",
        "colab_type": "code",
        "colab": {
          "base_uri": "https://localhost:8080/",
          "height": 101
        },
        "outputId": "19dbbe78-a55f-406a-9afb-ef1e814de5c3"
      },
      "source": [
        "results = pd.DataFrame(scores_model_embeddings).sort_values(by='AUC_Score',ascending=False)\n",
        "results.style.background_gradient(cmap='Blues')"
      ],
      "execution_count": 35,
      "outputs": [
        {
          "output_type": "execute_result",
          "data": {
            "text/html": [
              "<style  type=\"text/css\" >\n",
              "    #T_2637f962_eda8_11ea_a7a6_0242ac1c0002row0_col1 {\n",
              "            background-color:  #08306b;\n",
              "            color:  #f1f1f1;\n",
              "        }    #T_2637f962_eda8_11ea_a7a6_0242ac1c0002row1_col1 {\n",
              "            background-color:  #084c95;\n",
              "            color:  #f1f1f1;\n",
              "        }    #T_2637f962_eda8_11ea_a7a6_0242ac1c0002row2_col1 {\n",
              "            background-color:  #f7fbff;\n",
              "            color:  #000000;\n",
              "        }</style><table id=\"T_2637f962_eda8_11ea_a7a6_0242ac1c0002\" ><thead>    <tr>        <th class=\"blank level0\" ></th>        <th class=\"col_heading level0 col0\" >Model</th>        <th class=\"col_heading level0 col1\" >AUC_Score</th>    </tr></thead><tbody>\n",
              "                <tr>\n",
              "                        <th id=\"T_2637f962_eda8_11ea_a7a6_0242ac1c0002level0_row0\" class=\"row_heading level0 row0\" >0</th>\n",
              "                        <td id=\"T_2637f962_eda8_11ea_a7a6_0242ac1c0002row0_col0\" class=\"data row0 col0\" >GRU_glove</td>\n",
              "                        <td id=\"T_2637f962_eda8_11ea_a7a6_0242ac1c0002row0_col1\" class=\"data row0 col1\" >0.964294</td>\n",
              "            </tr>\n",
              "            <tr>\n",
              "                        <th id=\"T_2637f962_eda8_11ea_a7a6_0242ac1c0002level0_row1\" class=\"row_heading level0 row1\" >1</th>\n",
              "                        <td id=\"T_2637f962_eda8_11ea_a7a6_0242ac1c0002row1_col0\" class=\"data row1 col0\" >GRU_fasttext</td>\n",
              "                        <td id=\"T_2637f962_eda8_11ea_a7a6_0242ac1c0002row1_col1\" class=\"data row1 col1\" >0.950826</td>\n",
              "            </tr>\n",
              "            <tr>\n",
              "                        <th id=\"T_2637f962_eda8_11ea_a7a6_0242ac1c0002level0_row2\" class=\"row_heading level0 row2\" >2</th>\n",
              "                        <td id=\"T_2637f962_eda8_11ea_a7a6_0242ac1c0002row2_col0\" class=\"data row2 col0\" >GRU_baseline</td>\n",
              "                        <td id=\"T_2637f962_eda8_11ea_a7a6_0242ac1c0002row2_col1\" class=\"data row2 col1\" >0.840423</td>\n",
              "            </tr>\n",
              "    </tbody></table>"
            ],
            "text/plain": [
              "<pandas.io.formats.style.Styler at 0x7fb97297c668>"
            ]
          },
          "metadata": {
            "tags": []
          },
          "execution_count": 35
        }
      ]
    },
    {
      "cell_type": "markdown",
      "metadata": {
        "id": "ncryTCoXOdhk",
        "colab_type": "text"
      },
      "source": [
        "Let's plot the training loss for different Embeddings."
      ]
    },
    {
      "cell_type": "code",
      "metadata": {
        "id": "BjmtuR0sCNM3",
        "colab_type": "code",
        "colab": {
          "base_uri": "https://localhost:8080/",
          "height": 295
        },
        "outputId": "df70cad5-5752-4001-da62-a09e250e87b4"
      },
      "source": [
        "epochRange = np.arange(1,6,1)\n",
        "plt.plot(epochRange,all_losses['glove_loss'])\n",
        "plt.plot(epochRange,all_losses['fasttext_loss'])\n",
        "plt.plot(epochRange,all_losses['baseline_loss'])\n",
        "plt.title('Training loss for different embeddings', fontweight='bold')\n",
        "plt.ylabel('loss', fontweight='bold')\n",
        "plt.xlabel('epoch', fontweight='bold')\n",
        "plt.legend(['GLOVE','FastText','Baseline'], loc='upper right')\n",
        "plt.show()"
      ],
      "execution_count": 38,
      "outputs": [
        {
          "output_type": "display_data",
          "data": {
            "image/png": "[encoded data removed]",
            "text/plain": [
              "<Figure size 432x288 with 1 Axes>"
            ]
          },
          "metadata": {
            "tags": [],
            "needs_background": "light"
          }
        }
      ]
    },
    {
      "cell_type": "markdown",
      "metadata": {
        "id": "jqHKXfbITYpe",
        "colab_type": "text"
      },
      "source": [
        "### **6. Summary**"
      ]
    },
    {
      "cell_type": "markdown",
      "metadata": {
        "id": "9_0-v1jqQzmQ",
        "colab_type": "text"
      },
      "source": [
        "As you can see, GloVe and fastText have minimal difference in terms of AUC scores, but for training losses GloVe seems to do a better job in learning the data. *`I would recommend using word Embeddings, any of GloVe or fastText is just fine.`*\n",
        "\n",
        "Pretrained word embeddings capture the semantic and syntactic meaning of a word as they are trained on large datasets. They are capable of boosting the performance of a Natural Language Processing (NLP) model.\n",
        "\n",
        "`If your baseline model on a different dataset gives better result than an Embedded model`, it could be because of:\n",
        " \n",
        " > the fact that these pretrained embeddings are not trained against text in the same context so the number of common words between our text and text that these pretrained embeddings were trained would be low.\n"
      ]
    }
  ]
}