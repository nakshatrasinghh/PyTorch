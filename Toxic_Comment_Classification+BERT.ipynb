{
  "nbformat": 4,
  "nbformat_minor": 0,
  "metadata": {
    "colab": {
      "name": "Toxic Comment Classification+BERT.ipynb",
      "provenance": [],
      "collapsed_sections": []
    },
    "kernelspec": {
      "name": "python3",
      "display_name": "Python 3"
    },
    "accelerator": "GPU",
    "widgets": {
      "application/vnd.jupyter.widget-state+json": {
        "c48a7f9ee1b8416bbb6ddad3bce1c71c": {
          "model_module": "@jupyter-widgets/controls",
          "model_name": "HBoxModel",
          "state": {
            "_view_name": "HBoxView",
            "_dom_classes": [],
            "_model_name": "HBoxModel",
            "_view_module": "@jupyter-widgets/controls",
            "_model_module_version": "1.5.0",
            "_view_count": null,
            "_view_module_version": "1.5.0",
            "box_style": "",
            "layout": "IPY_MODEL_b7338eb9d5164460b4e44f3dec7a5ff0",
            "_model_module": "@jupyter-widgets/controls",
            "children": [
              "IPY_MODEL_966e368d38ea45f3a55c8bb90a954fa5",
              "IPY_MODEL_58ac987f38514986a267ae5af0dc81e0"
            ]
          }
        },
        "b7338eb9d5164460b4e44f3dec7a5ff0": {
          "model_module": "@jupyter-widgets/base",
          "model_name": "LayoutModel",
          "state": {
            "_view_name": "LayoutView",
            "grid_template_rows": null,
            "right": null,
            "justify_content": null,
            "_view_module": "@jupyter-widgets/base",
            "overflow": null,
            "_model_module_version": "1.2.0",
            "_view_count": null,
            "flex_flow": null,
            "width": null,
            "min_width": null,
            "border": null,
            "align_items": null,
            "bottom": null,
            "_model_module": "@jupyter-widgets/base",
            "top": null,
            "grid_column": null,
            "overflow_y": null,
            "overflow_x": null,
            "grid_auto_flow": null,
            "grid_area": null,
            "grid_template_columns": null,
            "flex": null,
            "_model_name": "LayoutModel",
            "justify_items": null,
            "grid_row": null,
            "max_height": null,
            "align_content": null,
            "visibility": null,
            "align_self": null,
            "height": null,
            "min_height": null,
            "padding": null,
            "grid_auto_rows": null,
            "grid_gap": null,
            "max_width": null,
            "order": null,
            "_view_module_version": "1.2.0",
            "grid_template_areas": null,
            "object_position": null,
            "object_fit": null,
            "grid_auto_columns": null,
            "margin": null,
            "display": null,
            "left": null
          }
        },
        "966e368d38ea45f3a55c8bb90a954fa5": {
          "model_module": "@jupyter-widgets/controls",
          "model_name": "FloatProgressModel",
          "state": {
            "_view_name": "ProgressView",
            "style": "IPY_MODEL_b76030cae90d41adb12c3c6a64d4310c",
            "_dom_classes": [],
            "description": "Downloading: 100%",
            "_model_name": "FloatProgressModel",
            "bar_style": "success",
            "max": 231508,
            "_view_module": "@jupyter-widgets/controls",
            "_model_module_version": "1.5.0",
            "value": 231508,
            "_view_count": null,
            "_view_module_version": "1.5.0",
            "orientation": "horizontal",
            "min": 0,
            "description_tooltip": null,
            "_model_module": "@jupyter-widgets/controls",
            "layout": "IPY_MODEL_67f9d3594ac0432a8a62366a8ec91b3e"
          }
        },
        "58ac987f38514986a267ae5af0dc81e0": {
          "model_module": "@jupyter-widgets/controls",
          "model_name": "HTMLModel",
          "state": {
            "_view_name": "HTMLView",
            "style": "IPY_MODEL_584083d1d5494ad790a4aba31542d4d8",
            "_dom_classes": [],
            "description": "",
            "_model_name": "HTMLModel",
            "placeholder": "​",
            "_view_module": "@jupyter-widgets/controls",
            "_model_module_version": "1.5.0",
            "value": " 232k/232k [00:00&lt;00:00, 742kB/s]",
            "_view_count": null,
            "_view_module_version": "1.5.0",
            "description_tooltip": null,
            "_model_module": "@jupyter-widgets/controls",
            "layout": "IPY_MODEL_0be2f3807c6b43bea74ce94af4831b20"
          }
        },
        "b76030cae90d41adb12c3c6a64d4310c": {
          "model_module": "@jupyter-widgets/controls",
          "model_name": "ProgressStyleModel",
          "state": {
            "_view_name": "StyleView",
            "_model_name": "ProgressStyleModel",
            "description_width": "initial",
            "_view_module": "@jupyter-widgets/base",
            "_model_module_version": "1.5.0",
            "_view_count": null,
            "_view_module_version": "1.2.0",
            "bar_color": null,
            "_model_module": "@jupyter-widgets/controls"
          }
        },
        "67f9d3594ac0432a8a62366a8ec91b3e": {
          "model_module": "@jupyter-widgets/base",
          "model_name": "LayoutModel",
          "state": {
            "_view_name": "LayoutView",
            "grid_template_rows": null,
            "right": null,
            "justify_content": null,
            "_view_module": "@jupyter-widgets/base",
            "overflow": null,
            "_model_module_version": "1.2.0",
            "_view_count": null,
            "flex_flow": null,
            "width": null,
            "min_width": null,
            "border": null,
            "align_items": null,
            "bottom": null,
            "_model_module": "@jupyter-widgets/base",
            "top": null,
            "grid_column": null,
            "overflow_y": null,
            "overflow_x": null,
            "grid_auto_flow": null,
            "grid_area": null,
            "grid_template_columns": null,
            "flex": null,
            "_model_name": "LayoutModel",
            "justify_items": null,
            "grid_row": null,
            "max_height": null,
            "align_content": null,
            "visibility": null,
            "align_self": null,
            "height": null,
            "min_height": null,
            "padding": null,
            "grid_auto_rows": null,
            "grid_gap": null,
            "max_width": null,
            "order": null,
            "_view_module_version": "1.2.0",
            "grid_template_areas": null,
            "object_position": null,
            "object_fit": null,
            "grid_auto_columns": null,
            "margin": null,
            "display": null,
            "left": null
          }
        },
        "584083d1d5494ad790a4aba31542d4d8": {
          "model_module": "@jupyter-widgets/controls",
          "model_name": "DescriptionStyleModel",
          "state": {
            "_view_name": "StyleView",
            "_model_name": "DescriptionStyleModel",
            "description_width": "",
            "_view_module": "@jupyter-widgets/base",
            "_model_module_version": "1.5.0",
            "_view_count": null,
            "_view_module_version": "1.2.0",
            "_model_module": "@jupyter-widgets/controls"
          }
        },
        "0be2f3807c6b43bea74ce94af4831b20": {
          "model_module": "@jupyter-widgets/base",
          "model_name": "LayoutModel",
          "state": {
            "_view_name": "LayoutView",
            "grid_template_rows": null,
            "right": null,
            "justify_content": null,
            "_view_module": "@jupyter-widgets/base",
            "overflow": null,
            "_model_module_version": "1.2.0",
            "_view_count": null,
            "flex_flow": null,
            "width": null,
            "min_width": null,
            "border": null,
            "align_items": null,
            "bottom": null,
            "_model_module": "@jupyter-widgets/base",
            "top": null,
            "grid_column": null,
            "overflow_y": null,
            "overflow_x": null,
            "grid_auto_flow": null,
            "grid_area": null,
            "grid_template_columns": null,
            "flex": null,
            "_model_name": "LayoutModel",
            "justify_items": null,
            "grid_row": null,
            "max_height": null,
            "align_content": null,
            "visibility": null,
            "align_self": null,
            "height": null,
            "min_height": null,
            "padding": null,
            "grid_auto_rows": null,
            "grid_gap": null,
            "max_width": null,
            "order": null,
            "_view_module_version": "1.2.0",
            "grid_template_areas": null,
            "object_position": null,
            "object_fit": null,
            "grid_auto_columns": null,
            "margin": null,
            "display": null,
            "left": null
          }
        },
        "50b33acd8f9d45309ffebeca813d2205": {
          "model_module": "@jupyter-widgets/controls",
          "model_name": "HBoxModel",
          "state": {
            "_view_name": "HBoxView",
            "_dom_classes": [],
            "_model_name": "HBoxModel",
            "_view_module": "@jupyter-widgets/controls",
            "_model_module_version": "1.5.0",
            "_view_count": null,
            "_view_module_version": "1.5.0",
            "box_style": "",
            "layout": "IPY_MODEL_42042183d5624ecda5eab7ab45d2b897",
            "_model_module": "@jupyter-widgets/controls",
            "children": [
              "IPY_MODEL_fc5d12417e8648d084eef08b0c263249",
              "IPY_MODEL_ce62a712a2ba4e77a01ff44e2a05ba35"
            ]
          }
        },
        "42042183d5624ecda5eab7ab45d2b897": {
          "model_module": "@jupyter-widgets/base",
          "model_name": "LayoutModel",
          "state": {
            "_view_name": "LayoutView",
            "grid_template_rows": null,
            "right": null,
            "justify_content": null,
            "_view_module": "@jupyter-widgets/base",
            "overflow": null,
            "_model_module_version": "1.2.0",
            "_view_count": null,
            "flex_flow": null,
            "width": null,
            "min_width": null,
            "border": null,
            "align_items": null,
            "bottom": null,
            "_model_module": "@jupyter-widgets/base",
            "top": null,
            "grid_column": null,
            "overflow_y": null,
            "overflow_x": null,
            "grid_auto_flow": null,
            "grid_area": null,
            "grid_template_columns": null,
            "flex": null,
            "_model_name": "LayoutModel",
            "justify_items": null,
            "grid_row": null,
            "max_height": null,
            "align_content": null,
            "visibility": null,
            "align_self": null,
            "height": null,
            "min_height": null,
            "padding": null,
            "grid_auto_rows": null,
            "grid_gap": null,
            "max_width": null,
            "order": null,
            "_view_module_version": "1.2.0",
            "grid_template_areas": null,
            "object_position": null,
            "object_fit": null,
            "grid_auto_columns": null,
            "margin": null,
            "display": null,
            "left": null
          }
        },
        "fc5d12417e8648d084eef08b0c263249": {
          "model_module": "@jupyter-widgets/controls",
          "model_name": "FloatProgressModel",
          "state": {
            "_view_name": "ProgressView",
            "style": "IPY_MODEL_de7461b5b59649548a149e1b09affe04",
            "_dom_classes": [],
            "description": "Downloading: 100%",
            "_model_name": "FloatProgressModel",
            "bar_style": "success",
            "max": 433,
            "_view_module": "@jupyter-widgets/controls",
            "_model_module_version": "1.5.0",
            "value": 433,
            "_view_count": null,
            "_view_module_version": "1.5.0",
            "orientation": "horizontal",
            "min": 0,
            "description_tooltip": null,
            "_model_module": "@jupyter-widgets/controls",
            "layout": "IPY_MODEL_9c0d28fc1613413789c30942428f0079"
          }
        },
        "ce62a712a2ba4e77a01ff44e2a05ba35": {
          "model_module": "@jupyter-widgets/controls",
          "model_name": "HTMLModel",
          "state": {
            "_view_name": "HTMLView",
            "style": "IPY_MODEL_f211b7ef0d5e4f5cb672a65660deeff3",
            "_dom_classes": [],
            "description": "",
            "_model_name": "HTMLModel",
            "placeholder": "​",
            "_view_module": "@jupyter-widgets/controls",
            "_model_module_version": "1.5.0",
            "value": " 433/433 [00:06&lt;00:00, 64.1B/s]",
            "_view_count": null,
            "_view_module_version": "1.5.0",
            "description_tooltip": null,
            "_model_module": "@jupyter-widgets/controls",
            "layout": "IPY_MODEL_92035fade43f4a81be40b1610231bcb4"
          }
        },
        "de7461b5b59649548a149e1b09affe04": {
          "model_module": "@jupyter-widgets/controls",
          "model_name": "ProgressStyleModel",
          "state": {
            "_view_name": "StyleView",
            "_model_name": "ProgressStyleModel",
            "description_width": "initial",
            "_view_module": "@jupyter-widgets/base",
            "_model_module_version": "1.5.0",
            "_view_count": null,
            "_view_module_version": "1.2.0",
            "bar_color": null,
            "_model_module": "@jupyter-widgets/controls"
          }
        },
        "9c0d28fc1613413789c30942428f0079": {
          "model_module": "@jupyter-widgets/base",
          "model_name": "LayoutModel",
          "state": {
            "_view_name": "LayoutView",
            "grid_template_rows": null,
            "right": null,
            "justify_content": null,
            "_view_module": "@jupyter-widgets/base",
            "overflow": null,
            "_model_module_version": "1.2.0",
            "_view_count": null,
            "flex_flow": null,
            "width": null,
            "min_width": null,
            "border": null,
            "align_items": null,
            "bottom": null,
            "_model_module": "@jupyter-widgets/base",
            "top": null,
            "grid_column": null,
            "overflow_y": null,
            "overflow_x": null,
            "grid_auto_flow": null,
            "grid_area": null,
            "grid_template_columns": null,
            "flex": null,
            "_model_name": "LayoutModel",
            "justify_items": null,
            "grid_row": null,
            "max_height": null,
            "align_content": null,
            "visibility": null,
            "align_self": null,
            "height": null,
            "min_height": null,
            "padding": null,
            "grid_auto_rows": null,
            "grid_gap": null,
            "max_width": null,
            "order": null,
            "_view_module_version": "1.2.0",
            "grid_template_areas": null,
            "object_position": null,
            "object_fit": null,
            "grid_auto_columns": null,
            "margin": null,
            "display": null,
            "left": null
          }
        },
        "f211b7ef0d5e4f5cb672a65660deeff3": {
          "model_module": "@jupyter-widgets/controls",
          "model_name": "DescriptionStyleModel",
          "state": {
            "_view_name": "StyleView",
            "_model_name": "DescriptionStyleModel",
            "description_width": "",
            "_view_module": "@jupyter-widgets/base",
            "_model_module_version": "1.5.0",
            "_view_count": null,
            "_view_module_version": "1.2.0",
            "_model_module": "@jupyter-widgets/controls"
          }
        },
        "92035fade43f4a81be40b1610231bcb4": {
          "model_module": "@jupyter-widgets/base",
          "model_name": "LayoutModel",
          "state": {
            "_view_name": "LayoutView",
            "grid_template_rows": null,
            "right": null,
            "justify_content": null,
            "_view_module": "@jupyter-widgets/base",
            "overflow": null,
            "_model_module_version": "1.2.0",
            "_view_count": null,
            "flex_flow": null,
            "width": null,
            "min_width": null,
            "border": null,
            "align_items": null,
            "bottom": null,
            "_model_module": "@jupyter-widgets/base",
            "top": null,
            "grid_column": null,
            "overflow_y": null,
            "overflow_x": null,
            "grid_auto_flow": null,
            "grid_area": null,
            "grid_template_columns": null,
            "flex": null,
            "_model_name": "LayoutModel",
            "justify_items": null,
            "grid_row": null,
            "max_height": null,
            "align_content": null,
            "visibility": null,
            "align_self": null,
            "height": null,
            "min_height": null,
            "padding": null,
            "grid_auto_rows": null,
            "grid_gap": null,
            "max_width": null,
            "order": null,
            "_view_module_version": "1.2.0",
            "grid_template_areas": null,
            "object_position": null,
            "object_fit": null,
            "grid_auto_columns": null,
            "margin": null,
            "display": null,
            "left": null
          }
        },
        "1732642c2e2b46e2a418f35aab393189": {
          "model_module": "@jupyter-widgets/controls",
          "model_name": "HBoxModel",
          "state": {
            "_view_name": "HBoxView",
            "_dom_classes": [],
            "_model_name": "HBoxModel",
            "_view_module": "@jupyter-widgets/controls",
            "_model_module_version": "1.5.0",
            "_view_count": null,
            "_view_module_version": "1.5.0",
            "box_style": "",
            "layout": "IPY_MODEL_4d4283a167ee495aa611a8732d58dd17",
            "_model_module": "@jupyter-widgets/controls",
            "children": [
              "IPY_MODEL_75dc1f532b3e4a0a86f405f979c21790",
              "IPY_MODEL_59bd071e0e0c4c9ea4080818413f5d86"
            ]
          }
        },
        "4d4283a167ee495aa611a8732d58dd17": {
          "model_module": "@jupyter-widgets/base",
          "model_name": "LayoutModel",
          "state": {
            "_view_name": "LayoutView",
            "grid_template_rows": null,
            "right": null,
            "justify_content": null,
            "_view_module": "@jupyter-widgets/base",
            "overflow": null,
            "_model_module_version": "1.2.0",
            "_view_count": null,
            "flex_flow": null,
            "width": null,
            "min_width": null,
            "border": null,
            "align_items": null,
            "bottom": null,
            "_model_module": "@jupyter-widgets/base",
            "top": null,
            "grid_column": null,
            "overflow_y": null,
            "overflow_x": null,
            "grid_auto_flow": null,
            "grid_area": null,
            "grid_template_columns": null,
            "flex": null,
            "_model_name": "LayoutModel",
            "justify_items": null,
            "grid_row": null,
            "max_height": null,
            "align_content": null,
            "visibility": null,
            "align_self": null,
            "height": null,
            "min_height": null,
            "padding": null,
            "grid_auto_rows": null,
            "grid_gap": null,
            "max_width": null,
            "order": null,
            "_view_module_version": "1.2.0",
            "grid_template_areas": null,
            "object_position": null,
            "object_fit": null,
            "grid_auto_columns": null,
            "margin": null,
            "display": null,
            "left": null
          }
        },
        "75dc1f532b3e4a0a86f405f979c21790": {
          "model_module": "@jupyter-widgets/controls",
          "model_name": "FloatProgressModel",
          "state": {
            "_view_name": "ProgressView",
            "style": "IPY_MODEL_d5c9b3da85a24f4f84b63810f848d1a0",
            "_dom_classes": [],
            "description": "Downloading: 100%",
            "_model_name": "FloatProgressModel",
            "bar_style": "success",
            "max": 440473133,
            "_view_module": "@jupyter-widgets/controls",
            "_model_module_version": "1.5.0",
            "value": 440473133,
            "_view_count": null,
            "_view_module_version": "1.5.0",
            "orientation": "horizontal",
            "min": 0,
            "description_tooltip": null,
            "_model_module": "@jupyter-widgets/controls",
            "layout": "IPY_MODEL_fb6e440d122347c5b7fd463ecb2f0398"
          }
        },
        "59bd071e0e0c4c9ea4080818413f5d86": {
          "model_module": "@jupyter-widgets/controls",
          "model_name": "HTMLModel",
          "state": {
            "_view_name": "HTMLView",
            "style": "IPY_MODEL_67a0e122a67d4234934e46fd520c98e6",
            "_dom_classes": [],
            "description": "",
            "_model_name": "HTMLModel",
            "placeholder": "​",
            "_view_module": "@jupyter-widgets/controls",
            "_model_module_version": "1.5.0",
            "value": " 440M/440M [00:06&lt;00:00, 66.6MB/s]",
            "_view_count": null,
            "_view_module_version": "1.5.0",
            "description_tooltip": null,
            "_model_module": "@jupyter-widgets/controls",
            "layout": "IPY_MODEL_17cb9cf027d24ee7ac4a93acd5152cca"
          }
        },
        "d5c9b3da85a24f4f84b63810f848d1a0": {
          "model_module": "@jupyter-widgets/controls",
          "model_name": "ProgressStyleModel",
          "state": {
            "_view_name": "StyleView",
            "_model_name": "ProgressStyleModel",
            "description_width": "initial",
            "_view_module": "@jupyter-widgets/base",
            "_model_module_version": "1.5.0",
            "_view_count": null,
            "_view_module_version": "1.2.0",
            "bar_color": null,
            "_model_module": "@jupyter-widgets/controls"
          }
        },
        "fb6e440d122347c5b7fd463ecb2f0398": {
          "model_module": "@jupyter-widgets/base",
          "model_name": "LayoutModel",
          "state": {
            "_view_name": "LayoutView",
            "grid_template_rows": null,
            "right": null,
            "justify_content": null,
            "_view_module": "@jupyter-widgets/base",
            "overflow": null,
            "_model_module_version": "1.2.0",
            "_view_count": null,
            "flex_flow": null,
            "width": null,
            "min_width": null,
            "border": null,
            "align_items": null,
            "bottom": null,
            "_model_module": "@jupyter-widgets/base",
            "top": null,
            "grid_column": null,
            "overflow_y": null,
            "overflow_x": null,
            "grid_auto_flow": null,
            "grid_area": null,
            "grid_template_columns": null,
            "flex": null,
            "_model_name": "LayoutModel",
            "justify_items": null,
            "grid_row": null,
            "max_height": null,
            "align_content": null,
            "visibility": null,
            "align_self": null,
            "height": null,
            "min_height": null,
            "padding": null,
            "grid_auto_rows": null,
            "grid_gap": null,
            "max_width": null,
            "order": null,
            "_view_module_version": "1.2.0",
            "grid_template_areas": null,
            "object_position": null,
            "object_fit": null,
            "grid_auto_columns": null,
            "margin": null,
            "display": null,
            "left": null
          }
        },
        "67a0e122a67d4234934e46fd520c98e6": {
          "model_module": "@jupyter-widgets/controls",
          "model_name": "DescriptionStyleModel",
          "state": {
            "_view_name": "StyleView",
            "_model_name": "DescriptionStyleModel",
            "description_width": "",
            "_view_module": "@jupyter-widgets/base",
            "_model_module_version": "1.5.0",
            "_view_count": null,
            "_view_module_version": "1.2.0",
            "_model_module": "@jupyter-widgets/controls"
          }
        },
        "17cb9cf027d24ee7ac4a93acd5152cca": {
          "model_module": "@jupyter-widgets/base",
          "model_name": "LayoutModel",
          "state": {
            "_view_name": "LayoutView",
            "grid_template_rows": null,
            "right": null,
            "justify_content": null,
            "_view_module": "@jupyter-widgets/base",
            "overflow": null,
            "_model_module_version": "1.2.0",
            "_view_count": null,
            "flex_flow": null,
            "width": null,
            "min_width": null,
            "border": null,
            "align_items": null,
            "bottom": null,
            "_model_module": "@jupyter-widgets/base",
            "top": null,
            "grid_column": null,
            "overflow_y": null,
            "overflow_x": null,
            "grid_auto_flow": null,
            "grid_area": null,
            "grid_template_columns": null,
            "flex": null,
            "_model_name": "LayoutModel",
            "justify_items": null,
            "grid_row": null,
            "max_height": null,
            "align_content": null,
            "visibility": null,
            "align_self": null,
            "height": null,
            "min_height": null,
            "padding": null,
            "grid_auto_rows": null,
            "grid_gap": null,
            "max_width": null,
            "order": null,
            "_view_module_version": "1.2.0",
            "grid_template_areas": null,
            "object_position": null,
            "object_fit": null,
            "grid_auto_columns": null,
            "margin": null,
            "display": null,
            "left": null
          }
        }
      }
    }
  },
  "cells": [
    {
      "cell_type": "markdown",
      "metadata": {
        "id": "RvlG1jY5g5Bh"
      },
      "source": [
        "##*Classifying Toxic Comments with BERT*\n",
        "By Nakshatra Singh"
      ]
    },
    {
      "cell_type": "markdown",
      "metadata": {
        "id": "n5Nmcqb2hJB1"
      },
      "source": [
        "This notebook will show you how to fine-tune BERT for *Toxic Comment Classification*."
      ]
    },
    {
      "cell_type": "markdown",
      "metadata": {
        "id": "fS_EM1zv0_w3"
      },
      "source": [
        "##Using Google GPU for Training\n",
        "\n",
        "Google colab offers free GPUs and TPUs! Since we'll be training a large model it's best to take advantage of this (in this case we'll use GPU), otherwise training can take long time.\n",
        "\n",
        "A GPU can be added by going to the menu and selecting:\n",
        "\n",
        "`Edit -> Notebook Settings -> Hardware Accelerator -> (GPU)`\n",
        "\n",
        "Then run the following cell to confirm that a GPU is detected."
      ]
    },
    {
      "cell_type": "code",
      "metadata": {
        "id": "PVCWcBkQ0SCP",
        "outputId": "1495c11b-c34f-417f-8134-a1a6c23562f0",
        "colab": {
          "base_uri": "https://localhost:8080/",
          "height": 34
        }
      },
      "source": [
        "import tensorflow as tf\n",
        "# Get the device GPU name \n",
        "device_name = tf.test.gpu_device_name()\n",
        "\n",
        "# The device name should look like the following:\n",
        "if device_name == '/device:GPU:0':\n",
        "  print('Found GPU at : {}'.format(device_name)) \n",
        "else:\n",
        "  raise SystemError('GPU not found!')"
      ],
      "execution_count": null,
      "outputs": [
        {
          "output_type": "stream",
          "text": [
            "Found GPU at : /device:GPU:0\n"
          ],
          "name": "stdout"
        }
      ]
    },
    {
      "cell_type": "markdown",
      "metadata": {
        "id": "uktjD_KQhMDl"
      },
      "source": [
        "In order for torch to use GPU, we need to identify and specify the GPU as the device. Later, in our training loop, we will load data onto the device."
      ]
    },
    {
      "cell_type": "code",
      "metadata": {
        "id": "spy_ketchJsw",
        "outputId": "c6e4ea78-5548-4bd5-a7ef-9d17ed0c4373",
        "colab": {
          "base_uri": "https://localhost:8080/",
          "height": 34
        }
      },
      "source": [
        "import torch\n",
        "\n",
        "# If there is a GPU available...\n",
        "if torch.cuda.is_available():\n",
        "\n",
        "  # Tell pytorch to use the GPU\n",
        "  device = torch.device(\"cuda\")\n",
        "\n",
        "  print('We will use the GPU:', torch.cuda.get_device_name(0))\n",
        "\n",
        "else:\n",
        "  print('No GPU available, using CPU instead')\n",
        "  device = torch.device(\"cpu\")"
      ],
      "execution_count": null,
      "outputs": [
        {
          "output_type": "stream",
          "text": [
            "We will use the GPU: Tesla T4\n"
          ],
          "name": "stdout"
        }
      ]
    },
    {
      "cell_type": "markdown",
      "metadata": {
        "id": "bbHxaaF6i3ml"
      },
      "source": [
        "###**1. Installing the Hugging Face library**"
      ]
    },
    {
      "cell_type": "markdown",
      "metadata": {
        "id": "0EmAN7qD16Ke"
      },
      "source": [
        "Next, let's install the *`transformers`* package from Hugging Face which will give us a pytorch interface to work with BERT. "
      ]
    },
    {
      "cell_type": "code",
      "metadata": {
        "id": "YEBHmAXbinUt",
        "outputId": "9512be16-568b-42ed-a8fa-db62977b3455",
        "colab": {
          "base_uri": "https://localhost:8080/",
          "height": 626
        }
      },
      "source": [
        "!pip install transformers"
      ],
      "execution_count": null,
      "outputs": [
        {
          "output_type": "stream",
          "text": [
            "Collecting transformers\n",
            "\u001b[?25l  Downloading https://files.pythonhosted.org/packages/ae/05/c8c55b600308dc04e95100dc8ad8a244dd800fe75dfafcf1d6348c6f6209/transformers-3.1.0-py3-none-any.whl (884kB)\n",
            "\r\u001b[K     |▍                               | 10kB 26.9MB/s eta 0:00:01\r\u001b[K     |▊                               | 20kB 4.2MB/s eta 0:00:01\r\u001b[K     |█▏                              | 30kB 5.3MB/s eta 0:00:01\r\u001b[K     |█▌                              | 40kB 6.0MB/s eta 0:00:01\r\u001b[K     |█▉                              | 51kB 4.8MB/s eta 0:00:01\r\u001b[K     |██▎                             | 61kB 5.4MB/s eta 0:00:01\r\u001b[K     |██▋                             | 71kB 5.8MB/s eta 0:00:01\r\u001b[K     |███                             | 81kB 6.2MB/s eta 0:00:01\r\u001b[K     |███▍                            | 92kB 6.5MB/s eta 0:00:01\r\u001b[K     |███▊                            | 102kB 6.6MB/s eta 0:00:01\r\u001b[K     |████                            | 112kB 6.6MB/s eta 0:00:01\r\u001b[K     |████▌                           | 122kB 6.6MB/s eta 0:00:01\r\u001b[K     |████▉                           | 133kB 6.6MB/s eta 0:00:01\r\u001b[K     |█████▏                          | 143kB 6.6MB/s eta 0:00:01\r\u001b[K     |█████▋                          | 153kB 6.6MB/s eta 0:00:01\r\u001b[K     |██████                          | 163kB 6.6MB/s eta 0:00:01\r\u001b[K     |██████▎                         | 174kB 6.6MB/s eta 0:00:01\r\u001b[K     |██████▊                         | 184kB 6.6MB/s eta 0:00:01\r\u001b[K     |███████                         | 194kB 6.6MB/s eta 0:00:01\r\u001b[K     |███████▍                        | 204kB 6.6MB/s eta 0:00:01\r\u001b[K     |███████▉                        | 215kB 6.6MB/s eta 0:00:01\r\u001b[K     |████████▏                       | 225kB 6.6MB/s eta 0:00:01\r\u001b[K     |████████▌                       | 235kB 6.6MB/s eta 0:00:01\r\u001b[K     |█████████                       | 245kB 6.6MB/s eta 0:00:01\r\u001b[K     |█████████▎                      | 256kB 6.6MB/s eta 0:00:01\r\u001b[K     |█████████▋                      | 266kB 6.6MB/s eta 0:00:01\r\u001b[K     |██████████                      | 276kB 6.6MB/s eta 0:00:01\r\u001b[K     |██████████▍                     | 286kB 6.6MB/s eta 0:00:01\r\u001b[K     |██████████▊                     | 296kB 6.6MB/s eta 0:00:01\r\u001b[K     |███████████▏                    | 307kB 6.6MB/s eta 0:00:01\r\u001b[K     |███████████▌                    | 317kB 6.6MB/s eta 0:00:01\r\u001b[K     |███████████▉                    | 327kB 6.6MB/s eta 0:00:01\r\u001b[K     |████████████▎                   | 337kB 6.6MB/s eta 0:00:01\r\u001b[K     |████████████▋                   | 348kB 6.6MB/s eta 0:00:01\r\u001b[K     |█████████████                   | 358kB 6.6MB/s eta 0:00:01\r\u001b[K     |█████████████▍                  | 368kB 6.6MB/s eta 0:00:01\r\u001b[K     |█████████████▊                  | 378kB 6.6MB/s eta 0:00:01\r\u001b[K     |██████████████                  | 389kB 6.6MB/s eta 0:00:01\r\u001b[K     |██████████████▌                 | 399kB 6.6MB/s eta 0:00:01\r\u001b[K     |██████████████▉                 | 409kB 6.6MB/s eta 0:00:01\r\u001b[K     |███████████████▏                | 419kB 6.6MB/s eta 0:00:01\r\u001b[K     |███████████████▋                | 430kB 6.6MB/s eta 0:00:01\r\u001b[K     |████████████████                | 440kB 6.6MB/s eta 0:00:01\r\u001b[K     |████████████████▎               | 450kB 6.6MB/s eta 0:00:01\r\u001b[K     |████████████████▊               | 460kB 6.6MB/s eta 0:00:01\r\u001b[K     |█████████████████               | 471kB 6.6MB/s eta 0:00:01\r\u001b[K     |█████████████████▍              | 481kB 6.6MB/s eta 0:00:01\r\u001b[K     |█████████████████▉              | 491kB 6.6MB/s eta 0:00:01\r\u001b[K     |██████████████████▏             | 501kB 6.6MB/s eta 0:00:01\r\u001b[K     |██████████████████▌             | 512kB 6.6MB/s eta 0:00:01\r\u001b[K     |███████████████████             | 522kB 6.6MB/s eta 0:00:01\r\u001b[K     |███████████████████▎            | 532kB 6.6MB/s eta 0:00:01\r\u001b[K     |███████████████████▋            | 542kB 6.6MB/s eta 0:00:01\r\u001b[K     |████████████████████            | 552kB 6.6MB/s eta 0:00:01\r\u001b[K     |████████████████████▍           | 563kB 6.6MB/s eta 0:00:01\r\u001b[K     |████████████████████▊           | 573kB 6.6MB/s eta 0:00:01\r\u001b[K     |█████████████████████▏          | 583kB 6.6MB/s eta 0:00:01\r\u001b[K     |█████████████████████▌          | 593kB 6.6MB/s eta 0:00:01\r\u001b[K     |█████████████████████▉          | 604kB 6.6MB/s eta 0:00:01\r\u001b[K     |██████████████████████▎         | 614kB 6.6MB/s eta 0:00:01\r\u001b[K     |██████████████████████▋         | 624kB 6.6MB/s eta 0:00:01\r\u001b[K     |███████████████████████         | 634kB 6.6MB/s eta 0:00:01\r\u001b[K     |███████████████████████▍        | 645kB 6.6MB/s eta 0:00:01\r\u001b[K     |███████████████████████▊        | 655kB 6.6MB/s eta 0:00:01\r\u001b[K     |████████████████████████        | 665kB 6.6MB/s eta 0:00:01\r\u001b[K     |████████████████████████▌       | 675kB 6.6MB/s eta 0:00:01\r\u001b[K     |████████████████████████▉       | 686kB 6.6MB/s eta 0:00:01\r\u001b[K     |█████████████████████████▏      | 696kB 6.6MB/s eta 0:00:01\r\u001b[K     |█████████████████████████▋      | 706kB 6.6MB/s eta 0:00:01\r\u001b[K     |██████████████████████████      | 716kB 6.6MB/s eta 0:00:01\r\u001b[K     |██████████████████████████▎     | 727kB 6.6MB/s eta 0:00:01\r\u001b[K     |██████████████████████████▊     | 737kB 6.6MB/s eta 0:00:01\r\u001b[K     |███████████████████████████     | 747kB 6.6MB/s eta 0:00:01\r\u001b[K     |███████████████████████████▍    | 757kB 6.6MB/s eta 0:00:01\r\u001b[K     |███████████████████████████▉    | 768kB 6.6MB/s eta 0:00:01\r\u001b[K     |████████████████████████████▏   | 778kB 6.6MB/s eta 0:00:01\r\u001b[K     |████████████████████████████▌   | 788kB 6.6MB/s eta 0:00:01\r\u001b[K     |█████████████████████████████   | 798kB 6.6MB/s eta 0:00:01\r\u001b[K     |█████████████████████████████▎  | 808kB 6.6MB/s eta 0:00:01\r\u001b[K     |█████████████████████████████▋  | 819kB 6.6MB/s eta 0:00:01\r\u001b[K     |██████████████████████████████  | 829kB 6.6MB/s eta 0:00:01\r\u001b[K     |██████████████████████████████▍ | 839kB 6.6MB/s eta 0:00:01\r\u001b[K     |██████████████████████████████▊ | 849kB 6.6MB/s eta 0:00:01\r\u001b[K     |███████████████████████████████▏| 860kB 6.6MB/s eta 0:00:01\r\u001b[K     |███████████████████████████████▌| 870kB 6.6MB/s eta 0:00:01\r\u001b[K     |███████████████████████████████▉| 880kB 6.6MB/s eta 0:00:01\r\u001b[K     |████████████████████████████████| 890kB 6.6MB/s \n",
            "\u001b[?25hRequirement already satisfied: packaging in /usr/local/lib/python3.6/dist-packages (from transformers) (20.4)\n",
            "Collecting tokenizers==0.8.1.rc2\n",
            "\u001b[?25l  Downloading https://files.pythonhosted.org/packages/80/83/8b9fccb9e48eeb575ee19179e2bdde0ee9a1904f97de5f02d19016b8804f/tokenizers-0.8.1rc2-cp36-cp36m-manylinux1_x86_64.whl (3.0MB)\n",
            "\u001b[K     |████████████████████████████████| 3.0MB 38.3MB/s \n",
            "\u001b[?25hRequirement already satisfied: dataclasses; python_version < \"3.7\" in /usr/local/lib/python3.6/dist-packages (from transformers) (0.7)\n",
            "Collecting sentencepiece!=0.1.92\n",
            "\u001b[?25l  Downloading https://files.pythonhosted.org/packages/d4/a4/d0a884c4300004a78cca907a6ff9a5e9fe4f090f5d95ab341c53d28cbc58/sentencepiece-0.1.91-cp36-cp36m-manylinux1_x86_64.whl (1.1MB)\n",
            "\u001b[K     |████████████████████████████████| 1.1MB 53.4MB/s \n",
            "\u001b[?25hCollecting sacremoses\n",
            "\u001b[?25l  Downloading https://files.pythonhosted.org/packages/7d/34/09d19aff26edcc8eb2a01bed8e98f13a1537005d31e95233fd48216eed10/sacremoses-0.0.43.tar.gz (883kB)\n",
            "\u001b[K     |████████████████████████████████| 890kB 54.9MB/s \n",
            "\u001b[?25hRequirement already satisfied: filelock in /usr/local/lib/python3.6/dist-packages (from transformers) (3.0.12)\n",
            "Requirement already satisfied: regex!=2019.12.17 in /usr/local/lib/python3.6/dist-packages (from transformers) (2019.12.20)\n",
            "Requirement already satisfied: requests in /usr/local/lib/python3.6/dist-packages (from transformers) (2.23.0)\n",
            "Requirement already satisfied: numpy in /usr/local/lib/python3.6/dist-packages (from transformers) (1.18.5)\n",
            "Requirement already satisfied: tqdm>=4.27 in /usr/local/lib/python3.6/dist-packages (from transformers) (4.41.1)\n",
            "Requirement already satisfied: six in /usr/local/lib/python3.6/dist-packages (from packaging->transformers) (1.15.0)\n",
            "Requirement already satisfied: pyparsing>=2.0.2 in /usr/local/lib/python3.6/dist-packages (from packaging->transformers) (2.4.7)\n",
            "Requirement already satisfied: click in /usr/local/lib/python3.6/dist-packages (from sacremoses->transformers) (7.1.2)\n",
            "Requirement already satisfied: joblib in /usr/local/lib/python3.6/dist-packages (from sacremoses->transformers) (0.16.0)\n",
            "Requirement already satisfied: certifi>=2017.4.17 in /usr/local/lib/python3.6/dist-packages (from requests->transformers) (2020.6.20)\n",
            "Requirement already satisfied: urllib3!=1.25.0,!=1.25.1,<1.26,>=1.21.1 in /usr/local/lib/python3.6/dist-packages (from requests->transformers) (1.24.3)\n",
            "Requirement already satisfied: chardet<4,>=3.0.2 in /usr/local/lib/python3.6/dist-packages (from requests->transformers) (3.0.4)\n",
            "Requirement already satisfied: idna<3,>=2.5 in /usr/local/lib/python3.6/dist-packages (from requests->transformers) (2.10)\n",
            "Building wheels for collected packages: sacremoses\n",
            "  Building wheel for sacremoses (setup.py) ... \u001b[?25l\u001b[?25hdone\n",
            "  Created wheel for sacremoses: filename=sacremoses-0.0.43-cp36-none-any.whl size=893257 sha256=d2e62953f0c17f5a42d5407cda64a785573743ef3da1935fefe841c390f91b7f\n",
            "  Stored in directory: /root/.cache/pip/wheels/29/3c/fd/7ce5c3f0666dab31a50123635e6fb5e19ceb42ce38d4e58f45\n",
            "Successfully built sacremoses\n",
            "Installing collected packages: tokenizers, sentencepiece, sacremoses, transformers\n",
            "Successfully installed sacremoses-0.0.43 sentencepiece-0.1.91 tokenizers-0.8.1rc2 transformers-3.1.0\n"
          ],
          "name": "stdout"
        }
      ]
    },
    {
      "cell_type": "markdown",
      "metadata": {
        "id": "InYFDknEjKX9"
      },
      "source": [
        "###**2. Retrieve and Inspect Dataset**"
      ]
    },
    {
      "cell_type": "markdown",
      "metadata": {
        "id": "G3qifo6w2a7g"
      },
      "source": [
        "Let's download the dataset which is uploaded on my google drive."
      ]
    },
    {
      "cell_type": "code",
      "metadata": {
        "id": "rvosflVQjb4R",
        "outputId": "42e443a8-2e4a-4832-f999-1fad15ba1376",
        "colab": {
          "base_uri": "https://localhost:8080/",
          "height": 86
        }
      },
      "source": [
        "!gdown --id 11Yk7Xh4iekxZM6yEwerfHicx0p5_JC7m "
      ],
      "execution_count": null,
      "outputs": [
        {
          "output_type": "stream",
          "text": [
            "Downloading...\n",
            "From: https://drive.google.com/uc?id=11Yk7Xh4iekxZM6yEwerfHicx0p5_JC7m\n",
            "To: /content/train.csv\n",
            "68.8MB [00:00, 103MB/s] \n"
          ],
          "name": "stdout"
        }
      ]
    },
    {
      "cell_type": "markdown",
      "metadata": {
        "id": "pabcmFU-sLSD"
      },
      "source": [
        "We'll use `pandas` to parse the csv files."
      ]
    },
    {
      "cell_type": "code",
      "metadata": {
        "id": "9NFjXms7jBCK"
      },
      "source": [
        "import pandas as pd\n",
        "comments = pd.read_csv('/content/train.csv')"
      ],
      "execution_count": null,
      "outputs": []
    },
    {
      "cell_type": "markdown",
      "metadata": {
        "id": "LYaOsqMtsWYM"
      },
      "source": [
        "Let's take a look at the first few rows of the table just to see what's in there."
      ]
    },
    {
      "cell_type": "code",
      "metadata": {
        "id": "r3nDedbHjtkM",
        "outputId": "515fca19-4b59-44d0-c851-40ecec0a6ac8",
        "colab": {
          "base_uri": "https://localhost:8080/",
          "height": 201
        }
      },
      "source": [
        "comments.head() "
      ],
      "execution_count": null,
      "outputs": [
        {
          "output_type": "execute_result",
          "data": {
            "text/html": [
              "<div>\n",
              "<style scoped>\n",
              "    .dataframe tbody tr th:only-of-type {\n",
              "        vertical-align: middle;\n",
              "    }\n",
              "\n",
              "    .dataframe tbody tr th {\n",
              "        vertical-align: top;\n",
              "    }\n",
              "\n",
              "    .dataframe thead th {\n",
              "        text-align: right;\n",
              "    }\n",
              "</style>\n",
              "<table border=\"1\" class=\"dataframe\">\n",
              "  <thead>\n",
              "    <tr style=\"text-align: right;\">\n",
              "      <th></th>\n",
              "      <th>id</th>\n",
              "      <th>comment_text</th>\n",
              "      <th>toxic</th>\n",
              "      <th>severe_toxic</th>\n",
              "      <th>obscene</th>\n",
              "      <th>threat</th>\n",
              "      <th>insult</th>\n",
              "      <th>identity_hate</th>\n",
              "    </tr>\n",
              "  </thead>\n",
              "  <tbody>\n",
              "    <tr>\n",
              "      <th>0</th>\n",
              "      <td>0000997932d777bf</td>\n",
              "      <td>Explanation\\nWhy the edits made under my usern...</td>\n",
              "      <td>0</td>\n",
              "      <td>0</td>\n",
              "      <td>0</td>\n",
              "      <td>0</td>\n",
              "      <td>0</td>\n",
              "      <td>0</td>\n",
              "    </tr>\n",
              "    <tr>\n",
              "      <th>1</th>\n",
              "      <td>000103f0d9cfb60f</td>\n",
              "      <td>D'aww! He matches this background colour I'm s...</td>\n",
              "      <td>0</td>\n",
              "      <td>0</td>\n",
              "      <td>0</td>\n",
              "      <td>0</td>\n",
              "      <td>0</td>\n",
              "      <td>0</td>\n",
              "    </tr>\n",
              "    <tr>\n",
              "      <th>2</th>\n",
              "      <td>000113f07ec002fd</td>\n",
              "      <td>Hey man, I'm really not trying to edit war. It...</td>\n",
              "      <td>0</td>\n",
              "      <td>0</td>\n",
              "      <td>0</td>\n",
              "      <td>0</td>\n",
              "      <td>0</td>\n",
              "      <td>0</td>\n",
              "    </tr>\n",
              "    <tr>\n",
              "      <th>3</th>\n",
              "      <td>0001b41b1c6bb37e</td>\n",
              "      <td>\"\\nMore\\nI can't make any real suggestions on ...</td>\n",
              "      <td>0</td>\n",
              "      <td>0</td>\n",
              "      <td>0</td>\n",
              "      <td>0</td>\n",
              "      <td>0</td>\n",
              "      <td>0</td>\n",
              "    </tr>\n",
              "    <tr>\n",
              "      <th>4</th>\n",
              "      <td>0001d958c54c6e35</td>\n",
              "      <td>You, sir, are my hero. Any chance you remember...</td>\n",
              "      <td>0</td>\n",
              "      <td>0</td>\n",
              "      <td>0</td>\n",
              "      <td>0</td>\n",
              "      <td>0</td>\n",
              "      <td>0</td>\n",
              "    </tr>\n",
              "  </tbody>\n",
              "</table>\n",
              "</div>"
            ],
            "text/plain": [
              "                 id  ... identity_hate\n",
              "0  0000997932d777bf  ...             0\n",
              "1  000103f0d9cfb60f  ...             0\n",
              "2  000113f07ec002fd  ...             0\n",
              "3  0001b41b1c6bb37e  ...             0\n",
              "4  0001d958c54c6e35  ...             0\n",
              "\n",
              "[5 rows x 8 columns]"
            ]
          },
          "metadata": {
            "tags": []
          },
          "execution_count": 10
        }
      ]
    },
    {
      "cell_type": "markdown",
      "metadata": {
        "id": "uziXp8UgM79_"
      },
      "source": [
        "How many datapoints do we have?"
      ]
    },
    {
      "cell_type": "code",
      "metadata": {
        "id": "Np2dLG4DzIP_",
        "outputId": "1c3c2f40-419f-4143-e2f9-db35d8490bf4",
        "colab": {
          "base_uri": "https://localhost:8080/",
          "height": 34
        }
      },
      "source": [
        "comments.shape"
      ],
      "execution_count": null,
      "outputs": [
        {
          "output_type": "execute_result",
          "data": {
            "text/plain": [
              "(159571, 8)"
            ]
          },
          "metadata": {
            "tags": []
          },
          "execution_count": 5
        }
      ]
    },
    {
      "cell_type": "markdown",
      "metadata": {
        "id": "7pHkQkfINAAg"
      },
      "source": [
        "Displaying all the target columns."
      ]
    },
    {
      "cell_type": "code",
      "metadata": {
        "id": "QZQjNAnDc2XX",
        "outputId": "746e8b28-c956-4cc2-fdf8-20d479d3ea7f",
        "colab": {
          "base_uri": "https://localhost:8080/",
          "height": 34
        }
      },
      "source": [
        "categories = list(comments.columns.values)\n",
        "categories = categories[2:]\n",
        "print(categories) "
      ],
      "execution_count": null,
      "outputs": [
        {
          "output_type": "stream",
          "text": [
            "['toxic', 'severe_toxic', 'obscene', 'threat', 'insult', 'identity_hate']\n"
          ],
          "name": "stdout"
        }
      ]
    },
    {
      "cell_type": "markdown",
      "metadata": {
        "id": "96TBNhFkNDjf"
      },
      "source": [
        "Dsiplaying their counts as well."
      ]
    },
    {
      "cell_type": "code",
      "metadata": {
        "id": "Jg-PUTNgc4bm",
        "outputId": "46200c4e-1c13-482c-c7f3-622a0be18915",
        "colab": {
          "base_uri": "https://localhost:8080/",
          "height": 232
        }
      },
      "source": [
        "counts = []\n",
        "for category in categories:\n",
        "    counts.append((category, comments[category].sum()))\n",
        "df_stats = pd.DataFrame(counts, columns=['category', 'number of comments'])\n",
        "df_stats"
      ],
      "execution_count": null,
      "outputs": [
        {
          "output_type": "execute_result",
          "data": {
            "text/html": [
              "<div>\n",
              "<style scoped>\n",
              "    .dataframe tbody tr th:only-of-type {\n",
              "        vertical-align: middle;\n",
              "    }\n",
              "\n",
              "    .dataframe tbody tr th {\n",
              "        vertical-align: top;\n",
              "    }\n",
              "\n",
              "    .dataframe thead th {\n",
              "        text-align: right;\n",
              "    }\n",
              "</style>\n",
              "<table border=\"1\" class=\"dataframe\">\n",
              "  <thead>\n",
              "    <tr style=\"text-align: right;\">\n",
              "      <th></th>\n",
              "      <th>category</th>\n",
              "      <th>number of comments</th>\n",
              "    </tr>\n",
              "  </thead>\n",
              "  <tbody>\n",
              "    <tr>\n",
              "      <th>0</th>\n",
              "      <td>toxic</td>\n",
              "      <td>15294</td>\n",
              "    </tr>\n",
              "    <tr>\n",
              "      <th>1</th>\n",
              "      <td>severe_toxic</td>\n",
              "      <td>1595</td>\n",
              "    </tr>\n",
              "    <tr>\n",
              "      <th>2</th>\n",
              "      <td>obscene</td>\n",
              "      <td>8449</td>\n",
              "    </tr>\n",
              "    <tr>\n",
              "      <th>3</th>\n",
              "      <td>threat</td>\n",
              "      <td>478</td>\n",
              "    </tr>\n",
              "    <tr>\n",
              "      <th>4</th>\n",
              "      <td>insult</td>\n",
              "      <td>7877</td>\n",
              "    </tr>\n",
              "    <tr>\n",
              "      <th>5</th>\n",
              "      <td>identity_hate</td>\n",
              "      <td>1405</td>\n",
              "    </tr>\n",
              "  </tbody>\n",
              "</table>\n",
              "</div>"
            ],
            "text/plain": [
              "        category  number of comments\n",
              "0          toxic               15294\n",
              "1   severe_toxic                1595\n",
              "2        obscene                8449\n",
              "3         threat                 478\n",
              "4         insult                7877\n",
              "5  identity_hate                1405"
            ]
          },
          "metadata": {
            "tags": []
          },
          "execution_count": 7
        }
      ]
    },
    {
      "cell_type": "markdown",
      "metadata": {
        "id": "kFpyL_EGNHNQ"
      },
      "source": [
        "Visualizing it a bit further."
      ]
    },
    {
      "cell_type": "code",
      "metadata": {
        "id": "yiD2muSUaac5",
        "outputId": "8c4a782d-930b-459b-c8cd-878268049a90",
        "colab": {
          "base_uri": "https://localhost:8080/",
          "height": 543
        }
      },
      "source": [
        "import seaborn as sns\n",
        "import matplotlib.pyplot as plt\n",
        "\n",
        "\n",
        "sns.set(font_scale = 2)\n",
        "plt.figure(figsize=(15,8))\n",
        "\n",
        "ax= sns.barplot(categories, comments.iloc[:,2:].sum().values)\n",
        "\n",
        "plt.title(\"Comments in each category\", fontsize=24, fontweight='bold')\n",
        "plt.ylabel('Number of comments', fontsize=18, fontweight='bold')\n",
        "plt.xlabel('Comment Type ', fontsize=18, fontweight='bold')\n",
        "\n",
        "#adding the text labels\n",
        "rects = ax.patches\n",
        "labels = comments.iloc[:,2:].sum().values\n",
        "for rect, label in zip(rects, labels):\n",
        "    height = rect.get_height()\n",
        "    ax.text(rect.get_x() + rect.get_width()/2, height + 5, label, ha='center', va='bottom', fontsize=18)\n",
        "\n",
        "plt.show() "
      ],
      "execution_count": null,
      "outputs": [
        {
          "output_type": "display_data",
          "data": {
            "image/png": "[encoded data removed]",
            "text/plain": [
              "<Figure size 1080x576 with 1 Axes>"
            ]
          },
          "metadata": {
            "tags": []
          }
        }
      ]
    },
    {
      "cell_type": "markdown",
      "metadata": {
        "id": "r1dnzACtsrRd"
      },
      "source": [
        "Display some comments. Be prepared to see some terrible human behavior..."
      ]
    },
    {
      "cell_type": "code",
      "metadata": {
        "id": "Uoht0tpjkxgg",
        "outputId": "bcc6617c-64d5-44c8-ad93-a3ba9777f094",
        "colab": {
          "base_uri": "https://localhost:8080/",
          "height": 797
        }
      },
      "source": [
        "import textwrap\n",
        "import random\n",
        "#wrap text to 100 characters.\n",
        "wrapper = textwrap.TextWrapper(width=100)\n",
        "\n",
        "#filter to just the 'toxic' comments.\n",
        "toxic_examples = comments['comment_text']\n",
        "\n",
        "#randomly choose some examples.\n",
        "for i in range(5):\n",
        "  j = random.choice(toxic_examples.index)\n",
        "\n",
        "  print('')\n",
        "  print(wrapper.fill(toxic_examples[j]))\n",
        "  print('') "
      ],
      "execution_count": null,
      "outputs": [
        {
          "output_type": "stream",
          "text": [
            "\n",
            "Kurt Cobain   This is the one Kurt Cobain suicided with74.57.167.219\n",
            "\n",
            "\n",
            "\"    -You can mention whining and abusive behaviour all you like, but I think you know the real\n",
            "reason that you are spending so much time on line, and so little interacting with people offline.\n",
            "You pursued me, and I don't care whether you hide behind a rulebook or not. You have absolutely no\n",
            "understanding of literature, or the arts. Unlike you, I actually work in that area.  You are a\n",
            "bully, and have been cutting a destructive swathe across Wikipedia for some while now. It is a pity\n",
            "that this entire website seems to be taken over by idiot savants, anal retentives and Asperger's\n",
            "types, but there you go. Quoting your beloved website:  \"\"The term anal retentive (also anally\n",
            "retentive), commonly abbreviated to anal, is used to describe a person who pays such attention to\n",
            "detail that the obsession becomes an annoyance to others, potentially to the detriment of the anal-\n",
            "retentive person.\"\"   As for  - you're promoted above yourself, and are clearly unfit for your role.\n",
            "Try looking at both sides of a problem. You've screwed up this time, and should quit before you\n",
            "screw up other people's enjoyment of this website even more. I don't really care if I get banned by\n",
            "you at all, since you've got no power over me whatsoever. You need to spend more time off your\n",
            "computer as well and talking to people face to face. Get some fresh air.-  \"\n",
            "\n",
            "\n",
            "\"  Category:Brazilian practitioners of Brazilian jiu-jitsu Can I ask why you systematically removed\n",
            "virtually everyone with the Gracie surname from the category \"\"Brazilian practitioners of Brazilian\n",
            "jiu-jitsu\"\"? Curious. Thanks.   \"\n",
            "\n",
            "\n",
            "REDIRECT Talk:Fox Island River-Point au Mal\n",
            "\n",
            "\n",
            "\"   MediaWiki:Duplicate-defaultsort   Do you realize what a wonderful thing this is?  When you\n",
            "created it eight weeks ago was it your intention to address the conflict that pupped up in the\n",
            "category it created?  I hope not because I have been, although if you want to jump in and take care\n",
            "of the ones under \"\"S\"\" and \"\"T\"\" while I finish \"\"L\"\" and do \"\"M\"\" through \"\"R\"\" I will not\n",
            "complain.  When I stumbled across the category there were 2,777 pages in it.  By the end of today\n",
            "there will be fewer than 1,000.  My goal is to get all the non-trivial items resolved by the end of\n",
            "next week so I can start on the pages in Category:Biography articles without listas parameter, a\n",
            "project that should keep me out of trouble for the rest of my life.    Because I am resolving the\n",
            "conflicts in the first category I have learned more about how banners work than probably anyone else\n",
            "except the folks, like you, who know why the banners work as they do.  I have also leaned what items\n",
            "can set the DEFAULTSORT. As an added bonus I have leaned a couple of keyboard shortcuts I did not\n",
            "know before and I have become almost addicted to Preview.  The absolutely best part about the Dup-DS\n",
            "is that the category it has created, that I will continue to monitor on a daily basis, is a safety\n",
            "net for me when I mess something up on a page in  Category:Biography articles without listas\n",
            "parameter.  The easiest error to make is for me to neglect to put a listas value in a template that\n",
            "uses it, wants it, and will throw a fit if it is not there.  Thank you!   \"\n",
            "\n"
          ],
          "name": "stdout"
        }
      ]
    },
    {
      "cell_type": "markdown",
      "metadata": {
        "id": "GZwdfLASj3I0"
      },
      "source": [
        "### **3. BERT Input Length Limitation**\n"
      ]
    },
    {
      "cell_type": "markdown",
      "metadata": {
        "id": "v7R1XkyVkAFD"
      },
      "source": [
        "BERT has a *maximum input length* of 512 tokens. In this section, we'll look at how this limitation affects us in practice, and some possible approaches for addressing it.\n",
        "\n",
        "First, we'll load the BERT tokenizer."
      ]
    },
    {
      "cell_type": "code",
      "metadata": {
        "id": "8qHXLa2kj2iN",
        "outputId": "5a50f48e-aaa5-4c00-995f-a84ea093a790",
        "colab": {
          "base_uri": "https://localhost:8080/",
          "height": 83,
          "referenced_widgets": [
            "c48a7f9ee1b8416bbb6ddad3bce1c71c",
            "b7338eb9d5164460b4e44f3dec7a5ff0",
            "966e368d38ea45f3a55c8bb90a954fa5",
            "58ac987f38514986a267ae5af0dc81e0",
            "b76030cae90d41adb12c3c6a64d4310c",
            "67f9d3594ac0432a8a62366a8ec91b3e",
            "584083d1d5494ad790a4aba31542d4d8",
            "0be2f3807c6b43bea74ce94af4831b20"
          ]
        }
      },
      "source": [
        "from transformers import BertTokenizer\n",
        "\n",
        "# Load the BERT Tokenizer\n",
        "print('Loading BERT Tokenizer...')\n",
        "tokenizer = BertTokenizer.from_pretrained('bert-base-uncased', do_lower_case=True) "
      ],
      "execution_count": null,
      "outputs": [
        {
          "output_type": "stream",
          "text": [
            "Loading BERT Tokenizer...\n"
          ],
          "name": "stdout"
        },
        {
          "output_type": "display_data",
          "data": {
            "application/vnd.jupyter.widget-view+json": {
              "model_id": "c48a7f9ee1b8416bbb6ddad3bce1c71c",
              "version_minor": 0,
              "version_major": 2
            },
            "text/plain": [
              "HBox(children=(FloatProgress(value=0.0, description='Downloading', max=231508.0, style=ProgressStyle(descripti…"
            ]
          },
          "metadata": {
            "tags": []
          }
        },
        {
          "output_type": "stream",
          "text": [
            "\n"
          ],
          "name": "stdout"
        }
      ]
    },
    {
      "cell_type": "markdown",
      "metadata": {
        "id": "AdfSIeBJlsGR"
      },
      "source": [
        "Let's see how the first comment in the dataset looks like."
      ]
    },
    {
      "cell_type": "code",
      "metadata": {
        "id": "Dkz0TGEYj2mA",
        "outputId": "8d83117a-6a9d-42b9-880d-5f42d66cb77b",
        "colab": {
          "base_uri": "https://localhost:8080/",
          "height": 138
        }
      },
      "source": [
        "# Retrieve the text of the first comment.\n",
        "text = comments.iloc[0].comment_text\n",
        "\n",
        "# Run the tokenizer to count up the number of tokens. The tokenizer will split\n",
        "# the text into words, punctuations, and subwords as needed.\n",
        "tokens = tokenizer.tokenize(text)\n",
        "\n",
        "print('Comment 0 contains {:,} WordPiece tokens.'.format(len(tokens)))\n",
        "print('\\nOriginal comment text:\\n')\n",
        "print(wrapper.fill(text))"
      ],
      "execution_count": null,
      "outputs": [
        {
          "output_type": "stream",
          "text": [
            "Comment 0 contains 66 WordPiece tokens.\n",
            "\n",
            "Original comment text:\n",
            "\n",
            "Explanation Why the edits made under my username Hardcore Metallica Fan were reverted? They weren't\n",
            "vandalisms, just closure on some GAs after I voted at New York Dolls FAC. And please don't remove\n",
            "the template from the talk page since I'm retired now.89.205.38.27\n"
          ],
          "name": "stdout"
        }
      ]
    },
    {
      "cell_type": "markdown",
      "metadata": {
        "id": "WUtb_tWqo84O"
      },
      "source": [
        "For our intuitive understanding we will only take 30000 samples. I tried training the model with the whole dataset, it spits an error: `CUDA out of memory`. So we'll be taking 30000 examples. I believe you can increase this to 70000 at max, if not just try a lower number."
      ]
    },
    {
      "cell_type": "code",
      "metadata": {
        "id": "tKCtI4n_y0ht",
        "outputId": "7a9d71d9-b346-47fa-ca3d-f8c1503f94a6",
        "colab": {
          "base_uri": "https://localhost:8080/",
          "height": 34
        }
      },
      "source": [
        "comments = comments.loc[:30000,:]\n",
        "comments.shape"
      ],
      "execution_count": null,
      "outputs": [
        {
          "output_type": "execute_result",
          "data": {
            "text/plain": [
              "(30001, 8)"
            ]
          },
          "metadata": {
            "tags": []
          },
          "execution_count": 15
        }
      ]
    },
    {
      "cell_type": "markdown",
      "metadata": {
        "id": "Zrg4QPUunzgr"
      },
      "source": [
        "###**3.1 Strategies for Longer Text**\n",
        "\n",
        "Key points:\n",
        "- There is no obvious solution, but we'll cover a number of ideas to try.\n",
        "- Looking at the statistics of your dataset should help when choosing your strategy\n",
        "\n",
        "There was a [*paper published*](https://arxiv.org/abs/1905.05583) recently that investigated this problem and experimented with a few approaches. "
      ]
    },
    {
      "cell_type": "markdown",
      "metadata": {
        "id": "JaPvnrEEqI_S"
      },
      "source": [
        "###3.1.1 Truncation\n",
        "The simplest approach is to drop some of the tokens and hope that the remaining text is enough to perform the task well.\n",
        "\n",
        "You can drop tokens:\n",
        "- From the beginning of the text.\n",
        "- At the end of the text.\n",
        "- In the middle of the text.\n",
        "\n",
        "In the above paper, their experiment on the IMDb movie review dataset showed that keeping the first 128 tokens and the last 382 tokens performed the best. (Note: This adds to 510 tokens, leaving room for the special `[CLS]` and `[SEP]` tokens that we have to append in the beginning and end of the text respectively.\n",
        "\n",
        "*Visit section 5.3 in the paper for more details.*"
      ]
    },
    {
      "cell_type": "markdown",
      "metadata": {
        "id": "4zb0W7_br-5K"
      },
      "source": [
        "###3.1.2 Chunking\n",
        "\n",
        "Another approach attempted by the authors would be to divide the text into 512 token chunks and generate embeddings for these chunks seperately.\n",
        "\n",
        "The authors of the paper combined the embeddings for the differnt chunks before performing the final classification. They tried several *pooling* strategies, such as averaging the embeddings together. None of these methods outperformed the simple truncation approach.\n"
      ]
    },
    {
      "cell_type": "markdown",
      "metadata": {
        "id": "CXuk-VLVt3Is"
      },
      "source": [
        "###3.1.3 Comment Length Distribution\n",
        "\n",
        "To decide on a truncation strategy for this dataset, let's first look at the distribution comment lengths.\n",
        "\n",
        "To do this, our first step is to tokenize all of the comments in the dataset.\n"
      ]
    },
    {
      "cell_type": "markdown",
      "metadata": {
        "id": "T4DxtrL0ub20"
      },
      "source": [
        "###**Tokenize All Comments**\n",
        "The `tokenizer.encode` function combines multiple steps for us:\n",
        "1. Split the sentance into tokens.\n",
        "2. Add special tokens `[CLS]` and `[SEP]` tokens.\n",
        "3. Map the tokens to their IDs.\n",
        "\n",
        "In order to explore the distribution of the comment lengths, we will not perform any truncation here. *`Unfortunately, this results in the tokenizer spitting out a warning for every comment that's longer than 512 tokens`*. We'll just have to ignore this for now."
      ]
    },
    {
      "cell_type": "code",
      "metadata": {
        "id": "gFRFQLdxj2kq"
      },
      "source": [
        "import numpy as np\n",
        "\n",
        "# Tokenize all the sentences and map the tokens to their word IDs.\n",
        "input_ids = [] \n",
        "\n",
        "# Record the length of each sequence (after truncating to 512).\n",
        "lengths = []\n",
        "\n",
        "# For every sentence...\n",
        "for sen in comments.comment_text:\n",
        "\n",
        "  # 'encode' will:\n",
        "  # (1) Tokenize the sentence.\n",
        "  # (2) Prepend the [CLS] token to the start.\n",
        "  # (3) Append the [SEP] token to the end.\n",
        "  # (4) Map tokens to their IDs.\n",
        "  encode_sent = tokenizer.encode(\n",
        "      sen,                       # Sentence to encode.\n",
        "      add_special_tokens = True, # Add [CLS] and [SEP].\n",
        "      #max_length = 512,         # Truncate all sentences to 512.\n",
        "      #return_tensor = 'pt       # Return pytorch tensor.\n",
        "  )\n",
        " \n",
        "  # Add the encoded sentences to the list.\n",
        "  input_ids.append(encode_sent)\n",
        "\n",
        "  # Record the truncated length.\n",
        "  lengths.append(len(encode_sent))"
      ],
      "execution_count": null,
      "outputs": []
    },
    {
      "cell_type": "markdown",
      "metadata": {
        "id": "eqa7o6OWxkOu"
      },
      "source": [
        "Before we continue, let's also retrieve the comment labels, and check out the class distribution for this dataset."
      ]
    },
    {
      "cell_type": "code",
      "metadata": {
        "id": "MTv7Vnypj2fs"
      },
      "source": [
        "# Get the labels from the dataframe and convert them to ints.\n",
        "labels = comments.toxic.to_numpy().astype(int)"
      ],
      "execution_count": null,
      "outputs": []
    },
    {
      "cell_type": "markdown",
      "metadata": {
        "id": "-5B2xEBo0vKt"
      },
      "source": [
        "Let's grab some quick statistics- what are min, max and median comment lengths?"
      ]
    },
    {
      "cell_type": "code",
      "metadata": {
        "id": "DqIh5rPQ942y",
        "outputId": "ca4a3300-7c5a-48d7-d62a-47c1dc1e81d8",
        "colab": {
          "base_uri": "https://localhost:8080/",
          "height": 69
        }
      },
      "source": [
        "print('    Min Length: {:,} tokens'.format(min(lengths)))\n",
        "print('    Max Length: {:,} tokens'.format(max(lengths)))\n",
        "print(' Median Length: {:,} tokens'.format(np.median(lengths)))"
      ],
      "execution_count": null,
      "outputs": [
        {
          "output_type": "stream",
          "text": [
            "    Min Length: 4 tokens\n",
            "    Max Length: 2,501 tokens\n",
            " Median Length: 52.0 tokens\n"
          ],
          "name": "stdout"
        }
      ]
    },
    {
      "cell_type": "markdown",
      "metadata": {
        "id": "wH5Hl5bN0-RN"
      },
      "source": [
        "To further analysis it, let's plot the distribution. To keep the scale of x-axis reasonable, we'll clip the lengths to 512."
      ]
    },
    {
      "cell_type": "code",
      "metadata": {
        "id": "Q9IBw7mdjLV3",
        "outputId": "c0e6d0b5-6266-426d-bc5a-9f006fd290a0",
        "colab": {
          "base_uri": "https://localhost:8080/",
          "height": 372
        }
      },
      "source": [
        "import matplotlib.pyplot as plt\n",
        "import seaborn as sns\n",
        "\n",
        "sns.set(style='darkgrid')  \n",
        "\n",
        "# Increase the plot size and font size\n",
        "sns.set(font_scale=1.5)\n",
        "plt.rcParams[\"figure.figsize\"] = (10, 5)\n",
        "\n",
        "# Truncate any comment lengths greater than 512\n",
        "lengths = [min(l, 512) for l in lengths]\n",
        "\n",
        "# Plot the distribution of comment lengths.\n",
        "sns.distplot(lengths, kde=False, rug=False)\n",
        "\n",
        "# Label the plot.\n",
        "plt.title('Comment Lengths')\n",
        "plt.xlabel('Comment Length')\n",
        "plt.ylabel('No.of Comments');"
      ],
      "execution_count": null,
      "outputs": [
        {
          "output_type": "display_data",
          "data": {
            "image/png": "[encoded data removed]",
            "text/plain": [
              "<Figure size 720x360 with 1 Axes>"
            ]
          },
          "metadata": {
            "tags": []
          }
        }
      ]
    },
    {
      "cell_type": "markdown",
      "metadata": {
        "id": "VRdplZZb57B5"
      },
      "source": [
        "Clearly, most of the comments are \"short\", and there is a long tail of larger comments.\n",
        "\n",
        "Just how many examples run into the 512 token limit?"
      ]
    },
    {
      "cell_type": "code",
      "metadata": {
        "id": "S8zhPC_-jLni",
        "outputId": "3ac1065c-f764-41f2-f1dd-89b57ad177a6",
        "colab": {
          "base_uri": "https://localhost:8080/",
          "height": 34
        }
      },
      "source": [
        "# Count the number of sentences that have been truncated to 512 tokens.\n",
        "num_truncated = lengths.count(512)\n",
        "\n",
        "# Compare this to the total number of training sentences.\n",
        "num_sentences = len(lengths)\n",
        "\n",
        "pcent = float(num_truncated) / float(num_sentences)\n",
        "\n",
        "print('{:,} of {:,} sentences ({:.1%}) in the training set are longer than 512 tokens'.format(num_truncated, num_sentences, pcent))\n"
      ],
      "execution_count": null,
      "outputs": [
        {
          "output_type": "stream",
          "text": [
            "664 of 30,001 sentences (2.2%) in the training set are longer than 512 tokens\n"
          ],
          "name": "stdout"
        }
      ]
    },
    {
      "cell_type": "markdown",
      "metadata": {
        "id": "DnI9Vo349bq3"
      },
      "source": [
        "###**4. Pad and Truncate the Comments**"
      ]
    },
    {
      "cell_type": "markdown",
      "metadata": {
        "id": "u2Nx_z-o9phk"
      },
      "source": [
        "I think it seems safe to truncate our comments to 512 tokens.\n",
        "\n",
        "Not only that, I can think we can get away with an even shorter length to speed things up. i've picked the max length to 128, since this is around the elbow of the distribution.\n",
        "\n",
        "We can also try longer lengths to see how much this improves the result."
      ]
    },
    {
      "cell_type": "code",
      "metadata": {
        "id": "sY9q8hGojLuJ"
      },
      "source": [
        "# We'll borrow the pad sequences utility fucntion to do this.\n",
        "from keras.preprocessing.sequence import pad_sequences\n",
        "\n",
        "# Set the required sentence length.\n",
        "MAX_LEN = 128\n",
        "\n",
        "# Pad our input tokens with value 0.\n",
        "input_ids = pad_sequences(input_ids, maxlen=MAX_LEN, dtype=\"long\", value=0, truncating=\"post\", padding=\"post\") "
      ],
      "execution_count": null,
      "outputs": []
    },
    {
      "cell_type": "markdown",
      "metadata": {
        "id": "MIMD2YIX_GKc"
      },
      "source": [
        "###**5. Attention Masks**\n",
        "\n",
        "The attention mask simply makes it explicit which tokens are actual versus which are paddings.\n",
        "\n",
        "The BERT vocabulary does not use the ID 0, so if a ID is taken 0, then it's a padding, and otherwise it is a real token."
      ]
    },
    {
      "cell_type": "code",
      "metadata": {
        "id": "xTfWNn_Ezjy5"
      },
      "source": [
        "# Create attention masks.\n",
        "attention_masks = []\n",
        "\n",
        "# For each sentence...\n",
        "for sent in input_ids:\n",
        "  # create the attention mask.\n",
        "  # - if token ID is 0, then it's padding, so set the mask to 0.\n",
        "  # - if token IS > 0, then it's a real token, so set the mask to 1.\n",
        "\n",
        "  att_mask = [int(token_id > 0) for token_id in sent]\n",
        "\n",
        "  # Store the attention masks for the sentences.\n",
        "  attention_masks.append(att_mask)"
      ],
      "execution_count": null,
      "outputs": []
    },
    {
      "cell_type": "markdown",
      "metadata": {
        "id": "bvp8pjhxAVVk"
      },
      "source": [
        "###**6. Final Data Preparation**"
      ]
    },
    {
      "cell_type": "markdown",
      "metadata": {
        "id": "g1OflRWZAl62"
      },
      "source": [
        "1) Divide up our dataset to use 90% for training and 10% for validation."
      ]
    },
    {
      "cell_type": "code",
      "metadata": {
        "id": "qlN76iTdzjsK"
      },
      "source": [
        "from sklearn.model_selection import train_test_split\n",
        "\n",
        "train_inputs, validation_inputs, train_labels, validation_labels = train_test_split(input_ids, labels, random_state=2020, test_size=0.1)\n",
        "\n",
        "# Do the same for masks.\n",
        "train_masks, validation_masks, _, _ = train_test_split(attention_masks, labels, random_state=2021, test_size=0.1)"
      ],
      "execution_count": null,
      "outputs": []
    },
    {
      "cell_type": "markdown",
      "metadata": {
        "id": "4iUAVBufBPQr"
      },
      "source": [
        "2) Our model exports Pytroch tensors rather than numpy.ndarrays, so let's convert all of our dataset variables."
      ]
    },
    {
      "cell_type": "code",
      "metadata": {
        "id": "xuHEx02qjLqQ"
      },
      "source": [
        "# Convert all our inputs and labels into torch tensors, the required datatype\n",
        "# for our model.\n",
        "\n",
        "train_inputs = torch.tensor(train_inputs)\n",
        "validation_inputs = torch.tensor(validation_inputs)\n",
        "\n",
        "train_labels = torch.tensor(train_labels)\n",
        "validation_labels = torch.tensor(validation_labels)\n",
        "\n",
        "train_masks = torch.tensor(train_masks)\n",
        "validation_masks = torch.tensor(validation_masks)"
      ],
      "execution_count": null,
      "outputs": []
    },
    {
      "cell_type": "markdown",
      "metadata": {
        "id": "DFcZzYx7CKJl"
      },
      "source": [
        "3) We'll also create an iterator for our dataset using torch DataLoader class. This helps us save memory during training because, unlike a for loop, with an iterator the entire dataset does not need to be loaded into memory."
      ]
    },
    {
      "cell_type": "code",
      "metadata": {
        "id": "hXnbTeYljLkx"
      },
      "source": [
        "from torch.utils.data import TensorDataset, DataLoader, RandomSampler, SequentialSampler\n",
        "\n",
        "# The dataloader needs to know our batch size for training, so we specify it here.\n",
        "# For fine-tuning BERT on a specific task, the authors recommend a batch size of\n",
        "# 16 or 32.\n",
        "\n",
        "batch_size = 32\n",
        "\n",
        "# Create the DataLoader for our training set.\n",
        "train_data = TensorDataset(train_inputs, train_masks, train_labels)\n",
        "train_sampler = RandomSampler(train_data)\n",
        "train_dataloader = DataLoader(train_data, sampler = train_sampler, batch_size = batch_size) \n",
        "\n",
        "# Create the DataLoader for our validation set.\n",
        "validation_data = TensorDataset(validation_inputs, validation_masks, validation_labels)\n",
        "validation_sampler = SequentialSampler(validation_data)\n",
        "validation_dataloader = DataLoader(validation_data, sampler = validation_sampler, batch_size=batch_size)"
      ],
      "execution_count": null,
      "outputs": []
    },
    {
      "cell_type": "markdown",
      "metadata": {
        "id": "PhVnJ9bUE_-d"
      },
      "source": [
        "###**7. BERT Fine-Tuning**\n",
        "\n",
        "#### Train our Classification Model:\n",
        "\n",
        "Now that our input data is properly formatted, it's time to fine-tune the BERT model."
      ]
    },
    {
      "cell_type": "markdown",
      "metadata": {
        "id": "_L_1-B_qFcAV"
      },
      "source": [
        "###*`7.1 BERTForSequenceClassification`*\n",
        "\n",
        "For this task, we firstly want to modify the pre-trained BERT model to give outputs for classification, and then we want to continue training the model on our dataset until that the entire model end-to-end is well-suited for our task.\n",
        "\n",
        "Thankfully, the huggingFace pytorch implementation includes a set of interfaces designed for a variety of NLP tasks. Here is the current list of classes provided for fine-tuning:\n",
        "- BertModel\n",
        "- BertForPretraining\n",
        "- BertForMaskedLM\n",
        "- BertForNextSentencePrediction\n",
        "- BertForSequenceClassification\n",
        "- BertForTokenClassification\n",
        "- BertForQuestionAnswering\n",
        "\n",
        "We'll use **BertForSequenceClassification**. *`This is the simple BERT model with an added single linear layer on top for classification that we will use as a sentence classifier`*. As we feed input data, the entire pre-trained BERT model and the additional untrained classification layer is trained on our specific task.\n",
        "\n",
        "OK! Let's load the BERT model."
      ]
    },
    {
      "cell_type": "code",
      "metadata": {
        "id": "DoabBoZAjLS0",
        "outputId": "17207e18-4e2f-45e6-96e3-999c698c07b2",
        "colab": {
          "base_uri": "https://localhost:8080/",
          "height": 1000,
          "referenced_widgets": [
            "50b33acd8f9d45309ffebeca813d2205",
            "42042183d5624ecda5eab7ab45d2b897",
            "fc5d12417e8648d084eef08b0c263249",
            "ce62a712a2ba4e77a01ff44e2a05ba35",
            "de7461b5b59649548a149e1b09affe04",
            "9c0d28fc1613413789c30942428f0079",
            "f211b7ef0d5e4f5cb672a65660deeff3",
            "92035fade43f4a81be40b1610231bcb4",
            "1732642c2e2b46e2a418f35aab393189",
            "4d4283a167ee495aa611a8732d58dd17",
            "75dc1f532b3e4a0a86f405f979c21790",
            "59bd071e0e0c4c9ea4080818413f5d86",
            "d5c9b3da85a24f4f84b63810f848d1a0",
            "fb6e440d122347c5b7fd463ecb2f0398",
            "67a0e122a67d4234934e46fd520c98e6",
            "17cb9cf027d24ee7ac4a93acd5152cca"
          ]
        }
      },
      "source": [
        "from transformers import BertForSequenceClassification, AdamW, BertConfig\n",
        "\n",
        "model = BertForSequenceClassification.from_pretrained('bert-base-uncased', # Use the 24 layer BERT model, with an uncased vocab.\n",
        "                                                      num_labels =2, # The number of output labels --2 for binary classification, you can\n",
        "                                                                     # increase this for multiclass tasks. \n",
        "                                                      output_attentions = False,    # whether the model returns attention weights.\n",
        "                                                      output_hidden_states = False) # whether the model returns all hidden-states.\n",
        "model.cuda() "
      ],
      "execution_count": null,
      "outputs": [
        {
          "output_type": "display_data",
          "data": {
            "application/vnd.jupyter.widget-view+json": {
              "model_id": "50b33acd8f9d45309ffebeca813d2205",
              "version_minor": 0,
              "version_major": 2
            },
            "text/plain": [
              "HBox(children=(FloatProgress(value=0.0, description='Downloading', max=433.0, style=ProgressStyle(description_…"
            ]
          },
          "metadata": {
            "tags": []
          }
        },
        {
          "output_type": "stream",
          "text": [
            "\n"
          ],
          "name": "stdout"
        },
        {
          "output_type": "display_data",
          "data": {
            "application/vnd.jupyter.widget-view+json": {
              "model_id": "1732642c2e2b46e2a418f35aab393189",
              "version_minor": 0,
              "version_major": 2
            },
            "text/plain": [
              "HBox(children=(FloatProgress(value=0.0, description='Downloading', max=440473133.0, style=ProgressStyle(descri…"
            ]
          },
          "metadata": {
            "tags": []
          }
        },
        {
          "output_type": "stream",
          "text": [
            "\n"
          ],
          "name": "stdout"
        },
        {
          "output_type": "stream",
          "text": [
            "Some weights of the model checkpoint at bert-base-uncased were not used when initializing BertForSequenceClassification: ['cls.predictions.bias', 'cls.predictions.transform.dense.weight', 'cls.predictions.transform.dense.bias', 'cls.predictions.decoder.weight', 'cls.seq_relationship.weight', 'cls.seq_relationship.bias', 'cls.predictions.transform.LayerNorm.weight', 'cls.predictions.transform.LayerNorm.bias']\n",
            "- This IS expected if you are initializing BertForSequenceClassification from the checkpoint of a model trained on another task or with another architecture (e.g. initializing a BertForSequenceClassification model from a BertForPretraining model).\n",
            "- This IS NOT expected if you are initializing BertForSequenceClassification from the checkpoint of a model that you expect to be exactly identical (initializing a BertForSequenceClassification model from a BertForSequenceClassification model).\n",
            "Some weights of BertForSequenceClassification were not initialized from the model checkpoint at bert-base-uncased and are newly initialized: ['classifier.weight', 'classifier.bias']\n",
            "You should probably TRAIN this model on a down-stream task to be able to use it for predictions and inference.\n"
          ],
          "name": "stderr"
        },
        {
          "output_type": "execute_result",
          "data": {
            "text/plain": [
              "BertForSequenceClassification(\n",
              "  (bert): BertModel(\n",
              "    (embeddings): BertEmbeddings(\n",
              "      (word_embeddings): Embedding(30522, 768, padding_idx=0)\n",
              "      (position_embeddings): Embedding(512, 768)\n",
              "      (token_type_embeddings): Embedding(2, 768)\n",
              "      (LayerNorm): LayerNorm((768,), eps=1e-12, elementwise_affine=True)\n",
              "      (dropout): Dropout(p=0.1, inplace=False)\n",
              "    )\n",
              "    (encoder): BertEncoder(\n",
              "      (layer): ModuleList(\n",
              "        (0): BertLayer(\n",
              "          (attention): BertAttention(\n",
              "            (self): BertSelfAttention(\n",
              "              (query): Linear(in_features=768, out_features=768, bias=True)\n",
              "              (key): Linear(in_features=768, out_features=768, bias=True)\n",
              "              (value): Linear(in_features=768, out_features=768, bias=True)\n",
              "              (dropout): Dropout(p=0.1, inplace=False)\n",
              "            )\n",
              "            (output): BertSelfOutput(\n",
              "              (dense): Linear(in_features=768, out_features=768, bias=True)\n",
              "              (LayerNorm): LayerNorm((768,), eps=1e-12, elementwise_affine=True)\n",
              "              (dropout): Dropout(p=0.1, inplace=False)\n",
              "            )\n",
              "          )\n",
              "          (intermediate): BertIntermediate(\n",
              "            (dense): Linear(in_features=768, out_features=3072, bias=True)\n",
              "          )\n",
              "          (output): BertOutput(\n",
              "            (dense): Linear(in_features=3072, out_features=768, bias=True)\n",
              "            (LayerNorm): LayerNorm((768,), eps=1e-12, elementwise_affine=True)\n",
              "            (dropout): Dropout(p=0.1, inplace=False)\n",
              "          )\n",
              "        )\n",
              "        (1): BertLayer(\n",
              "          (attention): BertAttention(\n",
              "            (self): BertSelfAttention(\n",
              "              (query): Linear(in_features=768, out_features=768, bias=True)\n",
              "              (key): Linear(in_features=768, out_features=768, bias=True)\n",
              "              (value): Linear(in_features=768, out_features=768, bias=True)\n",
              "              (dropout): Dropout(p=0.1, inplace=False)\n",
              "            )\n",
              "            (output): BertSelfOutput(\n",
              "              (dense): Linear(in_features=768, out_features=768, bias=True)\n",
              "              (LayerNorm): LayerNorm((768,), eps=1e-12, elementwise_affine=True)\n",
              "              (dropout): Dropout(p=0.1, inplace=False)\n",
              "            )\n",
              "          )\n",
              "          (intermediate): BertIntermediate(\n",
              "            (dense): Linear(in_features=768, out_features=3072, bias=True)\n",
              "          )\n",
              "          (output): BertOutput(\n",
              "            (dense): Linear(in_features=3072, out_features=768, bias=True)\n",
              "            (LayerNorm): LayerNorm((768,), eps=1e-12, elementwise_affine=True)\n",
              "            (dropout): Dropout(p=0.1, inplace=False)\n",
              "          )\n",
              "        )\n",
              "        (2): BertLayer(\n",
              "          (attention): BertAttention(\n",
              "            (self): BertSelfAttention(\n",
              "              (query): Linear(in_features=768, out_features=768, bias=True)\n",
              "              (key): Linear(in_features=768, out_features=768, bias=True)\n",
              "              (value): Linear(in_features=768, out_features=768, bias=True)\n",
              "              (dropout): Dropout(p=0.1, inplace=False)\n",
              "            )\n",
              "            (output): BertSelfOutput(\n",
              "              (dense): Linear(in_features=768, out_features=768, bias=True)\n",
              "              (LayerNorm): LayerNorm((768,), eps=1e-12, elementwise_affine=True)\n",
              "              (dropout): Dropout(p=0.1, inplace=False)\n",
              "            )\n",
              "          )\n",
              "          (intermediate): BertIntermediate(\n",
              "            (dense): Linear(in_features=768, out_features=3072, bias=True)\n",
              "          )\n",
              "          (output): BertOutput(\n",
              "            (dense): Linear(in_features=3072, out_features=768, bias=True)\n",
              "            (LayerNorm): LayerNorm((768,), eps=1e-12, elementwise_affine=True)\n",
              "            (dropout): Dropout(p=0.1, inplace=False)\n",
              "          )\n",
              "        )\n",
              "        (3): BertLayer(\n",
              "          (attention): BertAttention(\n",
              "            (self): BertSelfAttention(\n",
              "              (query): Linear(in_features=768, out_features=768, bias=True)\n",
              "              (key): Linear(in_features=768, out_features=768, bias=True)\n",
              "              (value): Linear(in_features=768, out_features=768, bias=True)\n",
              "              (dropout): Dropout(p=0.1, inplace=False)\n",
              "            )\n",
              "            (output): BertSelfOutput(\n",
              "              (dense): Linear(in_features=768, out_features=768, bias=True)\n",
              "              (LayerNorm): LayerNorm((768,), eps=1e-12, elementwise_affine=True)\n",
              "              (dropout): Dropout(p=0.1, inplace=False)\n",
              "            )\n",
              "          )\n",
              "          (intermediate): BertIntermediate(\n",
              "            (dense): Linear(in_features=768, out_features=3072, bias=True)\n",
              "          )\n",
              "          (output): BertOutput(\n",
              "            (dense): Linear(in_features=3072, out_features=768, bias=True)\n",
              "            (LayerNorm): LayerNorm((768,), eps=1e-12, elementwise_affine=True)\n",
              "            (dropout): Dropout(p=0.1, inplace=False)\n",
              "          )\n",
              "        )\n",
              "        (4): BertLayer(\n",
              "          (attention): BertAttention(\n",
              "            (self): BertSelfAttention(\n",
              "              (query): Linear(in_features=768, out_features=768, bias=True)\n",
              "              (key): Linear(in_features=768, out_features=768, bias=True)\n",
              "              (value): Linear(in_features=768, out_features=768, bias=True)\n",
              "              (dropout): Dropout(p=0.1, inplace=False)\n",
              "            )\n",
              "            (output): BertSelfOutput(\n",
              "              (dense): Linear(in_features=768, out_features=768, bias=True)\n",
              "              (LayerNorm): LayerNorm((768,), eps=1e-12, elementwise_affine=True)\n",
              "              (dropout): Dropout(p=0.1, inplace=False)\n",
              "            )\n",
              "          )\n",
              "          (intermediate): BertIntermediate(\n",
              "            (dense): Linear(in_features=768, out_features=3072, bias=True)\n",
              "          )\n",
              "          (output): BertOutput(\n",
              "            (dense): Linear(in_features=3072, out_features=768, bias=True)\n",
              "            (LayerNorm): LayerNorm((768,), eps=1e-12, elementwise_affine=True)\n",
              "            (dropout): Dropout(p=0.1, inplace=False)\n",
              "          )\n",
              "        )\n",
              "        (5): BertLayer(\n",
              "          (attention): BertAttention(\n",
              "            (self): BertSelfAttention(\n",
              "              (query): Linear(in_features=768, out_features=768, bias=True)\n",
              "              (key): Linear(in_features=768, out_features=768, bias=True)\n",
              "              (value): Linear(in_features=768, out_features=768, bias=True)\n",
              "              (dropout): Dropout(p=0.1, inplace=False)\n",
              "            )\n",
              "            (output): BertSelfOutput(\n",
              "              (dense): Linear(in_features=768, out_features=768, bias=True)\n",
              "              (LayerNorm): LayerNorm((768,), eps=1e-12, elementwise_affine=True)\n",
              "              (dropout): Dropout(p=0.1, inplace=False)\n",
              "            )\n",
              "          )\n",
              "          (intermediate): BertIntermediate(\n",
              "            (dense): Linear(in_features=768, out_features=3072, bias=True)\n",
              "          )\n",
              "          (output): BertOutput(\n",
              "            (dense): Linear(in_features=3072, out_features=768, bias=True)\n",
              "            (LayerNorm): LayerNorm((768,), eps=1e-12, elementwise_affine=True)\n",
              "            (dropout): Dropout(p=0.1, inplace=False)\n",
              "          )\n",
              "        )\n",
              "        (6): BertLayer(\n",
              "          (attention): BertAttention(\n",
              "            (self): BertSelfAttention(\n",
              "              (query): Linear(in_features=768, out_features=768, bias=True)\n",
              "              (key): Linear(in_features=768, out_features=768, bias=True)\n",
              "              (value): Linear(in_features=768, out_features=768, bias=True)\n",
              "              (dropout): Dropout(p=0.1, inplace=False)\n",
              "            )\n",
              "            (output): BertSelfOutput(\n",
              "              (dense): Linear(in_features=768, out_features=768, bias=True)\n",
              "              (LayerNorm): LayerNorm((768,), eps=1e-12, elementwise_affine=True)\n",
              "              (dropout): Dropout(p=0.1, inplace=False)\n",
              "            )\n",
              "          )\n",
              "          (intermediate): BertIntermediate(\n",
              "            (dense): Linear(in_features=768, out_features=3072, bias=True)\n",
              "          )\n",
              "          (output): BertOutput(\n",
              "            (dense): Linear(in_features=3072, out_features=768, bias=True)\n",
              "            (LayerNorm): LayerNorm((768,), eps=1e-12, elementwise_affine=True)\n",
              "            (dropout): Dropout(p=0.1, inplace=False)\n",
              "          )\n",
              "        )\n",
              "        (7): BertLayer(\n",
              "          (attention): BertAttention(\n",
              "            (self): BertSelfAttention(\n",
              "              (query): Linear(in_features=768, out_features=768, bias=True)\n",
              "              (key): Linear(in_features=768, out_features=768, bias=True)\n",
              "              (value): Linear(in_features=768, out_features=768, bias=True)\n",
              "              (dropout): Dropout(p=0.1, inplace=False)\n",
              "            )\n",
              "            (output): BertSelfOutput(\n",
              "              (dense): Linear(in_features=768, out_features=768, bias=True)\n",
              "              (LayerNorm): LayerNorm((768,), eps=1e-12, elementwise_affine=True)\n",
              "              (dropout): Dropout(p=0.1, inplace=False)\n",
              "            )\n",
              "          )\n",
              "          (intermediate): BertIntermediate(\n",
              "            (dense): Linear(in_features=768, out_features=3072, bias=True)\n",
              "          )\n",
              "          (output): BertOutput(\n",
              "            (dense): Linear(in_features=3072, out_features=768, bias=True)\n",
              "            (LayerNorm): LayerNorm((768,), eps=1e-12, elementwise_affine=True)\n",
              "            (dropout): Dropout(p=0.1, inplace=False)\n",
              "          )\n",
              "        )\n",
              "        (8): BertLayer(\n",
              "          (attention): BertAttention(\n",
              "            (self): BertSelfAttention(\n",
              "              (query): Linear(in_features=768, out_features=768, bias=True)\n",
              "              (key): Linear(in_features=768, out_features=768, bias=True)\n",
              "              (value): Linear(in_features=768, out_features=768, bias=True)\n",
              "              (dropout): Dropout(p=0.1, inplace=False)\n",
              "            )\n",
              "            (output): BertSelfOutput(\n",
              "              (dense): Linear(in_features=768, out_features=768, bias=True)\n",
              "              (LayerNorm): LayerNorm((768,), eps=1e-12, elementwise_affine=True)\n",
              "              (dropout): Dropout(p=0.1, inplace=False)\n",
              "            )\n",
              "          )\n",
              "          (intermediate): BertIntermediate(\n",
              "            (dense): Linear(in_features=768, out_features=3072, bias=True)\n",
              "          )\n",
              "          (output): BertOutput(\n",
              "            (dense): Linear(in_features=3072, out_features=768, bias=True)\n",
              "            (LayerNorm): LayerNorm((768,), eps=1e-12, elementwise_affine=True)\n",
              "            (dropout): Dropout(p=0.1, inplace=False)\n",
              "          )\n",
              "        )\n",
              "        (9): BertLayer(\n",
              "          (attention): BertAttention(\n",
              "            (self): BertSelfAttention(\n",
              "              (query): Linear(in_features=768, out_features=768, bias=True)\n",
              "              (key): Linear(in_features=768, out_features=768, bias=True)\n",
              "              (value): Linear(in_features=768, out_features=768, bias=True)\n",
              "              (dropout): Dropout(p=0.1, inplace=False)\n",
              "            )\n",
              "            (output): BertSelfOutput(\n",
              "              (dense): Linear(in_features=768, out_features=768, bias=True)\n",
              "              (LayerNorm): LayerNorm((768,), eps=1e-12, elementwise_affine=True)\n",
              "              (dropout): Dropout(p=0.1, inplace=False)\n",
              "            )\n",
              "          )\n",
              "          (intermediate): BertIntermediate(\n",
              "            (dense): Linear(in_features=768, out_features=3072, bias=True)\n",
              "          )\n",
              "          (output): BertOutput(\n",
              "            (dense): Linear(in_features=3072, out_features=768, bias=True)\n",
              "            (LayerNorm): LayerNorm((768,), eps=1e-12, elementwise_affine=True)\n",
              "            (dropout): Dropout(p=0.1, inplace=False)\n",
              "          )\n",
              "        )\n",
              "        (10): BertLayer(\n",
              "          (attention): BertAttention(\n",
              "            (self): BertSelfAttention(\n",
              "              (query): Linear(in_features=768, out_features=768, bias=True)\n",
              "              (key): Linear(in_features=768, out_features=768, bias=True)\n",
              "              (value): Linear(in_features=768, out_features=768, bias=True)\n",
              "              (dropout): Dropout(p=0.1, inplace=False)\n",
              "            )\n",
              "            (output): BertSelfOutput(\n",
              "              (dense): Linear(in_features=768, out_features=768, bias=True)\n",
              "              (LayerNorm): LayerNorm((768,), eps=1e-12, elementwise_affine=True)\n",
              "              (dropout): Dropout(p=0.1, inplace=False)\n",
              "            )\n",
              "          )\n",
              "          (intermediate): BertIntermediate(\n",
              "            (dense): Linear(in_features=768, out_features=3072, bias=True)\n",
              "          )\n",
              "          (output): BertOutput(\n",
              "            (dense): Linear(in_features=3072, out_features=768, bias=True)\n",
              "            (LayerNorm): LayerNorm((768,), eps=1e-12, elementwise_affine=True)\n",
              "            (dropout): Dropout(p=0.1, inplace=False)\n",
              "          )\n",
              "        )\n",
              "        (11): BertLayer(\n",
              "          (attention): BertAttention(\n",
              "            (self): BertSelfAttention(\n",
              "              (query): Linear(in_features=768, out_features=768, bias=True)\n",
              "              (key): Linear(in_features=768, out_features=768, bias=True)\n",
              "              (value): Linear(in_features=768, out_features=768, bias=True)\n",
              "              (dropout): Dropout(p=0.1, inplace=False)\n",
              "            )\n",
              "            (output): BertSelfOutput(\n",
              "              (dense): Linear(in_features=768, out_features=768, bias=True)\n",
              "              (LayerNorm): LayerNorm((768,), eps=1e-12, elementwise_affine=True)\n",
              "              (dropout): Dropout(p=0.1, inplace=False)\n",
              "            )\n",
              "          )\n",
              "          (intermediate): BertIntermediate(\n",
              "            (dense): Linear(in_features=768, out_features=3072, bias=True)\n",
              "          )\n",
              "          (output): BertOutput(\n",
              "            (dense): Linear(in_features=3072, out_features=768, bias=True)\n",
              "            (LayerNorm): LayerNorm((768,), eps=1e-12, elementwise_affine=True)\n",
              "            (dropout): Dropout(p=0.1, inplace=False)\n",
              "          )\n",
              "        )\n",
              "      )\n",
              "    )\n",
              "    (pooler): BertPooler(\n",
              "      (dense): Linear(in_features=768, out_features=768, bias=True)\n",
              "      (activation): Tanh()\n",
              "    )\n",
              "  )\n",
              "  (dropout): Dropout(p=0.1, inplace=False)\n",
              "  (classifier): Linear(in_features=768, out_features=2, bias=True)\n",
              ")"
            ]
          },
          "metadata": {
            "tags": []
          },
          "execution_count": 26
        }
      ]
    },
    {
      "cell_type": "markdown",
      "metadata": {
        "id": "l8TCEwLELypy"
      },
      "source": [
        "###*`7.2 Optimizers and Learning Rate Scheduler`*\n",
        "\n",
        "Now that we have our model loaded we need to grab the training hyperparamters from within the stored model.\n",
        "\n",
        "For the purpose of fine-tuning, the authors have recommended choosing from the following values:\n",
        "- Batch size: 16, 32 (we chose 32 when creating the dataloader)\n",
        "- Learning Rate (Adam): 5e-5, 3e-5, 2e-5 (we'll use 2e-5)\n",
        "- Number of Epochs: 2, 3, 4 (we'll use 4)\n",
        "\n",
        "\n"
      ]
    },
    {
      "cell_type": "code",
      "metadata": {
        "id": "bVaLetO9Ba4A"
      },
      "source": [
        "# Note: AdamW is a class from huggingface library (as opposed to pytorch).\n",
        "# I believe the 'W' stands for weight decay fix.\n",
        "\n",
        "optimizer = AdamW(model.parameters(), \n",
        "                  lr = 2e-5,\n",
        "                  eps = 1e-8)"
      ],
      "execution_count": null,
      "outputs": []
    },
    {
      "cell_type": "code",
      "metadata": {
        "id": "JDLVeq86BbDR"
      },
      "source": [
        "from transformers import get_linear_schedule_with_warmup\n",
        "\n",
        "epochs = 4\n",
        "\n",
        "total_steps = len(train_dataloader) * epochs\n",
        "\n",
        "# Create the learning rate scheduler.\n",
        "scheduler = get_linear_schedule_with_warmup(optimizer,\n",
        "                                            num_warmup_steps = 0,\n",
        "                                            num_training_steps = total_steps)"
      ],
      "execution_count": null,
      "outputs": []
    },
    {
      "cell_type": "markdown",
      "metadata": {
        "id": "QVw6U0JFOrkQ"
      },
      "source": [
        "###*`7.3 Training Loop`*\n",
        "\n",
        "Define a helper function for calculating accuracy."
      ]
    },
    {
      "cell_type": "code",
      "metadata": {
        "id": "tQ9mKsVIBbF5"
      },
      "source": [
        "def flat_accuracy(preds, labels):\n",
        "  pred_flat = np.argmax(preds, axis=1).flatten()\n",
        "  labels_flat = labels.flatten()\n",
        "  return np.sum(pred_flat == labels_flat) / len(labels_flat) "
      ],
      "execution_count": null,
      "outputs": []
    },
    {
      "cell_type": "markdown",
      "metadata": {
        "id": "cmhQihnLPRaa"
      },
      "source": [
        "Define a helper function for formatting elapsed time."
      ]
    },
    {
      "cell_type": "code",
      "metadata": {
        "id": "FhtMInBJOqcv"
      },
      "source": [
        "import time \n",
        "import datetime\n",
        "\n",
        "def format_time(elapsed):\n",
        "  elapsed_rounded = int(round((elapsed)))\n",
        "\n",
        "  return str(datetime.timedelta(seconds=elapsed_rounded))"
      ],
      "execution_count": null,
      "outputs": []
    },
    {
      "cell_type": "markdown",
      "metadata": {
        "id": "BYU48koVP0u4"
      },
      "source": [
        "We are ready to kickstart the training!!!!"
      ]
    },
    {
      "cell_type": "code",
      "metadata": {
        "id": "Bn6zVK76Ba-g",
        "outputId": "5996bf39-7028-4c98-af42-86721c2984e0",
        "colab": {
          "base_uri": "https://localhost:8080/",
          "height": 1000
        }
      },
      "source": [
        "import random\n",
        "\n",
        "# Set the seed value all over the place to make it reproducible.\n",
        "seed_val = 42\n",
        "random.seed(seed_val)\n",
        "np.random.seed(seed_val)\n",
        "torch.manual_seed(seed_val)\n",
        "torch.cuda.manual_seed_all(seed_val)\n",
        "\n",
        "# Store average loss after each epoch so we can plot them.\n",
        "loss_values = []\n",
        "\n",
        "# For each epoch...\n",
        "for epoch_i in range(0, epochs):\n",
        "\n",
        "  print(\"\")\n",
        "  print('========== EPOCH {:} / {:} =========='.format(epoch_i + 1, epochs))\n",
        "  print('Training.....')\n",
        "\n",
        "  #Measure how long the training epoch took.\n",
        "  t0 = time.time() \n",
        "\n",
        "  #Reset the total loss for this epoch.\n",
        "  total_loss = 0\n",
        "  \n",
        "  #Dont be mislead the train cll just changes the mode.\n",
        "  model.train()\n",
        "\n",
        "  for step, batch in enumerate(train_dataloader):\n",
        "\n",
        "    if step%100 == 0 and not step ==0:\n",
        "      elapsed = format_time(time.time() - t0)\n",
        "\n",
        "      print('  Batch {:>5,} of {:>5,}  Elasped : {:}.'.format(step, len(train_dataloader), elapsed))\n",
        "\n",
        "    # Unpack this training batch from our dataloader.\n",
        "    # As we unpack the batch, we'll also copy each copy to the GPU using the \n",
        "    # .to methdod.\n",
        "\n",
        "    # Batch contains three pytorch tensors:\n",
        "    # [0]: input_ids\n",
        "    # [1]: attention_masks\n",
        "    # [2]: labels\n",
        "    b_input_ids = batch[0].to(device)\n",
        "    b_input_mask = batch[1].to(device)\n",
        "    b_labels = batch[2].to(device)\n",
        "\n",
        "    # Always clear any previously calculated gradients before performing a\n",
        "    # backward pass. Pytorch doesn't do this automatically because\n",
        "    # accumilating the gradients is \"convenient while training RNNs\"\n",
        "\n",
        "    model.zero_grad() \n",
        "\n",
        "    # perform a forward pass (evaluate the model on this training batch).\n",
        "    # This will return the loss (rather than model output) because we have \n",
        "    # provided the labels.\n",
        "\n",
        "    outputs = model(b_input_ids,\n",
        "                      token_type_ids=None,\n",
        "                      attention_mask=b_input_mask,\n",
        "                      labels = b_labels)  \n",
        "      \n",
        "    #The call to 'model' always returns a tuple, so we need to pull the loss \n",
        "    # value out of the tuple.\n",
        "\n",
        "    loss = outputs[0]\n",
        "\n",
        "    # Accumulate the training loss over all of the batches so that we can \n",
        "    # calculate the average loss at the end. 'Loss' is a tensor containing a\n",
        "    # single value; the '.item()' function just returns the python value\n",
        "    # from the tensor.\n",
        "\n",
        "    total_loss += loss.item()\n",
        "\n",
        "    # perform a backward pass to calculate the gradients.\n",
        "    loss.backward() \n",
        "\n",
        "    # clip the norm of the gradients to 1.0.\n",
        "    # this is to help prevent the 'exploding gradient' problem.\n",
        "\n",
        "    torch.nn.utils.clip_grad_norm_(model.parameters(), 1.0)\n",
        "\n",
        "    # Update parameters and take a step using the computed gradient.\n",
        "    # The optimizer dictates the 'update rule' -- how the parameters\n",
        "    # are modified based on their gradients, the learning rate, etc.\n",
        "    optimizer.step()\n",
        "\n",
        "    #update learning rate.\n",
        "    scheduler.step()\n",
        "\n",
        "  # calculate the average loss over the training data.\n",
        "  avg_train_loss = total_loss/ len(train_dataloader)\n",
        "\n",
        "  # store the loss values for plotting the learning curve.\n",
        "  loss_values.append(avg_train_loss)\n",
        "\n",
        "  print(\"\")\n",
        "  print(\"  Average training loss: {0:.2f}\".format(avg_train_loss))\n",
        "  print(\"  Training Epoch took: {:}\".format(format_time(time.time() - t0)))\n",
        "\n",
        "  # =====================================\n",
        "  #             Validation\n",
        "  # =====================================\n",
        "  # After the completion of each training epoch, measure our performance on\n",
        "  # our validation set.\n",
        "\n",
        "\n",
        "  print(\"\")\n",
        "  print(\"Running Validation.....\")\n",
        "\n",
        "  #Measure how long the validation epoch took.\n",
        "  t0 = time.time()\n",
        "\n",
        "  # Putting the model in evaluation mode --dropout layers behave differntly \n",
        "  #during evaluation.\n",
        "  model.eval()\n",
        "\n",
        "  # Tracking variables.\n",
        "  eval_loss, eval_accuracy = 0, 0\n",
        "  nb_eval_steps, nb_eval_examples = 0, 0\n",
        "\n",
        "  # Evaluate data for one epoch.\n",
        "  for batch in validation_dataloader:\n",
        "\n",
        "    #Add batch to GPU.\n",
        "    batch = tuple(t.to(device) for t in batch)\n",
        "\n",
        "    #unpack the inputs from our dataloader.\n",
        "    b_input_ids, b_input_mask, b_labels = batch\n",
        "    \n",
        "    #telling the model not to compute or store gradients, saving memory and\n",
        "    # speeding up validation.\n",
        "    with torch.no_grad():\n",
        "      # Forward pass, calculate logit predictions.\n",
        "      # This will return the logits rather than loss because we have not\n",
        "      # provided the labels.\n",
        "      # token_type_ids is same as the \"segment ids\", which differntiates\n",
        "      # sentence 1 and sentence 2 in 2-sentance tasks.\n",
        "      outputs = model(b_input_ids,\n",
        "                      token_type_ids=None,\n",
        "                      attention_mask=b_input_mask)\n",
        "      \n",
        "    # Get the 'logits' output from the model. The logits are the output values\n",
        "    # prior to applying an activation function like the softmax.\n",
        "    logits = outputs[0]\n",
        "\n",
        "    #Move logits and labels to CPU.\n",
        "    logits = logits.detach().cpu().numpy()\n",
        "    label_ids = b_labels.to('cpu').numpy()\n",
        "\n",
        "    #Calculate the accuracy for this batch of test sentences.\n",
        "    tmp_eval_accuracy = flat_accuracy(logits, label_ids)\n",
        "    \n",
        "    # Accumulate the total accuracy.\n",
        "    eval_accuracy += tmp_eval_accuracy\n",
        "\n",
        "    # Track the number of batches.\n",
        "    nb_eval_steps += 1\n",
        "\n",
        "  # Report the final accuracy for this validation run.\n",
        "  print(\" Accuracy: {0:.2f}\".format(eval_accuracy/nb_eval_steps))\n",
        "  print(\" validation took: {:}\".format(format_time(time.time() - t0))) \n",
        "\n",
        "print(\"\")\n",
        "print(\"Training Completed!\")"
      ],
      "execution_count": null,
      "outputs": [
        {
          "output_type": "stream",
          "text": [
            "\n",
            "========== EPOCH 1 / 4 ==========\n",
            "Training.....\n",
            "  Batch   100 of   844  Elasped : 0:01:04.\n",
            "  Batch   200 of   844  Elasped : 0:02:09.\n",
            "  Batch   300 of   844  Elasped : 0:03:16.\n",
            "  Batch   400 of   844  Elasped : 0:04:24.\n",
            "  Batch   500 of   844  Elasped : 0:05:32.\n",
            "  Batch   600 of   844  Elasped : 0:06:41.\n",
            "  Batch   700 of   844  Elasped : 0:07:49.\n",
            "  Batch   800 of   844  Elasped : 0:08:58.\n",
            "\n",
            "  Average training loss: 0.16\n",
            "  Training Epoch took: 0:09:28\n",
            "\n",
            "Running Validation.....\n",
            " Accuracy: 0.95\n",
            " validation took: 0:00:23\n",
            "\n",
            "========== EPOCH 2 / 4 ==========\n",
            "Training.....\n",
            "  Batch   100 of   844  Elasped : 0:01:09.\n",
            "  Batch   200 of   844  Elasped : 0:02:18.\n",
            "  Batch   300 of   844  Elasped : 0:03:27.\n",
            "  Batch   400 of   844  Elasped : 0:04:36.\n",
            "  Batch   500 of   844  Elasped : 0:05:44.\n",
            "  Batch   600 of   844  Elasped : 0:06:53.\n",
            "  Batch   700 of   844  Elasped : 0:08:02.\n",
            "  Batch   800 of   844  Elasped : 0:09:11.\n",
            "\n",
            "  Average training loss: 0.10\n",
            "  Training Epoch took: 0:09:41\n",
            "\n",
            "Running Validation.....\n",
            " Accuracy: 0.95\n",
            " validation took: 0:00:23\n",
            "\n",
            "========== EPOCH 3 / 4 ==========\n",
            "Training.....\n",
            "  Batch   100 of   844  Elasped : 0:01:09.\n",
            "  Batch   200 of   844  Elasped : 0:02:18.\n",
            "  Batch   300 of   844  Elasped : 0:03:26.\n",
            "  Batch   400 of   844  Elasped : 0:04:35.\n",
            "  Batch   500 of   844  Elasped : 0:05:44.\n",
            "  Batch   600 of   844  Elasped : 0:06:53.\n",
            "  Batch   700 of   844  Elasped : 0:08:02.\n",
            "  Batch   800 of   844  Elasped : 0:09:11.\n",
            "\n",
            "  Average training loss: 0.06\n",
            "  Training Epoch took: 0:09:41\n",
            "\n",
            "Running Validation.....\n",
            " Accuracy: 0.95\n",
            " validation took: 0:00:23\n",
            "\n",
            "========== EPOCH 4 / 4 ==========\n",
            "Training.....\n",
            "  Batch   100 of   844  Elasped : 0:01:09.\n",
            "  Batch   200 of   844  Elasped : 0:02:18.\n",
            "  Batch   300 of   844  Elasped : 0:03:26.\n",
            "  Batch   400 of   844  Elasped : 0:04:35.\n",
            "  Batch   500 of   844  Elasped : 0:05:44.\n",
            "  Batch   600 of   844  Elasped : 0:06:53.\n",
            "  Batch   700 of   844  Elasped : 0:08:02.\n",
            "  Batch   800 of   844  Elasped : 0:09:10.\n",
            "\n",
            "  Average training loss: 0.04\n",
            "  Training Epoch took: 0:09:41\n",
            "\n",
            "Running Validation.....\n",
            " Accuracy: 0.95\n",
            " validation took: 0:00:23\n",
            "\n",
            "Training Completed!\n"
          ],
          "name": "stdout"
        }
      ]
    },
    {
      "cell_type": "markdown",
      "metadata": {
        "id": "-iqmRInzeuTI"
      },
      "source": [
        "Let's take a look at our training loss over all batches."
      ]
    },
    {
      "cell_type": "code",
      "metadata": {
        "id": "QeHYMedbBRNA",
        "outputId": "9541ab76-674b-4807-acf8-c379bcdb0d4a",
        "colab": {
          "base_uri": "https://localhost:8080/",
          "height": 372
        }
      },
      "source": [
        "import matplotlib.pyplot as plt\n",
        "%matplotlib inline\n",
        "import seaborn as sns\n",
        "\n",
        "sns.set(style='darkgrid')  \n",
        "\n",
        "# Increase the plot size and font size.\n",
        "sns.set(font_scale=1.5)\n",
        "plt.rcParams[\"figure.figsize\"] = (10, 5)\n",
        "\n",
        "# Plot the learning curve.\n",
        "plt.plot(loss_values, 'b-o')\n",
        "\n",
        "#Label the plot.\n",
        "plt.title(\"Training Loss\")\n",
        "plt.xlabel(\"Epoch\")\n",
        "plt.ylabel(\"Loss\");"
      ],
      "execution_count": null,
      "outputs": [
        {
          "output_type": "display_data",
          "data": {
            "image/png": "[encoded data removed]",
            "text/plain": [
              "<Figure size 720x360 with 1 Axes>"
            ]
          },
          "metadata": {
            "tags": []
          }
        }
      ]
    }
  ]
}