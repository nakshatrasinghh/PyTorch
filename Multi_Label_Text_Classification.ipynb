{
  "nbformat": 4,
  "nbformat_minor": 0,
  "metadata": {
    "colab": {
      "name": "Multi-Label Text Classification.ipynb",
      "provenance": [],
      "collapsed_sections": []
    },
    "kernelspec": {
      "name": "python3",
      "display_name": "Python 3"
    }
  },
  "cells": [
    {
      "cell_type": "markdown",
      "metadata": {
        "id": "yfq-nJ8XcoHu"
      },
      "source": [
        "# ***StackOverFlow Tag Predicton***\n",
        "By Nakshatra Singh "
      ]
    },
    {
      "cell_type": "markdown",
      "metadata": {
        "id": "vatugolme0ZT"
      },
      "source": [
        "This notebook is an illustration to predict stackoverflow tags present in textual data."
      ]
    },
    {
      "cell_type": "markdown",
      "metadata": {
        "id": "qhDa3ewZ815Z"
      },
      "source": [
        "###**1. Retrieve, Inspect and Preprocess Dataset** \n",
        "\n",
        "Let's download the dataset which is uploaded on my google drive. This dataset is a preprocessed version of the following [dataset](https://www.kaggle.com/stackoverflow/stacksample). I have preprocessed the body column with their respective tags and made the dataset a little small so we can run it on any laptop without investing much time."
      ]
    },
    {
      "cell_type": "code",
      "metadata": {
        "id": "c3lS4dtUv6l7",
        "outputId": "38bfad8d-f8ee-490d-b6f8-7fdaf4659e3a",
        "colab": {
          "base_uri": "https://localhost:8080/",
          "height": 86
        }
      },
      "source": [
        "!gdown --id 1d_ZMfvXA4thwEJEnd3vttIQX5bekU-9z "
      ],
      "execution_count": 1,
      "outputs": [
        {
          "output_type": "stream",
          "text": [
            "Downloading...\n",
            "From: https://drive.google.com/uc?id=1d_ZMfvXA4thwEJEnd3vttIQX5bekU-9z\n",
            "To: /content/stackoverflow.csv\n",
            "47.0MB [00:00, 177MB/s]\n"
          ],
          "name": "stdout"
        }
      ]
    },
    {
      "cell_type": "markdown",
      "metadata": {
        "id": "WeENnJ6Y9zZo"
      },
      "source": [
        "We'll use `pandas` to parse the csv files.   "
      ]
    },
    {
      "cell_type": "code",
      "metadata": {
        "id": "jqI3hc_g0E7R"
      },
      "source": [
        "import pandas as pd\n",
        "df = pd.read_csv('/content/stackoverflow.csv', index_col=0)"
      ],
      "execution_count": 2,
      "outputs": []
    },
    {
      "cell_type": "markdown",
      "metadata": {
        "id": "5RUIKMUK939w"
      },
      "source": [
        "Let's take a look at the first few rows of the table just to see what's in there.   "
      ]
    },
    {
      "cell_type": "code",
      "metadata": {
        "id": "-pbibJa20bJo",
        "outputId": "898d42ab-e031-422b-e3a2-0e9441cba6c0",
        "colab": {
          "base_uri": "https://localhost:8080/",
          "height": 201
        }
      },
      "source": [
        "df.head() "
      ],
      "execution_count": 3,
      "outputs": [
        {
          "output_type": "execute_result",
          "data": {
            "text/html": [
              "<div>\n",
              "<style scoped>\n",
              "    .dataframe tbody tr th:only-of-type {\n",
              "        vertical-align: middle;\n",
              "    }\n",
              "\n",
              "    .dataframe tbody tr th {\n",
              "        vertical-align: top;\n",
              "    }\n",
              "\n",
              "    .dataframe thead th {\n",
              "        text-align: right;\n",
              "    }\n",
              "</style>\n",
              "<table border=\"1\" class=\"dataframe\">\n",
              "  <thead>\n",
              "    <tr style=\"text-align: right;\">\n",
              "      <th></th>\n",
              "      <th>Text</th>\n",
              "      <th>Tags</th>\n",
              "    </tr>\n",
              "  </thead>\n",
              "  <tbody>\n",
              "    <tr>\n",
              "      <th>2</th>\n",
              "      <td>aspnet site maps has anyone got experience cre...</td>\n",
              "      <td>['sql', 'asp.net']</td>\n",
              "    </tr>\n",
              "    <tr>\n",
              "      <th>4</th>\n",
              "      <td>adding scripting functionality to net applicat...</td>\n",
              "      <td>['c#', '.net']</td>\n",
              "    </tr>\n",
              "    <tr>\n",
              "      <th>5</th>\n",
              "      <td>should i use nested classes in this case i am ...</td>\n",
              "      <td>['c++']</td>\n",
              "    </tr>\n",
              "    <tr>\n",
              "      <th>6</th>\n",
              "      <td>homegrown consumption of web services i have b...</td>\n",
              "      <td>['.net']</td>\n",
              "    </tr>\n",
              "    <tr>\n",
              "      <th>8</th>\n",
              "      <td>automatically update version number i would li...</td>\n",
              "      <td>['c#']</td>\n",
              "    </tr>\n",
              "  </tbody>\n",
              "</table>\n",
              "</div>"
            ],
            "text/plain": [
              "                                                Text                Tags\n",
              "2  aspnet site maps has anyone got experience cre...  ['sql', 'asp.net']\n",
              "4  adding scripting functionality to net applicat...      ['c#', '.net']\n",
              "5  should i use nested classes in this case i am ...             ['c++']\n",
              "6  homegrown consumption of web services i have b...            ['.net']\n",
              "8  automatically update version number i would li...              ['c#']"
            ]
          },
          "metadata": {
            "tags": []
          },
          "execution_count": 3
        }
      ]
    },
    {
      "cell_type": "markdown",
      "metadata": {
        "id": "wvDiNSX-BJKT"
      },
      "source": [
        "What is the dtype of the label column?"
      ]
    },
    {
      "cell_type": "code",
      "metadata": {
        "id": "kmg1V2Kq0xAj",
        "outputId": "b5ab2d1f-ad0b-4316-af04-060f60ca1542",
        "colab": {
          "base_uri": "https://localhost:8080/",
          "height": 35
        }
      },
      "source": [
        "df['Tags'].iloc[0]"
      ],
      "execution_count": 4,
      "outputs": [
        {
          "output_type": "execute_result",
          "data": {
            "application/vnd.google.colaboratory.intrinsic+json": {
              "type": "string"
            },
            "text/plain": [
              "\"['sql', 'asp.net']\""
            ]
          },
          "metadata": {
            "tags": []
          },
          "execution_count": 4
        }
      ]
    },
    {
      "cell_type": "markdown",
      "metadata": {
        "id": "ncW_cYU_BTrX"
      },
      "source": [
        "As we notice in the output, the tags column is stored as a string. We want it to be a list. So we'll use *literal_eval*  function present in Abstract Syntax Trees (ast)."
      ]
    },
    {
      "cell_type": "code",
      "metadata": {
        "id": "YQr8II160bzq",
        "outputId": "89fb3746-49d7-4d1a-d2dc-b4f11b84ecb5",
        "colab": {
          "base_uri": "https://localhost:8080/",
          "height": 34
        }
      },
      "source": [
        "import ast\n",
        "\n",
        "ast.literal_eval(df['Tags'].iloc[0]) "
      ],
      "execution_count": 5,
      "outputs": [
        {
          "output_type": "execute_result",
          "data": {
            "text/plain": [
              "['sql', 'asp.net']"
            ]
          },
          "metadata": {
            "tags": []
          },
          "execution_count": 5
        }
      ]
    },
    {
      "cell_type": "markdown",
      "metadata": {
        "id": "neiVQoITCAKy"
      },
      "source": [
        "As we can see we converted the Tags column to a list. We did it for the first data-point, we'll do it for the entire column now."
      ]
    },
    {
      "cell_type": "code",
      "metadata": {
        "id": "M7tqB14K03vN"
      },
      "source": [
        "df['Tags'] = df['Tags'].apply(lambda x: ast.literal_eval(x)) "
      ],
      "execution_count": 6,
      "outputs": []
    },
    {
      "cell_type": "markdown",
      "metadata": {
        "id": "fdaa8KPaCV46"
      },
      "source": [
        "Let's have a look at the Tags column and see if it's converted to a list."
      ]
    },
    {
      "cell_type": "code",
      "metadata": {
        "id": "wxR-TWo51FYO",
        "outputId": "ffb5529c-6089-4b61-b9dd-278bd7f39651",
        "colab": {
          "base_uri": "https://localhost:8080/",
          "height": 201
        }
      },
      "source": [
        "df.head() "
      ],
      "execution_count": 7,
      "outputs": [
        {
          "output_type": "execute_result",
          "data": {
            "text/html": [
              "<div>\n",
              "<style scoped>\n",
              "    .dataframe tbody tr th:only-of-type {\n",
              "        vertical-align: middle;\n",
              "    }\n",
              "\n",
              "    .dataframe tbody tr th {\n",
              "        vertical-align: top;\n",
              "    }\n",
              "\n",
              "    .dataframe thead th {\n",
              "        text-align: right;\n",
              "    }\n",
              "</style>\n",
              "<table border=\"1\" class=\"dataframe\">\n",
              "  <thead>\n",
              "    <tr style=\"text-align: right;\">\n",
              "      <th></th>\n",
              "      <th>Text</th>\n",
              "      <th>Tags</th>\n",
              "    </tr>\n",
              "  </thead>\n",
              "  <tbody>\n",
              "    <tr>\n",
              "      <th>2</th>\n",
              "      <td>aspnet site maps has anyone got experience cre...</td>\n",
              "      <td>[sql, asp.net]</td>\n",
              "    </tr>\n",
              "    <tr>\n",
              "      <th>4</th>\n",
              "      <td>adding scripting functionality to net applicat...</td>\n",
              "      <td>[c#, .net]</td>\n",
              "    </tr>\n",
              "    <tr>\n",
              "      <th>5</th>\n",
              "      <td>should i use nested classes in this case i am ...</td>\n",
              "      <td>[c++]</td>\n",
              "    </tr>\n",
              "    <tr>\n",
              "      <th>6</th>\n",
              "      <td>homegrown consumption of web services i have b...</td>\n",
              "      <td>[.net]</td>\n",
              "    </tr>\n",
              "    <tr>\n",
              "      <th>8</th>\n",
              "      <td>automatically update version number i would li...</td>\n",
              "      <td>[c#]</td>\n",
              "    </tr>\n",
              "  </tbody>\n",
              "</table>\n",
              "</div>"
            ],
            "text/plain": [
              "                                                Text            Tags\n",
              "2  aspnet site maps has anyone got experience cre...  [sql, asp.net]\n",
              "4  adding scripting functionality to net applicat...      [c#, .net]\n",
              "5  should i use nested classes in this case i am ...           [c++]\n",
              "6  homegrown consumption of web services i have b...          [.net]\n",
              "8  automatically update version number i would li...            [c#]"
            ]
          },
          "metadata": {
            "tags": []
          },
          "execution_count": 7
        }
      ]
    },
    {
      "cell_type": "markdown",
      "metadata": {
        "id": "vSKCiJA8Coor"
      },
      "source": [
        "Now, we'll setup our training variables."
      ]
    },
    {
      "cell_type": "code",
      "metadata": {
        "id": "WE5gpfJp2RS6",
        "outputId": "87ceafb7-6850-4c2a-c237-ffa69e4d6a7b",
        "colab": {
          "base_uri": "https://localhost:8080/",
          "height": 225
        }
      },
      "source": [
        "y = df[\"Tags\"] # Target feature \n",
        "print(y)"
      ],
      "execution_count": 8,
      "outputs": [
        {
          "output_type": "stream",
          "text": [
            "2          [sql, asp.net]\n",
            "4              [c#, .net]\n",
            "5                   [c++]\n",
            "6                  [.net]\n",
            "8                    [c#]\n",
            "                ...      \n",
            "1262668             [c++]\n",
            "1262834             [c++]\n",
            "1262915          [python]\n",
            "1263065          [python]\n",
            "1263454             [c++]\n",
            "Name: Tags, Length: 48976, dtype: object\n"
          ],
          "name": "stdout"
        }
      ]
    },
    {
      "cell_type": "markdown",
      "metadata": {
        "id": "MS-QMdSLC8d-"
      },
      "source": [
        "We'll use sklearns' *MultiLabelBinarizer* to one-hot encode our multi-label target variables to integers."
      ]
    },
    {
      "cell_type": "code",
      "metadata": {
        "id": "j7hpu5Hs2S4a",
        "outputId": "b9e62dde-3d83-4e17-84ce-6bb99ac8ce35",
        "colab": {
          "base_uri": "https://localhost:8080/",
          "height": 138
        }
      },
      "source": [
        "from sklearn.preprocessing import MultiLabelBinarizer\n",
        "\n",
        "multi_label = MultiLabelBinarizer()    # Calling the Binarizer\n",
        "y = multi_label.fit_transform(df['Tags'])    # Encode the whole Tags column \n",
        "print(y)"
      ],
      "execution_count": 9,
      "outputs": [
        {
          "output_type": "stream",
          "text": [
            "[[0 0 1 ... 0 0 1]\n",
            " [1 0 0 ... 0 0 0]\n",
            " [0 0 0 ... 0 0 0]\n",
            " ...\n",
            " [0 0 0 ... 0 0 0]\n",
            " [0 0 0 ... 0 0 0]\n",
            " [0 0 0 ... 0 0 0]]\n"
          ],
          "name": "stdout"
        }
      ]
    },
    {
      "cell_type": "markdown",
      "metadata": {
        "id": "QHteduYvFIQa"
      },
      "source": [
        "Let's look at the top 20 frequently occuring tags appearing in the target column."
      ]
    },
    {
      "cell_type": "code",
      "metadata": {
        "id": "37jozoRz2Szb",
        "outputId": "42021a0e-ec9d-4686-b67d-361fdf013d2b",
        "colab": {
          "base_uri": "https://localhost:8080/",
          "height": 86
        }
      },
      "source": [
        "multi_label.classes_"
      ],
      "execution_count": 10,
      "outputs": [
        {
          "output_type": "execute_result",
          "data": {
            "text/plain": [
              "array(['.net', 'android', 'asp.net', 'c', 'c#', 'c++', 'css', 'html',\n",
              "       'ios', 'iphone', 'java', 'javascript', 'jquery', 'mysql',\n",
              "       'objective-c', 'php', 'python', 'ruby', 'ruby-on-rails', 'sql'],\n",
              "      dtype=object)"
            ]
          },
          "metadata": {
            "tags": []
          },
          "execution_count": 10
        }
      ]
    },
    {
      "cell_type": "markdown",
      "metadata": {
        "id": "cmp8ag9TFR5N"
      },
      "source": [
        "We'll see it in a dataframe to get a fair idea of how the encoded arrays are distributed."
      ]
    },
    {
      "cell_type": "code",
      "metadata": {
        "id": "YV84kiWa2Svz",
        "outputId": "5c53c4ff-bf2d-48c3-eecb-361326e88e43",
        "colab": {
          "base_uri": "https://localhost:8080/",
          "height": 219
        }
      },
      "source": [
        "pd.DataFrame(y, columns=multi_label.classes_).head()"
      ],
      "execution_count": 11,
      "outputs": [
        {
          "output_type": "execute_result",
          "data": {
            "text/html": [
              "<div>\n",
              "<style scoped>\n",
              "    .dataframe tbody tr th:only-of-type {\n",
              "        vertical-align: middle;\n",
              "    }\n",
              "\n",
              "    .dataframe tbody tr th {\n",
              "        vertical-align: top;\n",
              "    }\n",
              "\n",
              "    .dataframe thead th {\n",
              "        text-align: right;\n",
              "    }\n",
              "</style>\n",
              "<table border=\"1\" class=\"dataframe\">\n",
              "  <thead>\n",
              "    <tr style=\"text-align: right;\">\n",
              "      <th></th>\n",
              "      <th>.net</th>\n",
              "      <th>android</th>\n",
              "      <th>asp.net</th>\n",
              "      <th>c</th>\n",
              "      <th>c#</th>\n",
              "      <th>c++</th>\n",
              "      <th>css</th>\n",
              "      <th>html</th>\n",
              "      <th>ios</th>\n",
              "      <th>iphone</th>\n",
              "      <th>java</th>\n",
              "      <th>javascript</th>\n",
              "      <th>jquery</th>\n",
              "      <th>mysql</th>\n",
              "      <th>objective-c</th>\n",
              "      <th>php</th>\n",
              "      <th>python</th>\n",
              "      <th>ruby</th>\n",
              "      <th>ruby-on-rails</th>\n",
              "      <th>sql</th>\n",
              "    </tr>\n",
              "  </thead>\n",
              "  <tbody>\n",
              "    <tr>\n",
              "      <th>0</th>\n",
              "      <td>0</td>\n",
              "      <td>0</td>\n",
              "      <td>1</td>\n",
              "      <td>0</td>\n",
              "      <td>0</td>\n",
              "      <td>0</td>\n",
              "      <td>0</td>\n",
              "      <td>0</td>\n",
              "      <td>0</td>\n",
              "      <td>0</td>\n",
              "      <td>0</td>\n",
              "      <td>0</td>\n",
              "      <td>0</td>\n",
              "      <td>0</td>\n",
              "      <td>0</td>\n",
              "      <td>0</td>\n",
              "      <td>0</td>\n",
              "      <td>0</td>\n",
              "      <td>0</td>\n",
              "      <td>1</td>\n",
              "    </tr>\n",
              "    <tr>\n",
              "      <th>1</th>\n",
              "      <td>1</td>\n",
              "      <td>0</td>\n",
              "      <td>0</td>\n",
              "      <td>0</td>\n",
              "      <td>1</td>\n",
              "      <td>0</td>\n",
              "      <td>0</td>\n",
              "      <td>0</td>\n",
              "      <td>0</td>\n",
              "      <td>0</td>\n",
              "      <td>0</td>\n",
              "      <td>0</td>\n",
              "      <td>0</td>\n",
              "      <td>0</td>\n",
              "      <td>0</td>\n",
              "      <td>0</td>\n",
              "      <td>0</td>\n",
              "      <td>0</td>\n",
              "      <td>0</td>\n",
              "      <td>0</td>\n",
              "    </tr>\n",
              "    <tr>\n",
              "      <th>2</th>\n",
              "      <td>0</td>\n",
              "      <td>0</td>\n",
              "      <td>0</td>\n",
              "      <td>0</td>\n",
              "      <td>0</td>\n",
              "      <td>1</td>\n",
              "      <td>0</td>\n",
              "      <td>0</td>\n",
              "      <td>0</td>\n",
              "      <td>0</td>\n",
              "      <td>0</td>\n",
              "      <td>0</td>\n",
              "      <td>0</td>\n",
              "      <td>0</td>\n",
              "      <td>0</td>\n",
              "      <td>0</td>\n",
              "      <td>0</td>\n",
              "      <td>0</td>\n",
              "      <td>0</td>\n",
              "      <td>0</td>\n",
              "    </tr>\n",
              "    <tr>\n",
              "      <th>3</th>\n",
              "      <td>1</td>\n",
              "      <td>0</td>\n",
              "      <td>0</td>\n",
              "      <td>0</td>\n",
              "      <td>0</td>\n",
              "      <td>0</td>\n",
              "      <td>0</td>\n",
              "      <td>0</td>\n",
              "      <td>0</td>\n",
              "      <td>0</td>\n",
              "      <td>0</td>\n",
              "      <td>0</td>\n",
              "      <td>0</td>\n",
              "      <td>0</td>\n",
              "      <td>0</td>\n",
              "      <td>0</td>\n",
              "      <td>0</td>\n",
              "      <td>0</td>\n",
              "      <td>0</td>\n",
              "      <td>0</td>\n",
              "    </tr>\n",
              "    <tr>\n",
              "      <th>4</th>\n",
              "      <td>0</td>\n",
              "      <td>0</td>\n",
              "      <td>0</td>\n",
              "      <td>0</td>\n",
              "      <td>1</td>\n",
              "      <td>0</td>\n",
              "      <td>0</td>\n",
              "      <td>0</td>\n",
              "      <td>0</td>\n",
              "      <td>0</td>\n",
              "      <td>0</td>\n",
              "      <td>0</td>\n",
              "      <td>0</td>\n",
              "      <td>0</td>\n",
              "      <td>0</td>\n",
              "      <td>0</td>\n",
              "      <td>0</td>\n",
              "      <td>0</td>\n",
              "      <td>0</td>\n",
              "      <td>0</td>\n",
              "    </tr>\n",
              "  </tbody>\n",
              "</table>\n",
              "</div>"
            ],
            "text/plain": [
              "   .net  android  asp.net  c  c#  ...  php  python  ruby  ruby-on-rails  sql\n",
              "0     0        0        1  0   0  ...    0       0     0              0    1\n",
              "1     1        0        0  0   1  ...    0       0     0              0    0\n",
              "2     0        0        0  0   0  ...    0       0     0              0    0\n",
              "3     1        0        0  0   0  ...    0       0     0              0    0\n",
              "4     0        0        0  0   1  ...    0       0     0              0    0\n",
              "\n",
              "[5 rows x 20 columns]"
            ]
          },
          "metadata": {
            "tags": []
          },
          "execution_count": 11
        }
      ]
    },
    {
      "cell_type": "markdown",
      "metadata": {
        "id": "0ScivxmvI1rt"
      },
      "source": [
        "###**2. TFIDF Vectorizer**\n",
        "\n",
        "We'll form a feature matrix using TFIDF with *max features = 50000* ."
      ]
    },
    {
      "cell_type": "code",
      "metadata": {
        "id": "DElSRQuk50_F"
      },
      "source": [
        "from sklearn.feature_extraction.text import TfidfVectorizer\n",
        "\n",
        "tfidf = TfidfVectorizer(analyzer='word', ngram_range=(1,2), stop_words='english', max_features=50000) \n",
        "''' If max_features = None (default), the matrix size is roughly around 230K which is very huge \n",
        "    to train for a linear classifier like Logistic Regression. It would also crash the notebook \n",
        "    sometimes, so we'll use 50000 to build the model and save us time.\n",
        "'''\n",
        "X = tfidf.fit_transform(df['Text'])  \n",
        "# Applying it on entire text column."
      ],
      "execution_count": 12,
      "outputs": []
    },
    {
      "cell_type": "markdown",
      "metadata": {
        "id": "dKxlxL5dKRgt"
      },
      "source": [
        "Let's take a look at the training variable shapes."
      ]
    },
    {
      "cell_type": "code",
      "metadata": {
        "id": "LZpEGbkpNr-h",
        "outputId": "0e5e0d42-3b97-48be-f28e-ef731fbe4e87",
        "colab": {
          "base_uri": "https://localhost:8080/",
          "height": 34
        }
      },
      "source": [
        "X.shape, y.shape"
      ],
      "execution_count": 13,
      "outputs": [
        {
          "output_type": "execute_result",
          "data": {
            "text/plain": [
              "((48976, 50000), (48976, 20))"
            ]
          },
          "metadata": {
            "tags": []
          },
          "execution_count": 13
        }
      ]
    },
    {
      "cell_type": "markdown",
      "metadata": {
        "id": "fH99vhdDKzrZ"
      },
      "source": [
        "###**3. Train Test Split**\n",
        "\n",
        "Let's split our prepared variables to training and validation sets using *train_test_split*."
      ]
    },
    {
      "cell_type": "code",
      "metadata": {
        "id": "PLJ3Ku7rHK3f",
        "outputId": "3c7c0f94-0171-45b9-9dee-247b714f7d88",
        "colab": {
          "base_uri": "https://localhost:8080/",
          "height": 34
        }
      },
      "source": [
        "from sklearn.model_selection import train_test_split\n",
        "\n",
        "X_train, X_test, y_train, y_test = train_test_split(X, y, test_size=0.2, random_state=0) \n",
        "\n",
        "print(X_train.shape, X_test.shape, y_train.shape, y_test.shape)"
      ],
      "execution_count": 14,
      "outputs": [
        {
          "output_type": "stream",
          "text": [
            "(39180, 50000) (9796, 50000) (39180, 20) (9796, 20)\n"
          ],
          "name": "stdout"
        }
      ]
    },
    {
      "cell_type": "markdown",
      "metadata": {
        "id": "CdFJCVHmXm7e"
      },
      "source": [
        "###**4. Modelling**\n",
        "\n",
        "Multi-label classification problems must be assessed using different performance measures than single-label classification problems. Two of the most common performance metrics are hamming loss and Jaccard similarity. Hamming loss is the average fraction of incorrect labels. Note that hamming loss is a loss function and that the perfect score is 0. Jaccard similarity, or the Jaccard index, is the size of the intersection of the predicted labels and the true labels divided by the size of the union of the predicted and true labels. We'll be using Jaccard Score here."
      ]
    },
    {
      "cell_type": "code",
      "metadata": {
        "id": "hZMsOHe-qpi9"
      },
      "source": [
        "from sklearn.metrics import jaccard_score \n",
        "\n",
        "def j_score(y_true, y_pred):\n",
        "  ''' Helper Function to print classifier name and Jaccard Scare '''\n",
        "  return jaccard_score(y_test, y_pred, average='samples')\n",
        "\n",
        "def print_score(y_pred, clf):\n",
        "  print('clf:', clf.__class__.__name__)\n",
        "  print('Jaccard Score: {}'.format(j_score(y_test, y_pred))) \n",
        "  print('------------------------------')"
      ],
      "execution_count": 15,
      "outputs": []
    },
    {
      "cell_type": "markdown",
      "metadata": {
        "id": "CHYyAHFEa5b2"
      },
      "source": [
        "We'll use Logistic Regression with OneVsRestClassifier here. You surely try some other algorithms like LinearSVC, SGDClassifier and even Naive Bayes."
      ]
    },
    {
      "cell_type": "code",
      "metadata": {
        "id": "-fHxojj7HKts"
      },
      "source": [
        "from sklearn.linear_model import LogisticRegression\n",
        "''' max_iter =100000: The lbfgs solver can converge without reaching max limit of iterations\n",
        "    n_jobs=-1: Uses all cores for fast training\n",
        "'''\n",
        "lr = LogisticRegression(solver='lbfgs', max_iter=100000, C=1, n_jobs=-1) "
      ],
      "execution_count": 16,
      "outputs": []
    },
    {
      "cell_type": "code",
      "metadata": {
        "id": "y-SBoancC020",
        "outputId": "097670e2-8143-43ba-a061-17a7c36e4be4",
        "colab": {
          "base_uri": "https://localhost:8080/",
          "height": 69
        }
      },
      "source": [
        "from sklearn.multiclass import OneVsRestClassifier\n",
        "\n",
        "# Training the classifier with OneVsRest for Multilabel Classification\n",
        "clf = OneVsRestClassifier(lr)\n",
        "clf.fit(X_train, y_train)\n",
        "y_pred = clf.predict(X_test)\n",
        "print_score(y_pred, clf) "
      ],
      "execution_count": 17,
      "outputs": [
        {
          "output_type": "stream",
          "text": [
            "clf: OneVsRestClassifier\n",
            "Jaccard Score: 0.47421396488362605\n",
            "------------------------------\n"
          ],
          "name": "stdout"
        }
      ]
    },
    {
      "cell_type": "markdown",
      "metadata": {
        "id": "H6F8J_Hmb6Rt"
      },
      "source": [
        "###**5. Testing**\n",
        "\n",
        "Let's test the classifier on some real examples."
      ]
    },
    {
      "cell_type": "code",
      "metadata": {
        "id": "M0BHmkPOihH3",
        "outputId": "663464d4-5ecd-44a5-b6cd-78b7d30f2242",
        "colab": {
          "base_uri": "https://localhost:8080/",
          "height": 34
        }
      },
      "source": [
        "# Pass x in a list\n",
        "x = ['How do I use matplotlib']\n",
        "\n",
        "# TFIDF vectorize the list\n",
        "xt = tfidf.transform(x) \n",
        "\n",
        "# Predict using classifier predict\n",
        "clf.predict(xt) "
      ],
      "execution_count": 18,
      "outputs": [
        {
          "output_type": "execute_result",
          "data": {
            "text/plain": [
              "array([[0, 0, 0, 0, 0, 0, 0, 0, 0, 0, 0, 0, 0, 0, 0, 0, 1, 0, 0, 0]])"
            ]
          },
          "metadata": {
            "tags": []
          },
          "execution_count": 18
        }
      ]
    },
    {
      "cell_type": "markdown",
      "metadata": {
        "id": "7MpbCYFUcoL0"
      },
      "source": [
        "For a cleaner output, we'll inverse the predicted array value to its true label and print it out."
      ]
    },
    {
      "cell_type": "code",
      "metadata": {
        "id": "7TgcEk4FNp_0",
        "outputId": "82b36b82-8ce6-4308-8035-fcfa67abf5d7",
        "colab": {
          "base_uri": "https://localhost:8080/",
          "height": 34
        }
      },
      "source": [
        "multi_label.inverse_transform(clf.predict(xt)) "
      ],
      "execution_count": 19,
      "outputs": [
        {
          "output_type": "execute_result",
          "data": {
            "text/plain": [
              "[('python',)]"
            ]
          },
          "metadata": {
            "tags": []
          },
          "execution_count": 19
        }
      ]
    },
    {
      "cell_type": "markdown",
      "metadata": {
        "id": "5pNbMfUycvht"
      },
      "source": [
        "###**6.Conclusion**\n",
        "\n",
        "As you saw, the model is correctly predicting the tags. You surely can try some *other ML algorithms* also, they surely might be able to increase performance. You can also use GridSearchCV to find the best hyperparameters for the classifier you are using. In short, we learned how to train a classifier for multi-label datasets using OneVsRestClassifier.\n",
        "\n",
        "`NOTE:` The dataset has been altered to a small dimension so we dont invest more time in training and rather invest more time on understanding the fundamentals. To get state-of-art performance, we must use the whole dataset with optimized hyperparameters for this problem statement."
      ]
    }
  ]
}