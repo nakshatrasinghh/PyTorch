{
  "nbformat": 4,
  "nbformat_minor": 0,
  "metadata": {
    "colab": {
      "name": "Fake_News_Detection+RNN.ipynb",
      "provenance": [],
      "collapsed_sections": []
    },
    "kernelspec": {
      "name": "python3",
      "display_name": "Python 3"
    }
  },
  "cells": [
    {
      "cell_type": "markdown",
      "metadata": {
        "id": "h0bXdNA-6ZZh",
        "colab_type": "text"
      },
      "source": [
        "#`This notebook is an Illustration to create a simpleRNN Model which is used for Fake News Detection with Sklearn and NLTK using Python 🐍`\n",
        "\n",
        "For more information, check out [NLTk](https://www.nltk.org/).\n"
      ]
    },
    {
      "cell_type": "markdown",
      "metadata": {
        "id": "JYqYxEdW65xa",
        "colab_type": "text"
      },
      "source": [
        "## **Setup**\n",
        "Let's setup the imports and download the packages required:   "
      ]
    },
    {
      "cell_type": "code",
      "metadata": {
        "id": "n_gsbLm0wk1E",
        "colab_type": "code",
        "colab": {}
      },
      "source": [
        "import pandas as pd\n",
        "import numpy as np\n",
        "import matplotlib.pyplot as plt\n",
        "import seaborn as sns\n",
        "\n",
        "import nltk\n",
        "import re\n",
        "from nltk.stem import WordNetLemmatizer\n",
        "from nltk.corpus import stopwords\n",
        "\n",
        "import tensorflow as tf\n",
        "from tensorflow.keras.layers import Embedding\n",
        "from tensorflow.keras.preprocessing.sequence import pad_sequences\n",
        "from tensorflow.keras.models import Sequential\n",
        "from tensorflow.keras.preprocessing.text import one_hot\n",
        "from tensorflow.keras.layers import SimpleRNN\n",
        "from tensorflow.keras.layers import Dense, Dropout\n",
        "from keras.callbacks import LearningRateScheduler\n",
        "from tensorflow.keras import regularizers \n",
        "\n",
        "from sklearn.model_selection import train_test_split\n",
        "from sklearn.metrics import confusion_matrix\n",
        "from sklearn.metrics import accuracy_score\n",
        "from sklearn.metrics import classification_report\n",
        " \n",
        "\n"
      ],
      "execution_count": null,
      "outputs": []
    },
    {
      "cell_type": "code",
      "metadata": {
        "id": "jT-Jjjd1x9fO",
        "colab_type": "code",
        "colab": {
          "base_uri": "https://localhost:8080/",
          "height": 118
        },
        "outputId": "58dcb84a-3f61-4bf0-b996-6cabe30f1033"
      },
      "source": [
        "nltk.download('stopwords') \n",
        "nltk.download('stem') \n",
        "nltk.download('wordnet')  "
      ],
      "execution_count": 2,
      "outputs": [
        {
          "output_type": "stream",
          "text": [
            "[nltk_data] Downloading package stopwords to /root/nltk_data...\n",
            "[nltk_data]   Package stopwords is already up-to-date!\n",
            "[nltk_data] Error loading stem: Package 'stem' not found in index\n",
            "[nltk_data] Downloading package wordnet to /root/nltk_data...\n",
            "[nltk_data]   Package wordnet is already up-to-date!\n"
          ],
          "name": "stdout"
        },
        {
          "output_type": "execute_result",
          "data": {
            "text/plain": [
              "True"
            ]
          },
          "metadata": {
            "tags": []
          },
          "execution_count": 2
        }
      ]
    },
    {
      "cell_type": "markdown",
      "metadata": {
        "id": "uUMoGvVz7BXT",
        "colab_type": "text"
      },
      "source": [
        "Let's download the Fake News dataset which is uploaded on my google drive:"
      ]
    },
    {
      "cell_type": "code",
      "metadata": {
        "id": "uJApyvjDwyxj",
        "colab_type": "code",
        "colab": {
          "base_uri": "https://localhost:8080/",
          "height": 84
        },
        "outputId": "dbac2829-1b87-4c08-ef5a-cc043e415ae0"
      },
      "source": [
        "!gdown --id 1fpjTnS50qX8HycGXhC0Yk4tjn8wpZ8wr"
      ],
      "execution_count": 3,
      "outputs": [
        {
          "output_type": "stream",
          "text": [
            "Downloading...\n",
            "From: https://drive.google.com/uc?id=1fpjTnS50qX8HycGXhC0Yk4tjn8wpZ8wr\n",
            "To: /content/train.csv\n",
            "98.6MB [00:00, 212MB/s]\n"
          ],
          "name": "stdout"
        }
      ]
    },
    {
      "cell_type": "markdown",
      "metadata": {
        "id": "cXOjHeo97S3A",
        "colab_type": "text"
      },
      "source": [
        "Let's read the CVS file: "
      ]
    },
    {
      "cell_type": "code",
      "metadata": {
        "id": "rq8xQkhlw0Jg",
        "colab_type": "code",
        "colab": {}
      },
      "source": [
        "df = pd.read_csv('/content/train.csv')"
      ],
      "execution_count": 4,
      "outputs": []
    },
    {
      "cell_type": "markdown",
      "metadata": {
        "id": "ebPO_1PG7Txm",
        "colab_type": "text"
      },
      "source": [
        "First few rows in the DataFrame:  "
      ]
    },
    {
      "cell_type": "code",
      "metadata": {
        "id": "f76Ekf_8w6oh",
        "colab_type": "code",
        "colab": {
          "base_uri": "https://localhost:8080/",
          "height": 198
        },
        "outputId": "7eed3e39-a09a-4a4b-9160-9d1aadcc8006"
      },
      "source": [
        "df.head() "
      ],
      "execution_count": 5,
      "outputs": [
        {
          "output_type": "execute_result",
          "data": {
            "text/html": [
              "<div>\n",
              "<style scoped>\n",
              "    .dataframe tbody tr th:only-of-type {\n",
              "        vertical-align: middle;\n",
              "    }\n",
              "\n",
              "    .dataframe tbody tr th {\n",
              "        vertical-align: top;\n",
              "    }\n",
              "\n",
              "    .dataframe thead th {\n",
              "        text-align: right;\n",
              "    }\n",
              "</style>\n",
              "<table border=\"1\" class=\"dataframe\">\n",
              "  <thead>\n",
              "    <tr style=\"text-align: right;\">\n",
              "      <th></th>\n",
              "      <th>id</th>\n",
              "      <th>title</th>\n",
              "      <th>author</th>\n",
              "      <th>text</th>\n",
              "      <th>label</th>\n",
              "    </tr>\n",
              "  </thead>\n",
              "  <tbody>\n",
              "    <tr>\n",
              "      <th>0</th>\n",
              "      <td>0</td>\n",
              "      <td>House Dem Aide: We Didn’t Even See Comey’s Let...</td>\n",
              "      <td>Darrell Lucus</td>\n",
              "      <td>House Dem Aide: We Didn’t Even See Comey’s Let...</td>\n",
              "      <td>1</td>\n",
              "    </tr>\n",
              "    <tr>\n",
              "      <th>1</th>\n",
              "      <td>1</td>\n",
              "      <td>FLYNN: Hillary Clinton, Big Woman on Campus - ...</td>\n",
              "      <td>Daniel J. Flynn</td>\n",
              "      <td>Ever get the feeling your life circles the rou...</td>\n",
              "      <td>0</td>\n",
              "    </tr>\n",
              "    <tr>\n",
              "      <th>2</th>\n",
              "      <td>2</td>\n",
              "      <td>Why the Truth Might Get You Fired</td>\n",
              "      <td>Consortiumnews.com</td>\n",
              "      <td>Why the Truth Might Get You Fired October 29, ...</td>\n",
              "      <td>1</td>\n",
              "    </tr>\n",
              "    <tr>\n",
              "      <th>3</th>\n",
              "      <td>3</td>\n",
              "      <td>15 Civilians Killed In Single US Airstrike Hav...</td>\n",
              "      <td>Jessica Purkiss</td>\n",
              "      <td>Videos 15 Civilians Killed In Single US Airstr...</td>\n",
              "      <td>1</td>\n",
              "    </tr>\n",
              "    <tr>\n",
              "      <th>4</th>\n",
              "      <td>4</td>\n",
              "      <td>Iranian woman jailed for fictional unpublished...</td>\n",
              "      <td>Howard Portnoy</td>\n",
              "      <td>Print \\nAn Iranian woman has been sentenced to...</td>\n",
              "      <td>1</td>\n",
              "    </tr>\n",
              "  </tbody>\n",
              "</table>\n",
              "</div>"
            ],
            "text/plain": [
              "   id  ... label\n",
              "0   0  ...     1\n",
              "1   1  ...     0\n",
              "2   2  ...     1\n",
              "3   3  ...     1\n",
              "4   4  ...     1\n",
              "\n",
              "[5 rows x 5 columns]"
            ]
          },
          "metadata": {
            "tags": []
          },
          "execution_count": 5
        }
      ]
    },
    {
      "cell_type": "markdown",
      "metadata": {
        "id": "ieTOZ2ty7YCs",
        "colab_type": "text"
      },
      "source": [
        "Let's see if we have any null values: "
      ]
    },
    {
      "cell_type": "code",
      "metadata": {
        "id": "jHMbpV8lw77H",
        "colab_type": "code",
        "colab": {
          "base_uri": "https://localhost:8080/",
          "height": 118
        },
        "outputId": "b6835a76-579f-4fa2-a1e7-e0d06fa8ee67"
      },
      "source": [
        "df.isnull().sum() "
      ],
      "execution_count": 6,
      "outputs": [
        {
          "output_type": "execute_result",
          "data": {
            "text/plain": [
              "id           0\n",
              "title      558\n",
              "author    1957\n",
              "text        39\n",
              "label        0\n",
              "dtype: int64"
            ]
          },
          "metadata": {
            "tags": []
          },
          "execution_count": 6
        }
      ]
    },
    {
      "cell_type": "markdown",
      "metadata": {
        "id": "PzrnVBI-7Zxc",
        "colab_type": "text"
      },
      "source": [
        "Looks like we have a few null values, Let's drop those values:"
      ]
    },
    {
      "cell_type": "code",
      "metadata": {
        "id": "soE92bLkxVpA",
        "colab_type": "code",
        "colab": {}
      },
      "source": [
        "# Drop nan values\n",
        "df = df.dropna()  "
      ],
      "execution_count": 7,
      "outputs": []
    },
    {
      "cell_type": "code",
      "metadata": {
        "id": "GsVoPml2xXCQ",
        "colab_type": "code",
        "colab": {}
      },
      "source": [
        "# Getting independent features\n",
        "X = df.drop('label', axis=1) "
      ],
      "execution_count": 8,
      "outputs": []
    },
    {
      "cell_type": "code",
      "metadata": {
        "id": "Seb54f4cxYwo",
        "colab_type": "code",
        "colab": {}
      },
      "source": [
        "# Getting dependent features\n",
        "Y = df['label']  "
      ],
      "execution_count": 9,
      "outputs": []
    },
    {
      "cell_type": "code",
      "metadata": {
        "id": "jnJXAEe5xZ8Q",
        "colab_type": "code",
        "colab": {
          "base_uri": "https://localhost:8080/",
          "height": 34
        },
        "outputId": "b131ded3-4814-4475-89a3-cda94c4a3dd2"
      },
      "source": [
        "X.shape"
      ],
      "execution_count": 10,
      "outputs": [
        {
          "output_type": "execute_result",
          "data": {
            "text/plain": [
              "(18285, 4)"
            ]
          },
          "metadata": {
            "tags": []
          },
          "execution_count": 10
        }
      ]
    },
    {
      "cell_type": "code",
      "metadata": {
        "id": "Op3HambbxdnI",
        "colab_type": "code",
        "colab": {
          "base_uri": "https://localhost:8080/",
          "height": 34
        },
        "outputId": "a42505df-de0b-495e-f0ac-a7a6cab13de4"
      },
      "source": [
        "Y.shape"
      ],
      "execution_count": 11,
      "outputs": [
        {
          "output_type": "execute_result",
          "data": {
            "text/plain": [
              "(18285,)"
            ]
          },
          "metadata": {
            "tags": []
          },
          "execution_count": 11
        }
      ]
    },
    {
      "cell_type": "markdown",
      "metadata": {
        "id": "JHwNYUnD7_g9",
        "colab_type": "text"
      },
      "source": [
        "Let's reset the index after removing the null Values:"
      ]
    },
    {
      "cell_type": "code",
      "metadata": {
        "id": "lfVvpMhDxjjO",
        "colab_type": "code",
        "colab": {}
      },
      "source": [
        "messages = X.copy()  \n",
        "messages.reset_index(inplace=True) # Resetting index after applying dropnan function "
      ],
      "execution_count": 12,
      "outputs": []
    },
    {
      "cell_type": "markdown",
      "metadata": {
        "id": "phOfbqYi7ndo",
        "colab_type": "text"
      },
      "source": [
        "Let's use NLTKs' WordLemmatizer which lemmatizes the words in the corpus and do some preprocessing also:"
      ]
    },
    {
      "cell_type": "code",
      "metadata": {
        "id": "inzFQ6vKxqYR",
        "colab_type": "code",
        "colab": {}
      },
      "source": [
        "# Data Preprocessing\n",
        "wordnet=WordNetLemmatizer() \n",
        "corpus = [] \n",
        "for i in range(0, len(messages)):\n",
        "    #print(i) \n",
        "    review = re.sub('[^a-zA-Z]', ' ', messages ['title'][i]) \n",
        "    review = review.lower() \n",
        "    review = review.split() \n",
        "    \n",
        "    review = [wordnet.lemmatize(word) for word in review if not word in stopwords.words('english')] # If word not in stopwords, \n",
        "    #we stem that word. All the stopwords are removed \n",
        "    review = ' '.join(review) # join all the list of words \n",
        "    corpus.append(review)  # appending into empty list "
      ],
      "execution_count": 13,
      "outputs": []
    },
    {
      "cell_type": "markdown",
      "metadata": {
        "id": "zVOKkELRxldi",
        "colab_type": "text"
      },
      "source": [
        "## OneHot Representation"
      ]
    },
    {
      "cell_type": "code",
      "metadata": {
        "id": "NPT4NYgSzBnC",
        "colab_type": "code",
        "colab": {}
      },
      "source": [
        "voc_size = 15000\n",
        "onehot_rep = [one_hot(words, voc_size) for words in corpus] \n",
        "#print(onehot_rep)  "
      ],
      "execution_count": 14,
      "outputs": []
    },
    {
      "cell_type": "markdown",
      "metadata": {
        "id": "6jdH1pc68K0f",
        "colab_type": "text"
      },
      "source": [
        "## Padding "
      ]
    },
    {
      "cell_type": "code",
      "metadata": {
        "id": "SZsOH3Y0zFBR",
        "colab_type": "code",
        "colab": {
          "base_uri": "https://localhost:8080/",
          "height": 135
        },
        "outputId": "141f6019-68f0-4c63-c9b2-c859780a0ad4"
      },
      "source": [
        "# Converts all the sentances to a fixed and equal lenght\n",
        "sent_lenght = 60\n",
        "embedded_docs = pad_sequences(onehot_rep, padding='post', maxlen = sent_lenght) # padding='pre'\n",
        "embedded_docs "
      ],
      "execution_count": 15,
      "outputs": [
        {
          "output_type": "execute_result",
          "data": {
            "text/plain": [
              "array([[13909,  1574,    45, ...,     0,     0,     0],\n",
              "       [13070, 12632,  6784, ...,     0,     0,     0],\n",
              "       [ 5638,  1203, 11768, ...,     0,     0,     0],\n",
              "       ...,\n",
              "       [10601,  6205,  9646, ...,     0,     0,     0],\n",
              "       [12090,  1769, 13750, ...,     0,     0,     0],\n",
              "       [ 9624,  5824,   742, ...,     0,     0,     0]], dtype=int32)"
            ]
          },
          "metadata": {
            "tags": []
          },
          "execution_count": 15
        }
      ]
    },
    {
      "cell_type": "code",
      "metadata": {
        "id": "602FVEgxzGqx",
        "colab_type": "code",
        "colab": {
          "base_uri": "https://localhost:8080/",
          "height": 34
        },
        "outputId": "38ed36c3-7d35-4a72-85f0-0c236b5d0ddc"
      },
      "source": [
        "len(embedded_docs)  "
      ],
      "execution_count": 16,
      "outputs": [
        {
          "output_type": "execute_result",
          "data": {
            "text/plain": [
              "18285"
            ]
          },
          "metadata": {
            "tags": []
          },
          "execution_count": 16
        }
      ]
    },
    {
      "cell_type": "markdown",
      "metadata": {
        "id": "PNFI2CHC8VBl",
        "colab_type": "text"
      },
      "source": [
        "## Simple RNN Model"
      ]
    },
    {
      "cell_type": "code",
      "metadata": {
        "id": "lVZmNT2uzI75",
        "colab_type": "code",
        "colab": {
          "base_uri": "https://localhost:8080/",
          "height": 337
        },
        "outputId": "23805a88-e2f4-42ac-e88e-1951213741b0"
      },
      "source": [
        "# Creating model\n",
        "embedding_vector_feature = 40\n",
        "model = Sequential() \n",
        "model.add(Embedding(voc_size, embedding_vector_feature, input_length=sent_lenght))\n",
        "model.add(Dropout(0.3))\n",
        "model.add(SimpleRNN(64)) \n",
        "model.add(Dropout(0.3))\n",
        "model.add(Dense(1, activation='sigmoid',kernel_regularizer=regularizers.l2(1e-4),\n",
        "    bias_regularizer=regularizers.l2(1e-4),\n",
        "    activity_regularizer=regularizers.l2(1e-5))) \n",
        "model.compile(loss='binary_crossentropy', optimizer='adam', metrics=['accuracy']) \n",
        "model.summary() \n",
        "model.output_shape "
      ],
      "execution_count": 17,
      "outputs": [
        {
          "output_type": "stream",
          "text": [
            "Model: \"sequential\"\n",
            "_________________________________________________________________\n",
            "Layer (type)                 Output Shape              Param #   \n",
            "=================================================================\n",
            "embedding (Embedding)        (None, 60, 40)            600000    \n",
            "_________________________________________________________________\n",
            "dropout (Dropout)            (None, 60, 40)            0         \n",
            "_________________________________________________________________\n",
            "simple_rnn (SimpleRNN)       (None, 64)                6720      \n",
            "_________________________________________________________________\n",
            "dropout_1 (Dropout)          (None, 64)                0         \n",
            "_________________________________________________________________\n",
            "dense (Dense)                (None, 1)                 65        \n",
            "=================================================================\n",
            "Total params: 606,785\n",
            "Trainable params: 606,785\n",
            "Non-trainable params: 0\n",
            "_________________________________________________________________\n"
          ],
          "name": "stdout"
        },
        {
          "output_type": "execute_result",
          "data": {
            "text/plain": [
              "(None, 1)"
            ]
          },
          "metadata": {
            "tags": []
          },
          "execution_count": 17
        }
      ]
    },
    {
      "cell_type": "code",
      "metadata": {
        "id": "cwn-SPedzKg5",
        "colab_type": "code",
        "colab": {}
      },
      "source": [
        "#print(model.predict(embedded_docs))"
      ],
      "execution_count": 18,
      "outputs": []
    },
    {
      "cell_type": "markdown",
      "metadata": {
        "id": "qzPWRWe58rzC",
        "colab_type": "text"
      },
      "source": [
        "converting the text arrays to numpy arrays:"
      ]
    },
    {
      "cell_type": "code",
      "metadata": {
        "id": "d8tQv_jXzOZB",
        "colab_type": "code",
        "colab": {}
      },
      "source": [
        "x_final = np.array(embedded_docs) \n",
        "y_final = np.array(Y)   "
      ],
      "execution_count": 19,
      "outputs": []
    },
    {
      "cell_type": "markdown",
      "metadata": {
        "id": "WltiVx9w84eR",
        "colab_type": "text"
      },
      "source": [
        "Let's split out Dataset:"
      ]
    },
    {
      "cell_type": "code",
      "metadata": {
        "id": "hGMJqvUXzPeB",
        "colab_type": "code",
        "colab": {}
      },
      "source": [
        "x_train, x_test, y_train, y_test = train_test_split(x_final, y_final, random_state=0, test_size=0.1)  "
      ],
      "execution_count": 20,
      "outputs": []
    },
    {
      "cell_type": "markdown",
      "metadata": {
        "id": "a8NkltLJB6Ak",
        "colab_type": "text"
      },
      "source": [
        "Fit Method:"
      ]
    },
    {
      "cell_type": "code",
      "metadata": {
        "id": "bRCCIQsLzQZp",
        "colab_type": "code",
        "colab": {
          "base_uri": "https://localhost:8080/",
          "height": 101
        },
        "outputId": "0c3a5001-e3e1-4df5-8983-f77429d523c9"
      },
      "source": [
        "model.fit(x_train, y_train, epochs=2, validation_data=(x_test, y_test), batch_size=32)  "
      ],
      "execution_count": 21,
      "outputs": [
        {
          "output_type": "stream",
          "text": [
            "Epoch 1/2\n",
            "515/515 [==============================] - 11s 21ms/step - loss: 0.3366 - accuracy: 0.8627 - val_loss: 0.2472 - val_accuracy: 0.9054\n",
            "Epoch 2/2\n",
            "515/515 [==============================] - 11s 21ms/step - loss: 0.1934 - accuracy: 0.9343 - val_loss: 0.2831 - val_accuracy: 0.8808\n"
          ],
          "name": "stdout"
        },
        {
          "output_type": "execute_result",
          "data": {
            "text/plain": [
              "<tensorflow.python.keras.callbacks.History at 0x7fcca23bcd68>"
            ]
          },
          "metadata": {
            "tags": []
          },
          "execution_count": 21
        }
      ]
    },
    {
      "cell_type": "markdown",
      "metadata": {
        "id": "PU-fi12-B3Wb",
        "colab_type": "text"
      },
      "source": [
        "Evaluation Metric:"
      ]
    },
    {
      "cell_type": "code",
      "metadata": {
        "id": "rn56rOVv9VGn",
        "colab_type": "code",
        "colab": {
          "base_uri": "https://localhost:8080/",
          "height": 51
        },
        "outputId": "c07070f8-3fc9-4b1d-cb67-089139895612"
      },
      "source": [
        "model.evaluate(x_test, y_test) "
      ],
      "execution_count": 22,
      "outputs": [
        {
          "output_type": "stream",
          "text": [
            "58/58 [==============================] - 0s 4ms/step - loss: 0.2831 - accuracy: 0.8808\n"
          ],
          "name": "stdout"
        },
        {
          "output_type": "execute_result",
          "data": {
            "text/plain": [
              "[0.28305497765541077, 0.8808091878890991]"
            ]
          },
          "metadata": {
            "tags": []
          },
          "execution_count": 22
        }
      ]
    },
    {
      "cell_type": "markdown",
      "metadata": {
        "id": "h0cYowNz8800",
        "colab_type": "text"
      },
      "source": [
        "## Confusion Matrix"
      ]
    },
    {
      "cell_type": "code",
      "metadata": {
        "id": "SrY1KLGlzVVw",
        "colab_type": "code",
        "colab": {
          "base_uri": "https://localhost:8080/",
          "height": 350
        },
        "outputId": "c31dacfa-b15c-41cd-b4e5-05c93466f079"
      },
      "source": [
        "y_pred = model.predict_classes(x_test)  \n",
        "cm = confusion_matrix(y_pred, y_test) \n",
        "fig, ax = plt.subplots(figsize=(8,5))\n",
        "sns.heatmap(cm, annot = True, cmap = 'YlGnBu', fmt='g'); \n",
        "plt.title('Confusion matrix', fontweight='bold')\n",
        "plt.ylabel('Actual label', fontweight='bold')\n",
        "plt.xlabel('Predicted label', fontweight='bold'); "
      ],
      "execution_count": 26,
      "outputs": [
        {
          "output_type": "display_data",
          "data": {
            "image/png": "[encoded data removed]",
            "text/plain": [
              "<Figure size 576x360 with 2 Axes>"
            ]
          },
          "metadata": {
            "tags": [],
            "needs_background": "light"
          }
        }
      ]
    },
    {
      "cell_type": "markdown",
      "metadata": {
        "id": "Epev8G7H9xI4",
        "colab_type": "text"
      },
      "source": [
        "## Classification Report"
      ]
    },
    {
      "cell_type": "code",
      "metadata": {
        "id": "9BKcFDAb9XXe",
        "colab_type": "code",
        "colab": {
          "base_uri": "https://localhost:8080/",
          "height": 169
        },
        "outputId": "ae160f91-9879-47ed-d207-495b55791de9"
      },
      "source": [
        "print(classification_report(y_pred, y_test))"
      ],
      "execution_count": 27,
      "outputs": [
        {
          "output_type": "stream",
          "text": [
            "              precision    recall  f1-score   support\n",
            "\n",
            "           0       0.93      0.86      0.90      1107\n",
            "           1       0.81      0.91      0.86       722\n",
            "\n",
            "    accuracy                           0.88      1829\n",
            "   macro avg       0.87      0.89      0.88      1829\n",
            "weighted avg       0.89      0.88      0.88      1829\n",
            "\n"
          ],
          "name": "stdout"
        }
      ]
    },
    {
      "cell_type": "markdown",
      "metadata": {
        "id": "7QwoTVAi8_Pj",
        "colab_type": "text"
      },
      "source": [
        "## Accuracy Score"
      ]
    },
    {
      "cell_type": "code",
      "metadata": {
        "id": "tEHrRyKzzWb6",
        "colab_type": "code",
        "colab": {
          "base_uri": "https://localhost:8080/",
          "height": 34
        },
        "outputId": "a9cbc735-8a4d-4e95-848e-391e1eace8ac"
      },
      "source": [
        "accuracy_score(y_pred, y_test)  "
      ],
      "execution_count": 28,
      "outputs": [
        {
          "output_type": "execute_result",
          "data": {
            "text/plain": [
              "0.8808091853471842"
            ]
          },
          "metadata": {
            "tags": []
          },
          "execution_count": 28
        }
      ]
    },
    {
      "cell_type": "markdown",
      "metadata": {
        "id": "I6QQjFtv_ccj",
        "colab_type": "text"
      },
      "source": [
        "## Summary\n",
        "\n",
        "You now have learned to:\n",
        "\n",
        "* Scratch Level understanding of How Text is converted to Vectors\n",
        "* Intuitively understand what SimpleRNN is\n",
        "* Preprocess data for the classifier\n",
        "* Visualize Model Metrics\n"
      ]
    },
    {
      "cell_type": "markdown",
      "metadata": {
        "id": "POA3c7PWAjwU",
        "colab_type": "text"
      },
      "source": [
        "## Refernces:\n",
        "- [NLTK](https://www.nltk.org/)\n",
        "- [RNN](https://www.tensorflow.org/guide/keras/rnn)\n",
        "- [Paper](https://arxiv.org/abs/1808.03314)"
      ]
    }
  ]
}